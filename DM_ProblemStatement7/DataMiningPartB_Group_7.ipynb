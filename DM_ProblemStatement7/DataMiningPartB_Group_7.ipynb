{
 "cells": [
  {
   "cell_type": "markdown",
   "metadata": {
    "id": "J0BQyBwNnDRi"
   },
   "source": [
    "<img src = \"https://www.bits-pilani.ac.in/Uploads/Campus/BITS_university_logo.gif\">"
   ]
  },
  {
   "cell_type": "markdown",
   "metadata": {
    "id": "wOCvWHupnDSZ"
   },
   "source": [
    "<h1><center>Work Integrated Learning Programmes Division<br>\n",
    "M.Tech in Software Systems<br>  ( Specialization in Data Analytics)\t\t<br>\n",
    "</center></h1>\n",
    "\n",
    "<h2><center>Assignment Part B – Problem Statement_PS1 [Weightage 15%]</center></h2>"
   ]
  },
  {
   "cell_type": "markdown",
   "metadata": {
    "id": "sp26I5vbnDSm"
   },
   "source": [
    "<ol>\n",
    "  <li>Change the name of the data file that is shared with the problem statement to include PS_ and GroupNo\n",
    "      (Example - DataMining_PS1_DatasetName_ANALYSIS_Groupno1.</li>\n",
    "  <li>If intermediate data files are created, retain in the present working directory and attach them during submission.</li>\n",
    "  <li>Retain the data file in the same directory as that of this workbook.</li>\n",
    "  <li>Retain the Visualizations that is produced in the file. Don't clear them away.</li>\n",
    "   \n",
    "  <li>Submissions done via means other than CANVAS will strictly be NOT graded.</li>\n",
    "</ol>"
   ]
  },
  {
   "cell_type": "markdown",
   "metadata": {
    "id": "GuvPynfInDS4"
   },
   "source": [
    "<style>\n",
    "table {\n",
    "  font-family: arial, sans-serif;\n",
    "  border-collapse: collapse;\n",
    "  width: 100%;\n",
    "}\n",
    "\n",
    "td, th {\n",
    "  border: 1px solid #dddddd;\n",
    "  text-align: left;\n",
    "  padding: 8px;\n",
    "}\n",
    "\n",
    "tr:nth-child(even) {\n",
    "  background-color: #dddddd;\n",
    "}\n",
    "</style>\n",
    "\n",
    "<h2>Group No: (mention your group number here)</h2>\n",
    "\n",
    "<table>\n",
    "  <tr>\n",
    "    <th>Full Name</th>\n",
    "    <th>BITS ID</th>\n",
    "  </tr>\n",
    "  <tr>\n",
    "    <td>SIDHANT BHAYANA</td>\n",
    "    <td>BITS ID 1</td>\n",
    "  </tr>\n",
    "  <tr>\n",
    "    <td>SARAL CHANDRA</td>\n",
    "    <td>BITS ID 2</td>\n",
    "  </tr>\n",
    "  <tr>\n",
    "    <td>SANDEEP SEN</td>\n",
    "    <td>BITS ID 3</td>\n",
    "  </tr>\n",
    "    <tr>\n",
    "    <td>SHAREN SS</td>\n",
    "    <td>BITS ID 4</td>\n",
    "  </tr>\n",
    "    <tr>\n",
    "    <td>DHRUBAJYOTI MAJUMDER</td>\n",
    "    <td>2022AB12503</td>\n",
    "  </tr>\n",
    "</table>"
   ]
  },
  {
   "cell_type": "markdown",
   "metadata": {},
   "source": [
    " \n",
    "<h1>Problem Statement to be decided by the group : _____</h1>"
   ]
  },
  {
   "cell_type": "markdown",
   "metadata": {
    "id": "SpP42_ZgnDTN"
   },
   "source": [
    "##  Download and Prep the Data: 5 Marks"
   ]
  },
  {
   "cell_type": "markdown",
   "metadata": {
    "id": "UVZP7GmMnDTV"
   },
   "source": [
    "<h4>Import the libraries needed</h4>"
   ]
  },
  {
   "cell_type": "code",
   "execution_count": 310,
   "metadata": {
    "id": "ru_e-YoynDTc"
   },
   "outputs": [],
   "source": [
    "import pandas as pd\n",
    "import matplotlib.pyplot as plt\n",
    "import seaborn as sns\n",
    "import numpy as np\n",
    "import plotly.express as px\n",
    "import plotly.graph_objs as go\n",
    "import datetime as dt\n",
    "from sklearn.cluster import KMeans\n",
    "from sklearn.preprocessing import StandardScaler"
   ]
  },
  {
   "cell_type": "markdown",
   "metadata": {
    "id": "l9k16HmSnDTj"
   },
   "source": [
    "<h4> Load data and store in dataframe </h4>"
   ]
  },
  {
   "cell_type": "code",
   "execution_count": 286,
   "metadata": {
    "id": "9nF2OKprnDTn",
    "scrolled": true
   },
   "outputs": [
    {
     "data": {
      "text/html": [
       "<div>\n",
       "<style scoped>\n",
       "    .dataframe tbody tr th:only-of-type {\n",
       "        vertical-align: middle;\n",
       "    }\n",
       "\n",
       "    .dataframe tbody tr th {\n",
       "        vertical-align: top;\n",
       "    }\n",
       "\n",
       "    .dataframe thead th {\n",
       "        text-align: right;\n",
       "    }\n",
       "</style>\n",
       "<table border=\"1\" class=\"dataframe\">\n",
       "  <thead>\n",
       "    <tr style=\"text-align: right;\">\n",
       "      <th></th>\n",
       "      <th>location</th>\n",
       "      <th>date</th>\n",
       "      <th>variant</th>\n",
       "      <th>num_sequences</th>\n",
       "      <th>perc_sequences</th>\n",
       "      <th>num_sequences_total</th>\n",
       "    </tr>\n",
       "  </thead>\n",
       "  <tbody>\n",
       "    <tr>\n",
       "      <th>0</th>\n",
       "      <td>Angola</td>\n",
       "      <td>2020-07-06</td>\n",
       "      <td>Alpha</td>\n",
       "      <td>0</td>\n",
       "      <td>0.0</td>\n",
       "      <td>3</td>\n",
       "    </tr>\n",
       "    <tr>\n",
       "      <th>1</th>\n",
       "      <td>Angola</td>\n",
       "      <td>2020-07-06</td>\n",
       "      <td>B.1.1.277</td>\n",
       "      <td>0</td>\n",
       "      <td>0.0</td>\n",
       "      <td>3</td>\n",
       "    </tr>\n",
       "    <tr>\n",
       "      <th>2</th>\n",
       "      <td>Angola</td>\n",
       "      <td>2020-07-06</td>\n",
       "      <td>B.1.1.302</td>\n",
       "      <td>0</td>\n",
       "      <td>0.0</td>\n",
       "      <td>3</td>\n",
       "    </tr>\n",
       "    <tr>\n",
       "      <th>3</th>\n",
       "      <td>Angola</td>\n",
       "      <td>2020-07-06</td>\n",
       "      <td>B.1.1.519</td>\n",
       "      <td>0</td>\n",
       "      <td>0.0</td>\n",
       "      <td>3</td>\n",
       "    </tr>\n",
       "    <tr>\n",
       "      <th>4</th>\n",
       "      <td>Angola</td>\n",
       "      <td>2020-07-06</td>\n",
       "      <td>B.1.160</td>\n",
       "      <td>0</td>\n",
       "      <td>0.0</td>\n",
       "      <td>3</td>\n",
       "    </tr>\n",
       "  </tbody>\n",
       "</table>\n",
       "</div>"
      ],
      "text/plain": [
       "  location        date    variant  num_sequences  perc_sequences  \\\n",
       "0   Angola  2020-07-06      Alpha              0             0.0   \n",
       "1   Angola  2020-07-06  B.1.1.277              0             0.0   \n",
       "2   Angola  2020-07-06  B.1.1.302              0             0.0   \n",
       "3   Angola  2020-07-06  B.1.1.519              0             0.0   \n",
       "4   Angola  2020-07-06    B.1.160              0             0.0   \n",
       "\n",
       "   num_sequences_total  \n",
       "0                    3  \n",
       "1                    3  \n",
       "2                    3  \n",
       "3                    3  \n",
       "4                    3  "
      ]
     },
     "execution_count": 286,
     "metadata": {},
     "output_type": "execute_result"
    }
   ],
   "source": [
    "df = pd.read_csv('DataMining_PS1_DatasetName_ANALYSIS_Groupno7.csv')\n",
    "df.head()"
   ]
  },
  {
   "cell_type": "code",
   "execution_count": 147,
   "metadata": {
    "id": "nOd1XdJEnDTt"
   },
   "outputs": [
    {
     "data": {
      "text/plain": [
       "Index(['location', 'date', 'variant', 'num_sequences', 'perc_sequences',\n",
       "       'num_sequences_total'],\n",
       "      dtype='object')"
      ]
     },
     "execution_count": 147,
     "metadata": {},
     "output_type": "execute_result"
    }
   ],
   "source": [
    "df.columns"
   ]
  },
  {
   "cell_type": "code",
   "execution_count": 149,
   "metadata": {},
   "outputs": [
    {
     "data": {
      "text/html": [
       "<div>\n",
       "<style scoped>\n",
       "    .dataframe tbody tr th:only-of-type {\n",
       "        vertical-align: middle;\n",
       "    }\n",
       "\n",
       "    .dataframe tbody tr th {\n",
       "        vertical-align: top;\n",
       "    }\n",
       "\n",
       "    .dataframe thead th {\n",
       "        text-align: right;\n",
       "    }\n",
       "</style>\n",
       "<table border=\"1\" class=\"dataframe\">\n",
       "  <thead>\n",
       "    <tr style=\"text-align: right;\">\n",
       "      <th></th>\n",
       "      <th>num_sequences</th>\n",
       "      <th>perc_sequences</th>\n",
       "      <th>num_sequences_total</th>\n",
       "    </tr>\n",
       "  </thead>\n",
       "  <tbody>\n",
       "    <tr>\n",
       "      <th>count</th>\n",
       "      <td>100416.000000</td>\n",
       "      <td>100416.000000</td>\n",
       "      <td>100416.000000</td>\n",
       "    </tr>\n",
       "    <tr>\n",
       "      <th>mean</th>\n",
       "      <td>72.171676</td>\n",
       "      <td>6.154355</td>\n",
       "      <td>1509.582457</td>\n",
       "    </tr>\n",
       "    <tr>\n",
       "      <th>std</th>\n",
       "      <td>1669.262169</td>\n",
       "      <td>21.898989</td>\n",
       "      <td>8445.291772</td>\n",
       "    </tr>\n",
       "    <tr>\n",
       "      <th>min</th>\n",
       "      <td>0.000000</td>\n",
       "      <td>-0.010000</td>\n",
       "      <td>1.000000</td>\n",
       "    </tr>\n",
       "    <tr>\n",
       "      <th>25%</th>\n",
       "      <td>0.000000</td>\n",
       "      <td>0.000000</td>\n",
       "      <td>12.000000</td>\n",
       "    </tr>\n",
       "    <tr>\n",
       "      <th>50%</th>\n",
       "      <td>0.000000</td>\n",
       "      <td>0.000000</td>\n",
       "      <td>59.000000</td>\n",
       "    </tr>\n",
       "    <tr>\n",
       "      <th>75%</th>\n",
       "      <td>0.000000</td>\n",
       "      <td>0.000000</td>\n",
       "      <td>394.000000</td>\n",
       "    </tr>\n",
       "    <tr>\n",
       "      <th>max</th>\n",
       "      <td>142280.000000</td>\n",
       "      <td>100.000000</td>\n",
       "      <td>146170.000000</td>\n",
       "    </tr>\n",
       "  </tbody>\n",
       "</table>\n",
       "</div>"
      ],
      "text/plain": [
       "       num_sequences  perc_sequences  num_sequences_total\n",
       "count  100416.000000   100416.000000        100416.000000\n",
       "mean       72.171676        6.154355          1509.582457\n",
       "std      1669.262169       21.898989          8445.291772\n",
       "min         0.000000       -0.010000             1.000000\n",
       "25%         0.000000        0.000000            12.000000\n",
       "50%         0.000000        0.000000            59.000000\n",
       "75%         0.000000        0.000000           394.000000\n",
       "max    142280.000000      100.000000        146170.000000"
      ]
     },
     "execution_count": 149,
     "metadata": {},
     "output_type": "execute_result"
    }
   ],
   "source": [
    "df.describe()"
   ]
  },
  {
   "cell_type": "code",
   "execution_count": null,
   "metadata": {},
   "outputs": [],
   "source": [
    "Information about columns :-\n",
    "location: this is the country for which the variants information is provided\n",
    "date: date for the data entry\n",
    "variant: this is the variant corresponding to this data entry\n",
    "num_sequences: the number of sequences processed (for the country, variant and date)\n",
    "perc_sequences: percentage of sequences from the total number of sequences (for the country, variant and date)\n",
    "num_sequences_total: total number of sequences (for the country, variant and date)"
   ]
  },
  {
   "cell_type": "markdown",
   "metadata": {
    "id": "ratiPWMcnDTx"
   },
   "source": [
    "## Question 1 - Preprocessing and Data Visualization\n",
    "<h5>Describe the data\n",
    "<h4>1) Fill the missing value for one of the continous variables with Mean(average)/Median for proper data visualization<br>\n",
    "    <h3> or\n",
    "<h4>1) Fill the missing value for one of the categorical variables with mode for proper data visualization\n",
    "    \n",
    "\n",
    " \n",
    "<h4>2) Do Univariate analysis for any 2 numeric variables from the dataset\n",
    "    \n",
    "<br>\n",
    "<h4>3) Perform another preprocessing task and explain\n",
    " \n",
    "<h4>4) Visualize the data with relevant charts(atleast 2) and interpret the observations<\\h4>\n",
    "    \n",
    "<h4>Write the python code in the below cell to create appropriate visual to perform the above task.\n",
    "<h4> Answer in markdown cells below the visual\n",
    "<br><br>\n",
    " "
   ]
  },
  {
   "cell_type": "code",
   "execution_count": 131,
   "metadata": {},
   "outputs": [
    {
     "name": "stdout",
     "output_type": "stream",
     "text": [
      "Alpha\n"
     ]
    },
    {
     "data": {
      "text/html": [
       "<div>\n",
       "<style scoped>\n",
       "    .dataframe tbody tr th:only-of-type {\n",
       "        vertical-align: middle;\n",
       "    }\n",
       "\n",
       "    .dataframe tbody tr th {\n",
       "        vertical-align: top;\n",
       "    }\n",
       "\n",
       "    .dataframe thead th {\n",
       "        text-align: right;\n",
       "    }\n",
       "</style>\n",
       "<table border=\"1\" class=\"dataframe\">\n",
       "  <thead>\n",
       "    <tr style=\"text-align: right;\">\n",
       "      <th></th>\n",
       "      <th>location</th>\n",
       "      <th>date</th>\n",
       "      <th>variant</th>\n",
       "      <th>num_sequences</th>\n",
       "      <th>perc_sequences</th>\n",
       "      <th>num_sequences_total</th>\n",
       "    </tr>\n",
       "  </thead>\n",
       "  <tbody>\n",
       "    <tr>\n",
       "      <th>0</th>\n",
       "      <td>Angola</td>\n",
       "      <td>2020-07-06</td>\n",
       "      <td>Alpha</td>\n",
       "      <td>0</td>\n",
       "      <td>0.0</td>\n",
       "      <td>3</td>\n",
       "    </tr>\n",
       "    <tr>\n",
       "      <th>1</th>\n",
       "      <td>Angola</td>\n",
       "      <td>2020-07-06</td>\n",
       "      <td>B.1.1.277</td>\n",
       "      <td>0</td>\n",
       "      <td>0.0</td>\n",
       "      <td>3</td>\n",
       "    </tr>\n",
       "    <tr>\n",
       "      <th>2</th>\n",
       "      <td>Angola</td>\n",
       "      <td>2020-07-06</td>\n",
       "      <td>B.1.1.302</td>\n",
       "      <td>0</td>\n",
       "      <td>0.0</td>\n",
       "      <td>3</td>\n",
       "    </tr>\n",
       "    <tr>\n",
       "      <th>3</th>\n",
       "      <td>Angola</td>\n",
       "      <td>2020-07-06</td>\n",
       "      <td>B.1.1.519</td>\n",
       "      <td>0</td>\n",
       "      <td>0.0</td>\n",
       "      <td>3</td>\n",
       "    </tr>\n",
       "    <tr>\n",
       "      <th>4</th>\n",
       "      <td>Angola</td>\n",
       "      <td>2020-07-06</td>\n",
       "      <td>B.1.160</td>\n",
       "      <td>0</td>\n",
       "      <td>0.0</td>\n",
       "      <td>3</td>\n",
       "    </tr>\n",
       "  </tbody>\n",
       "</table>\n",
       "</div>"
      ],
      "text/plain": [
       "  location        date    variant  num_sequences  perc_sequences  \\\n",
       "0   Angola  2020-07-06      Alpha              0             0.0   \n",
       "1   Angola  2020-07-06  B.1.1.277              0             0.0   \n",
       "2   Angola  2020-07-06  B.1.1.302              0             0.0   \n",
       "3   Angola  2020-07-06  B.1.1.519              0             0.0   \n",
       "4   Angola  2020-07-06    B.1.160              0             0.0   \n",
       "\n",
       "   num_sequences_total  \n",
       "0                    3  \n",
       "1                    3  \n",
       "2                    3  \n",
       "3                    3  \n",
       "4                    3  "
      ]
     },
     "execution_count": 131,
     "metadata": {},
     "output_type": "execute_result"
    }
   ],
   "source": [
    "# 1.) For Categorical Variable:\n",
    "\n",
    "# Find the mode of the 'categorical_variable'\n",
    "mode_value = df['variant'].mode()[0]\n",
    "print(mode_value)\n",
    "# Fill missing values with the mode\n",
    "df['variant'] = df['variant'].fillna(mode_value)\n",
    "df.head()"
   ]
  },
  {
   "cell_type": "code",
   "execution_count": 132,
   "metadata": {},
   "outputs": [
    {
     "name": "stdout",
     "output_type": "stream",
     "text": [
      "count    100416.000000\n",
      "mean         72.171676\n",
      "std        1669.262169\n",
      "min           0.000000\n",
      "25%           0.000000\n",
      "50%           0.000000\n",
      "75%           0.000000\n",
      "max      142280.000000\n",
      "Name: num_sequences, dtype: float64\n"
     ]
    },
    {
     "data": {
      "text/plain": [
       "<Axes: >"
      ]
     },
     "execution_count": 132,
     "metadata": {},
     "output_type": "execute_result"
    },
    {
     "data": {
      "image/png": "[encoded data removed]",
      "text/plain": [
       "<Figure size 640x480 with 1 Axes>"
      ]
     },
     "metadata": {},
     "output_type": "display_data"
    }
   ],
   "source": [
    "# 2.) Univariate analysis for any 2 numeric variables from the dataset\n",
    "\n",
    "# Univariate analysis for numeric_variable_1\n",
    "print(df['num_sequences'].describe())\n",
    "df['num_sequences'].plot(kind='line')\n",
    "\n"
   ]
  },
  {
   "cell_type": "code",
   "execution_count": 133,
   "metadata": {
    "id": "y_HuRfLdnDT1"
   },
   "outputs": [
    {
     "name": "stdout",
     "output_type": "stream",
     "text": [
      "count    100416.000000\n",
      "mean          6.154355\n",
      "std          21.898989\n",
      "min          -0.010000\n",
      "25%           0.000000\n",
      "50%           0.000000\n",
      "75%           0.000000\n",
      "max         100.000000\n",
      "Name: perc_sequences, dtype: float64\n"
     ]
    },
    {
     "data": {
      "text/plain": [
       "<Axes: >"
      ]
     },
     "execution_count": 133,
     "metadata": {},
     "output_type": "execute_result"
    },
    {
     "data": {
      "image/png": "[encoded data removed]",
      "text/plain": [
       "<Figure size 640x480 with 1 Axes>"
      ]
     },
     "metadata": {},
     "output_type": "display_data"
    }
   ],
   "source": [
    "# Univariate analysis for numeric_variable_2\n",
    "print(df['perc_sequences'].describe())\n",
    "df['perc_sequences'].hist()\n"
   ]
  },
  {
   "cell_type": "code",
   "execution_count": 173,
   "metadata": {
    "id": "Rs2QzLvdnDT-"
   },
   "outputs": [
    {
     "name": "stdout",
     "output_type": "stream",
     "text": [
      "Unique values in 'variant' column before preprocessing:\n",
      "['Alpha' 'B.1.1.277' 'B.1.1.302' 'B.1.1.519' 'B.1.160' 'B.1.177' 'B.1.221'\n",
      " 'B.1.258' 'B.1.367' 'B.1.620' 'Beta' 'Delta' 'Epsilon' 'Eta' 'Gamma'\n",
      " 'Iota' 'Kappa' 'Lambda' 'Mu' 'Omicron' 'S:677H.Robin1' 'S:677P.Pelican'\n",
      " 'others' 'non_who']\n"
     ]
    }
   ],
   "source": [
    "# 3) Perform another preprocessing task and explain - not completed\n",
    "df = pd.read_csv(\"DataMining_PS1_DatasetName_ANALYSIS_Groupno7.csv\")\n",
    "# Display unique values in the 'variant' column before preprocessing\n",
    "print(\"Unique values in 'variant' column before preprocessing:\")\n",
    "print(df['variant'].unique())\n",
    "\n",
    "\n",
    "\n"
   ]
  },
  {
   "cell_type": "code",
   "execution_count": 174,
   "metadata": {},
   "outputs": [
    {
     "name": "stdout",
     "output_type": "stream",
     "text": [
      "['Alpha' 'B.1.1.277' 'B.1.1.302' 'B.1.1.519' 'B.1.160' 'B.1.177' 'B.1.221'\n",
      " 'B.1.258' 'B.1.367' 'B.1.620' 'Beta' 'Delta' 'Epsilon' 'Eta' 'Gamma'\n",
      " 'Iota' 'Kappa' 'Lambda' 'Mu' 'Omicron' 'S:677H.Robin1' 'S:677P.Pelican'\n",
      " 'others']\n"
     ]
    }
   ],
   "source": [
    "# removing the variant non_who\n",
    "df=df[df[\"variant\"]!=\"non_who\"]\n",
    "print(df['variant'].unique()) "
   ]
  },
  {
   "cell_type": "code",
   "execution_count": 151,
   "metadata": {},
   "outputs": [
    {
     "data": {
      "image/png": "[encoded data removed]",
      "text/plain": [
       "<Figure size 800x1200 with 1 Axes>"
      ]
     },
     "metadata": {},
     "output_type": "display_data"
    },
    {
     "name": "stdout",
     "output_type": "stream",
     "text": [
      "\n",
      "The highest effected country is United States with  25304945 number of sequences.\n",
      "\n"
     ]
    }
   ],
   "source": [
    "# 4) Visualize the data with relevant charts(atleast 2) and interpret the observations<\\h4>\n",
    "data = pd.read_csv('DataMining_PS1_DatasetName_ANALYSIS_Groupno7.csv')\n",
    "data_total_seq= data[data[\"num_sequences\"] > 0.0].groupby('location').agg({'num_sequences_total':'sum'}).reset_index().sort_values(\"num_sequences_total\", ascending=False)\n",
    "plt.figure(figsize=(8,12))\n",
    "plt.ticklabel_format(style = 'plain')\n",
    "sns.barplot(x= data_total_seq[data_total_seq[\"num_sequences_total\"] > 100000].num_sequences_total, y= data_total_seq[data_total_seq[\"num_sequences_total\"] > 100000].location)\n",
    "plt.title(\"All variants\")\n",
    "plt.show()\n",
    "print(\"\\nThe highest effected country is \"+ str(data_total_seq.set_index(\"location\").index[0]) + f\" with  {data_total_seq.num_sequences_total.max()} number of sequences.\\n\")"
   ]
  },
  {
   "cell_type": "code",
   "execution_count": null,
   "metadata": {},
   "outputs": [],
   "source": [
    "Interpretation:\n",
    "Bar Chart:\n",
    "The horizontal bar chart shows the total number of sequences for different countries.\n",
    "-It seems to include only countries with more than 100,000 total sequences.\n",
    "Printed Information:\n",
    "-The printed information indicates the country with the highest number of infected people, which is determined based on the highest total sequences.\n",
    "Observation:\n",
    "-The chart provides a visual comparison of the impact across countries, focusing on those with higher numbers of total sequences.\n",
    "-The highest affected country is identified in the printed information."
   ]
  },
  {
   "cell_type": "code",
   "execution_count": 160,
   "metadata": {},
   "outputs": [
    {
     "data": {
      "application/vnd.plotly.v1+json": {
       "config": {
        "plotlyServerURL": "https://plot.ly"
       },
       "data": [
        {
         "coloraxis": "coloraxis",
         "geo": "geo",
         "hovertemplate": "<b>%{hovertext}</b><br><br>location=%{location}<br>num of cases=%{z}<extra></extra>",
         "hovertext": [
          "United States",
          "United Kingdom",
          "Germany",
          "Denmark",
          "Canada",
          "Japan",
          "France",
          "Sweden",
          "Switzerland",
          "India",
          "Brazil",
          "Netherlands",
          "Italy",
          "Spain",
          "Turkey",
          "Belgium",
          "Australia",
          "Ireland",
          "Slovenia",
          "Mexico",
          "Poland",
          "Norway",
          "Israel",
          "South Africa",
          "Lithuania",
          "Portugal",
          "Finland",
          "South Korea",
          "Czechia",
          "Luxembourg",
          "Slovakia",
          "Chile",
          "Croatia",
          "Philippines",
          "Austria",
          "Peru",
          "Greece",
          "Russia",
          "Indonesia",
          "Singapore",
          "Colombia",
          "Bulgaria",
          "Thailand",
          "Romania",
          "Argentina",
          "Iceland",
          "Estonia",
          "Malaysia",
          "Latvia",
          "Kenya",
          "New Zealand",
          "Qatar",
          "Bangladesh",
          "Nigeria",
          "Ecuador",
          "Papua New Guinea",
          "Aruba",
          "Hong Kong",
          "United Arab Emirates",
          "Sri Lanka",
          "Ghana",
          "Bahrain",
          "Botswana",
          "Costa Rica",
          "Cambodia",
          "Vietnam",
          "Sint Maarten (Dutch part)",
          "Pakistan",
          "Guatemala",
          "Trinidad and Tobago",
          "Egypt",
          "Jordan",
          "Zambia",
          "Angola",
          "Lebanon",
          "Bosnia and Herzegovina",
          "Kosovo",
          "Curacao",
          "Suriname",
          "Mozambique",
          "Paraguay",
          "Maldives",
          "Gambia",
          "Georgia",
          "Malawi",
          "Uganda",
          "Madagascar",
          "Benin",
          "North Macedonia",
          "Senegal",
          "Rwanda",
          "Zimbabwe",
          "Uruguay",
          "Ukraine",
          "Malta",
          "Cyprus",
          "Dominican Republic",
          "Seychelles",
          "Cameroon",
          "Fiji",
          "Ethiopia",
          "Serbia",
          "Mauritius",
          "Liechtenstein",
          "Montenegro",
          "Oman",
          "Kazakhstan",
          "Morocco",
          "Iran",
          "Nepal",
          "Djibouti",
          "Jamaica",
          "Togo",
          "Brunei",
          "Kuwait",
          "Hungary",
          "Belize",
          "Iraq",
          "Moldova",
          "Mongolia",
          "Monaco"
         ],
         "locationmode": "country names",
         "locations": [
          "United States",
          "United Kingdom",
          "Germany",
          "Denmark",
          "Canada",
          "Japan",
          "France",
          "Sweden",
          "Switzerland",
          "India",
          "Brazil",
          "Netherlands",
          "Italy",
          "Spain",
          "Turkey",
          "Belgium",
          "Australia",
          "Ireland",
          "Slovenia",
          "Mexico",
          "Poland",
          "Norway",
          "Israel",
          "South Africa",
          "Lithuania",
          "Portugal",
          "Finland",
          "South Korea",
          "Czechia",
          "Luxembourg",
          "Slovakia",
          "Chile",
          "Croatia",
          "Philippines",
          "Austria",
          "Peru",
          "Greece",
          "Russia",
          "Indonesia",
          "Singapore",
          "Colombia",
          "Bulgaria",
          "Thailand",
          "Romania",
          "Argentina",
          "Iceland",
          "Estonia",
          "Malaysia",
          "Latvia",
          "Kenya",
          "New Zealand",
          "Qatar",
          "Bangladesh",
          "Nigeria",
          "Ecuador",
          "Papua New Guinea",
          "Aruba",
          "Hong Kong",
          "United Arab Emirates",
          "Sri Lanka",
          "Ghana",
          "Bahrain",
          "Botswana",
          "Costa Rica",
          "Cambodia",
          "Vietnam",
          "Sint Maarten (Dutch part)",
          "Pakistan",
          "Guatemala",
          "Trinidad and Tobago",
          "Egypt",
          "Jordan",
          "Zambia",
          "Angola",
          "Lebanon",
          "Bosnia and Herzegovina",
          "Kosovo",
          "Curacao",
          "Suriname",
          "Mozambique",
          "Paraguay",
          "Maldives",
          "Gambia",
          "Georgia",
          "Malawi",
          "Uganda",
          "Madagascar",
          "Benin",
          "North Macedonia",
          "Senegal",
          "Rwanda",
          "Zimbabwe",
          "Uruguay",
          "Ukraine",
          "Malta",
          "Cyprus",
          "Dominican Republic",
          "Seychelles",
          "Cameroon",
          "Fiji",
          "Ethiopia",
          "Serbia",
          "Mauritius",
          "Liechtenstein",
          "Montenegro",
          "Oman",
          "Kazakhstan",
          "Morocco",
          "Iran",
          "Nepal",
          "Djibouti",
          "Jamaica",
          "Togo",
          "Brunei",
          "Kuwait",
          "Hungary",
          "Belize",
          "Iraq",
          "Moldova",
          "Mongolia",
          "Monaco"
         ],
         "name": "",
         "type": "choropleth",
         "z": [
          49960248,
          37427568,
          7851432,
          6728880,
          4365240,
          4268136,
          3602784,
          3308496,
          2392008,
          2184672,
          2160480,
          1985928,
          1910832,
          1877736,
          1844592,
          1800648,
          1132776,
          1090272,
          1048224,
          1027992,
          945216,
          903792,
          863928,
          623664,
          609192,
          549408,
          536640,
          499152,
          488688,
          455256,
          423552,
          418440,
          325656,
          305712,
          301920,
          293040,
          292896,
          276936,
          273864,
          247752,
          246840,
          245616,
          216432,
          205584,
          201864,
          198576,
          193008,
          173808,
          150960,
          127128,
          114216,
          97128,
          88800,
          88176,
          84552,
          80784,
          72000,
          60456,
          59760,
          56496,
          56232,
          53808,
          52800,
          51672,
          47472,
          43320,
          43152,
          37728,
          34776,
          34464,
          32040,
          28536,
          26808,
          25320,
          24216,
          23808,
          23760,
          23472,
          22344,
          22248,
          21096,
          20760,
          20712,
          20160,
          19464,
          19080,
          18528,
          18000,
          17712,
          16680,
          16536,
          16464,
          16368,
          14736,
          14472,
          14160,
          13560,
          13032,
          12864,
          12600,
          12528,
          11448,
          11232,
          11064,
          10728,
          10704,
          10296,
          9600,
          8856,
          8832,
          8808,
          8784,
          8112,
          7944,
          7872,
          7824,
          7536,
          4008,
          3648,
          3600,
          2016
         ]
        }
       ],
       "layout": {
        "autosize": true,
        "coloraxis": {
         "cmax": 10000000,
         "cmin": 1,
         "colorbar": {
          "title": {
           "text": "num of cases"
          }
         },
         "colorscale": [
          [
           0,
           "#0d0887"
          ],
          [
           0.1111111111111111,
           "#46039f"
          ],
          [
           0.2222222222222222,
           "#7201a8"
          ],
          [
           0.3333333333333333,
           "#9c179e"
          ],
          [
           0.4444444444444444,
           "#bd3786"
          ],
          [
           0.5555555555555556,
           "#d8576b"
          ],
          [
           0.6666666666666666,
           "#ed7953"
          ],
          [
           0.7777777777777778,
           "#fb9f3a"
          ],
          [
           0.8888888888888888,
           "#fdca26"
          ],
          [
           1,
           "#f0f921"
          ]
         ]
        },
        "dragmode": "pan",
        "geo": {
         "center": {
          "lat": 0,
          "lon": 0
         },
         "domain": {
          "x": [
           0,
           1
          ],
          "y": [
           0,
           1
          ]
         },
         "fitbounds": false,
         "projection": {
          "rotation": {
           "lon": 0
          },
          "scale": 1
         }
        },
        "legend": {
         "tracegroupgap": 0
        },
        "margin": {
         "t": 60
        },
        "template": {
         "data": {
          "bar": [
           {
            "error_x": {
             "color": "#2a3f5f"
            },
            "error_y": {
             "color": "#2a3f5f"
            },
            "marker": {
             "line": {
              "color": "#E5ECF6",
              "width": 0.5
             },
             "pattern": {
              "fillmode": "overlay",
              "size": 10,
              "solidity": 0.2
             }
            },
            "type": "bar"
           }
          ],
          "barpolar": [
           {
            "marker": {
             "line": {
              "color": "#E5ECF6",
              "width": 0.5
             },
             "pattern": {
              "fillmode": "overlay",
              "size": 10,
              "solidity": 0.2
             }
            },
            "type": "barpolar"
           }
          ],
          "carpet": [
           {
            "aaxis": {
             "endlinecolor": "#2a3f5f",
             "gridcolor": "white",
             "linecolor": "white",
             "minorgridcolor": "white",
             "startlinecolor": "#2a3f5f"
            },
            "baxis": {
             "endlinecolor": "#2a3f5f",
             "gridcolor": "white",
             "linecolor": "white",
             "minorgridcolor": "white",
             "startlinecolor": "#2a3f5f"
            },
            "type": "carpet"
           }
          ],
          "choropleth": [
           {
            "colorbar": {
             "outlinewidth": 0,
             "ticks": ""
            },
            "type": "choropleth"
           }
          ],
          "contour": [
           {
            "colorbar": {
             "outlinewidth": 0,
             "ticks": ""
            },
            "colorscale": [
             [
              0,
              "#0d0887"
             ],
             [
              0.1111111111111111,
              "#46039f"
             ],
             [
              0.2222222222222222,
              "#7201a8"
             ],
             [
              0.3333333333333333,
              "#9c179e"
             ],
             [
              0.4444444444444444,
              "#bd3786"
             ],
             [
              0.5555555555555556,
              "#d8576b"
             ],
             [
              0.6666666666666666,
              "#ed7953"
             ],
             [
              0.7777777777777778,
              "#fb9f3a"
             ],
             [
              0.8888888888888888,
              "#fdca26"
             ],
             [
              1,
              "#f0f921"
             ]
            ],
            "type": "contour"
           }
          ],
          "contourcarpet": [
           {
            "colorbar": {
             "outlinewidth": 0,
             "ticks": ""
            },
            "type": "contourcarpet"
           }
          ],
          "heatmap": [
           {
            "colorbar": {
             "outlinewidth": 0,
             "ticks": ""
            },
            "colorscale": [
             [
              0,
              "#0d0887"
             ],
             [
              0.1111111111111111,
              "#46039f"
             ],
             [
              0.2222222222222222,
              "#7201a8"
             ],
             [
              0.3333333333333333,
              "#9c179e"
             ],
             [
              0.4444444444444444,
              "#bd3786"
             ],
             [
              0.5555555555555556,
              "#d8576b"
             ],
             [
              0.6666666666666666,
              "#ed7953"
             ],
             [
              0.7777777777777778,
              "#fb9f3a"
             ],
             [
              0.8888888888888888,
              "#fdca26"
             ],
             [
              1,
              "#f0f921"
             ]
            ],
            "type": "heatmap"
           }
          ],
          "heatmapgl": [
           {
            "colorbar": {
             "outlinewidth": 0,
             "ticks": ""
            },
            "colorscale": [
             [
              0,
              "#0d0887"
             ],
             [
              0.1111111111111111,
              "#46039f"
             ],
             [
              0.2222222222222222,
              "#7201a8"
             ],
             [
              0.3333333333333333,
              "#9c179e"
             ],
             [
              0.4444444444444444,
              "#bd3786"
             ],
             [
              0.5555555555555556,
              "#d8576b"
             ],
             [
              0.6666666666666666,
              "#ed7953"
             ],
             [
              0.7777777777777778,
              "#fb9f3a"
             ],
             [
              0.8888888888888888,
              "#fdca26"
             ],
             [
              1,
              "#f0f921"
             ]
            ],
            "type": "heatmapgl"
           }
          ],
          "histogram": [
           {
            "marker": {
             "pattern": {
              "fillmode": "overlay",
              "size": 10,
              "solidity": 0.2
             }
            },
            "type": "histogram"
           }
          ],
          "histogram2d": [
           {
            "colorbar": {
             "outlinewidth": 0,
             "ticks": ""
            },
            "colorscale": [
             [
              0,
              "#0d0887"
             ],
             [
              0.1111111111111111,
              "#46039f"
             ],
             [
              0.2222222222222222,
              "#7201a8"
             ],
             [
              0.3333333333333333,
              "#9c179e"
             ],
             [
              0.4444444444444444,
              "#bd3786"
             ],
             [
              0.5555555555555556,
              "#d8576b"
             ],
             [
              0.6666666666666666,
              "#ed7953"
             ],
             [
              0.7777777777777778,
              "#fb9f3a"
             ],
             [
              0.8888888888888888,
              "#fdca26"
             ],
             [
              1,
              "#f0f921"
             ]
            ],
            "type": "histogram2d"
           }
          ],
          "histogram2dcontour": [
           {
            "colorbar": {
             "outlinewidth": 0,
             "ticks": ""
            },
            "colorscale": [
             [
              0,
              "#0d0887"
             ],
             [
              0.1111111111111111,
              "#46039f"
             ],
             [
              0.2222222222222222,
              "#7201a8"
             ],
             [
              0.3333333333333333,
              "#9c179e"
             ],
             [
              0.4444444444444444,
              "#bd3786"
             ],
             [
              0.5555555555555556,
              "#d8576b"
             ],
             [
              0.6666666666666666,
              "#ed7953"
             ],
             [
              0.7777777777777778,
              "#fb9f3a"
             ],
             [
              0.8888888888888888,
              "#fdca26"
             ],
             [
              1,
              "#f0f921"
             ]
            ],
            "type": "histogram2dcontour"
           }
          ],
          "mesh3d": [
           {
            "colorbar": {
             "outlinewidth": 0,
             "ticks": ""
            },
            "type": "mesh3d"
           }
          ],
          "parcoords": [
           {
            "line": {
             "colorbar": {
              "outlinewidth": 0,
              "ticks": ""
             }
            },
            "type": "parcoords"
           }
          ],
          "pie": [
           {
            "automargin": true,
            "type": "pie"
           }
          ],
          "scatter": [
           {
            "fillpattern": {
             "fillmode": "overlay",
             "size": 10,
             "solidity": 0.2
            },
            "type": "scatter"
           }
          ],
          "scatter3d": [
           {
            "line": {
             "colorbar": {
              "outlinewidth": 0,
              "ticks": ""
             }
            },
            "marker": {
             "colorbar": {
              "outlinewidth": 0,
              "ticks": ""
             }
            },
            "type": "scatter3d"
           }
          ],
          "scattercarpet": [
           {
            "marker": {
             "colorbar": {
              "outlinewidth": 0,
              "ticks": ""
             }
            },
            "type": "scattercarpet"
           }
          ],
          "scattergeo": [
           {
            "marker": {
             "colorbar": {
              "outlinewidth": 0,
              "ticks": ""
             }
            },
            "type": "scattergeo"
           }
          ],
          "scattergl": [
           {
            "marker": {
             "colorbar": {
              "outlinewidth": 0,
              "ticks": ""
             }
            },
            "type": "scattergl"
           }
          ],
          "scattermapbox": [
           {
            "marker": {
             "colorbar": {
              "outlinewidth": 0,
              "ticks": ""
             }
            },
            "type": "scattermapbox"
           }
          ],
          "scatterpolar": [
           {
            "marker": {
             "colorbar": {
              "outlinewidth": 0,
              "ticks": ""
             }
            },
            "type": "scatterpolar"
           }
          ],
          "scatterpolargl": [
           {
            "marker": {
             "colorbar": {
              "outlinewidth": 0,
              "ticks": ""
             }
            },
            "type": "scatterpolargl"
           }
          ],
          "scatterternary": [
           {
            "marker": {
             "colorbar": {
              "outlinewidth": 0,
              "ticks": ""
             }
            },
            "type": "scatterternary"
           }
          ],
          "surface": [
           {
            "colorbar": {
             "outlinewidth": 0,
             "ticks": ""
            },
            "colorscale": [
             [
              0,
              "#0d0887"
             ],
             [
              0.1111111111111111,
              "#46039f"
             ],
             [
              0.2222222222222222,
              "#7201a8"
             ],
             [
              0.3333333333333333,
              "#9c179e"
             ],
             [
              0.4444444444444444,
              "#bd3786"
             ],
             [
              0.5555555555555556,
              "#d8576b"
             ],
             [
              0.6666666666666666,
              "#ed7953"
             ],
             [
              0.7777777777777778,
              "#fb9f3a"
             ],
             [
              0.8888888888888888,
              "#fdca26"
             ],
             [
              1,
              "#f0f921"
             ]
            ],
            "type": "surface"
           }
          ],
          "table": [
           {
            "cells": {
             "fill": {
              "color": "#EBF0F8"
             },
             "line": {
              "color": "white"
             }
            },
            "header": {
             "fill": {
              "color": "#C8D4E3"
             },
             "line": {
              "color": "white"
             }
            },
            "type": "table"
           }
          ]
         },
         "layout": {
          "annotationdefaults": {
           "arrowcolor": "#2a3f5f",
           "arrowhead": 0,
           "arrowwidth": 1
          },
          "autotypenumbers": "strict",
          "coloraxis": {
           "colorbar": {
            "outlinewidth": 0,
            "ticks": ""
           }
          },
          "colorscale": {
           "diverging": [
            [
             0,
             "#8e0152"
            ],
            [
             0.1,
             "#c51b7d"
            ],
            [
             0.2,
             "#de77ae"
            ],
            [
             0.3,
             "#f1b6da"
            ],
            [
             0.4,
             "#fde0ef"
            ],
            [
             0.5,
             "#f7f7f7"
            ],
            [
             0.6,
             "#e6f5d0"
            ],
            [
             0.7,
             "#b8e186"
            ],
            [
             0.8,
             "#7fbc41"
            ],
            [
             0.9,
             "#4d9221"
            ],
            [
             1,
             "#276419"
            ]
           ],
           "sequential": [
            [
             0,
             "#0d0887"
            ],
            [
             0.1111111111111111,
             "#46039f"
            ],
            [
             0.2222222222222222,
             "#7201a8"
            ],
            [
             0.3333333333333333,
             "#9c179e"
            ],
            [
             0.4444444444444444,
             "#bd3786"
            ],
            [
             0.5555555555555556,
             "#d8576b"
            ],
            [
             0.6666666666666666,
             "#ed7953"
            ],
            [
             0.7777777777777778,
             "#fb9f3a"
            ],
            [
             0.8888888888888888,
             "#fdca26"
            ],
            [
             1,
             "#f0f921"
            ]
           ],
           "sequentialminus": [
            [
             0,
             "#0d0887"
            ],
            [
             0.1111111111111111,
             "#46039f"
            ],
            [
             0.2222222222222222,
             "#7201a8"
            ],
            [
             0.3333333333333333,
             "#9c179e"
            ],
            [
             0.4444444444444444,
             "#bd3786"
            ],
            [
             0.5555555555555556,
             "#d8576b"
            ],
            [
             0.6666666666666666,
             "#ed7953"
            ],
            [
             0.7777777777777778,
             "#fb9f3a"
            ],
            [
             0.8888888888888888,
             "#fdca26"
            ],
            [
             1,
             "#f0f921"
            ]
           ]
          },
          "colorway": [
           "#636efa",
           "#EF553B",
           "#00cc96",
           "#ab63fa",
           "#FFA15A",
           "#19d3f3",
           "#FF6692",
           "#B6E880",
           "#FF97FF",
           "#FECB52"
          ],
          "font": {
           "color": "#2a3f5f"
          },
          "geo": {
           "bgcolor": "white",
           "lakecolor": "white",
           "landcolor": "#E5ECF6",
           "showlakes": true,
           "showland": true,
           "subunitcolor": "white"
          },
          "hoverlabel": {
           "align": "left"
          },
          "hovermode": "closest",
          "mapbox": {
           "style": "light"
          },
          "paper_bgcolor": "white",
          "plot_bgcolor": "#E5ECF6",
          "polar": {
           "angularaxis": {
            "gridcolor": "white",
            "linecolor": "white",
            "ticks": ""
           },
           "bgcolor": "#E5ECF6",
           "radialaxis": {
            "gridcolor": "white",
            "linecolor": "white",
            "ticks": ""
           }
          },
          "scene": {
           "xaxis": {
            "backgroundcolor": "#E5ECF6",
            "gridcolor": "white",
            "gridwidth": 2,
            "linecolor": "white",
            "showbackground": true,
            "ticks": "",
            "zerolinecolor": "white"
           },
           "yaxis": {
            "backgroundcolor": "#E5ECF6",
            "gridcolor": "white",
            "gridwidth": 2,
            "linecolor": "white",
            "showbackground": true,
            "ticks": "",
            "zerolinecolor": "white"
           },
           "zaxis": {
            "backgroundcolor": "#E5ECF6",
            "gridcolor": "white",
            "gridwidth": 2,
            "linecolor": "white",
            "showbackground": true,
            "ticks": "",
            "zerolinecolor": "white"
           }
          },
          "shapedefaults": {
           "line": {
            "color": "#2a3f5f"
           }
          },
          "ternary": {
           "aaxis": {
            "gridcolor": "white",
            "linecolor": "white",
            "ticks": ""
           },
           "baxis": {
            "gridcolor": "white",
            "linecolor": "white",
            "ticks": ""
           },
           "bgcolor": "#E5ECF6",
           "caxis": {
            "gridcolor": "white",
            "linecolor": "white",
            "ticks": ""
           }
          },
          "title": {
           "x": 0.05
          },
          "xaxis": {
           "automargin": true,
           "gridcolor": "white",
           "linecolor": "white",
           "ticks": "",
           "title": {
            "standoff": 15
           },
           "zerolinecolor": "white",
           "zerolinewidth": 2
          },
          "yaxis": {
           "automargin": true,
           "gridcolor": "white",
           "linecolor": "white",
           "ticks": "",
           "title": {
            "standoff": 15
           },
           "zerolinecolor": "white",
           "zerolinewidth": 2
          }
         }
        },
        "title": {
         "text": "Number of cases around the world"
        }
       }
      },
      "image/png": "[encoded data removed]",
      "text/html": [
       "<div>                            <div id=\"c38b71d7-5af6-4c58-8816-7780e37f7546\" class=\"plotly-graph-div\" style=\"height:525px; width:100%;\"></div>            <script type=\"text/javascript\">                require([\"plotly\"], function(Plotly) {                    window.PLOTLYENV=window.PLOTLYENV || {};                                    if (document.getElementById(\"c38b71d7-5af6-4c58-8816-7780e37f7546\")) {                    Plotly.newPlot(                        \"c38b71d7-5af6-4c58-8816-7780e37f7546\",                        [{\"coloraxis\":\"coloraxis\",\"geo\":\"geo\",\"hovertemplate\":\"\\u003cb\\u003e%{hovertext}\\u003c\\u002fb\\u003e\\u003cbr\\u003e\\u003cbr\\u003elocation=%{location}\\u003cbr\\u003enum of cases=%{z}\\u003cextra\\u003e\\u003c\\u002fextra\\u003e\",\"hovertext\":[\"United States\",\"United Kingdom\",\"Germany\",\"Denmark\",\"Canada\",\"Japan\",\"France\",\"Sweden\",\"Switzerland\",\"India\",\"Brazil\",\"Netherlands\",\"Italy\",\"Spain\",\"Turkey\",\"Belgium\",\"Australia\",\"Ireland\",\"Slovenia\",\"Mexico\",\"Poland\",\"Norway\",\"Israel\",\"South Africa\",\"Lithuania\",\"Portugal\",\"Finland\",\"South Korea\",\"Czechia\",\"Luxembourg\",\"Slovakia\",\"Chile\",\"Croatia\",\"Philippines\",\"Austria\",\"Peru\",\"Greece\",\"Russia\",\"Indonesia\",\"Singapore\",\"Colombia\",\"Bulgaria\",\"Thailand\",\"Romania\",\"Argentina\",\"Iceland\",\"Estonia\",\"Malaysia\",\"Latvia\",\"Kenya\",\"New Zealand\",\"Qatar\",\"Bangladesh\",\"Nigeria\",\"Ecuador\",\"Papua New Guinea\",\"Aruba\",\"Hong Kong\",\"United Arab Emirates\",\"Sri Lanka\",\"Ghana\",\"Bahrain\",\"Botswana\",\"Costa Rica\",\"Cambodia\",\"Vietnam\",\"Sint Maarten (Dutch part)\",\"Pakistan\",\"Guatemala\",\"Trinidad and Tobago\",\"Egypt\",\"Jordan\",\"Zambia\",\"Angola\",\"Lebanon\",\"Bosnia and Herzegovina\",\"Kosovo\",\"Curacao\",\"Suriname\",\"Mozambique\",\"Paraguay\",\"Maldives\",\"Gambia\",\"Georgia\",\"Malawi\",\"Uganda\",\"Madagascar\",\"Benin\",\"North Macedonia\",\"Senegal\",\"Rwanda\",\"Zimbabwe\",\"Uruguay\",\"Ukraine\",\"Malta\",\"Cyprus\",\"Dominican Republic\",\"Seychelles\",\"Cameroon\",\"Fiji\",\"Ethiopia\",\"Serbia\",\"Mauritius\",\"Liechtenstein\",\"Montenegro\",\"Oman\",\"Kazakhstan\",\"Morocco\",\"Iran\",\"Nepal\",\"Djibouti\",\"Jamaica\",\"Togo\",\"Brunei\",\"Kuwait\",\"Hungary\",\"Belize\",\"Iraq\",\"Moldova\",\"Mongolia\",\"Monaco\"],\"locationmode\":\"country names\",\"locations\":[\"United States\",\"United Kingdom\",\"Germany\",\"Denmark\",\"Canada\",\"Japan\",\"France\",\"Sweden\",\"Switzerland\",\"India\",\"Brazil\",\"Netherlands\",\"Italy\",\"Spain\",\"Turkey\",\"Belgium\",\"Australia\",\"Ireland\",\"Slovenia\",\"Mexico\",\"Poland\",\"Norway\",\"Israel\",\"South Africa\",\"Lithuania\",\"Portugal\",\"Finland\",\"South Korea\",\"Czechia\",\"Luxembourg\",\"Slovakia\",\"Chile\",\"Croatia\",\"Philippines\",\"Austria\",\"Peru\",\"Greece\",\"Russia\",\"Indonesia\",\"Singapore\",\"Colombia\",\"Bulgaria\",\"Thailand\",\"Romania\",\"Argentina\",\"Iceland\",\"Estonia\",\"Malaysia\",\"Latvia\",\"Kenya\",\"New Zealand\",\"Qatar\",\"Bangladesh\",\"Nigeria\",\"Ecuador\",\"Papua New Guinea\",\"Aruba\",\"Hong Kong\",\"United Arab Emirates\",\"Sri Lanka\",\"Ghana\",\"Bahrain\",\"Botswana\",\"Costa Rica\",\"Cambodia\",\"Vietnam\",\"Sint Maarten (Dutch part)\",\"Pakistan\",\"Guatemala\",\"Trinidad and Tobago\",\"Egypt\",\"Jordan\",\"Zambia\",\"Angola\",\"Lebanon\",\"Bosnia and Herzegovina\",\"Kosovo\",\"Curacao\",\"Suriname\",\"Mozambique\",\"Paraguay\",\"Maldives\",\"Gambia\",\"Georgia\",\"Malawi\",\"Uganda\",\"Madagascar\",\"Benin\",\"North Macedonia\",\"Senegal\",\"Rwanda\",\"Zimbabwe\",\"Uruguay\",\"Ukraine\",\"Malta\",\"Cyprus\",\"Dominican Republic\",\"Seychelles\",\"Cameroon\",\"Fiji\",\"Ethiopia\",\"Serbia\",\"Mauritius\",\"Liechtenstein\",\"Montenegro\",\"Oman\",\"Kazakhstan\",\"Morocco\",\"Iran\",\"Nepal\",\"Djibouti\",\"Jamaica\",\"Togo\",\"Brunei\",\"Kuwait\",\"Hungary\",\"Belize\",\"Iraq\",\"Moldova\",\"Mongolia\",\"Monaco\"],\"name\":\"\",\"z\":[49960248,37427568,7851432,6728880,4365240,4268136,3602784,3308496,2392008,2184672,2160480,1985928,1910832,1877736,1844592,1800648,1132776,1090272,1048224,1027992,945216,903792,863928,623664,609192,549408,536640,499152,488688,455256,423552,418440,325656,305712,301920,293040,292896,276936,273864,247752,246840,245616,216432,205584,201864,198576,193008,173808,150960,127128,114216,97128,88800,88176,84552,80784,72000,60456,59760,56496,56232,53808,52800,51672,47472,43320,43152,37728,34776,34464,32040,28536,26808,25320,24216,23808,23760,23472,22344,22248,21096,20760,20712,20160,19464,19080,18528,18000,17712,16680,16536,16464,16368,14736,14472,14160,13560,13032,12864,12600,12528,11448,11232,11064,10728,10704,10296,9600,8856,8832,8808,8784,8112,7944,7872,7824,7536,4008,3648,3600,2016],\"type\":\"choropleth\"}],                        {\"template\":{\"data\":{\"histogram2dcontour\":[{\"type\":\"histogram2dcontour\",\"colorbar\":{\"outlinewidth\":0,\"ticks\":\"\"},\"colorscale\":[[0.0,\"#0d0887\"],[0.1111111111111111,\"#46039f\"],[0.2222222222222222,\"#7201a8\"],[0.3333333333333333,\"#9c179e\"],[0.4444444444444444,\"#bd3786\"],[0.5555555555555556,\"#d8576b\"],[0.6666666666666666,\"#ed7953\"],[0.7777777777777778,\"#fb9f3a\"],[0.8888888888888888,\"#fdca26\"],[1.0,\"#f0f921\"]]}],\"choropleth\":[{\"type\":\"choropleth\",\"colorbar\":{\"outlinewidth\":0,\"ticks\":\"\"}}],\"histogram2d\":[{\"type\":\"histogram2d\",\"colorbar\":{\"outlinewidth\":0,\"ticks\":\"\"},\"colorscale\":[[0.0,\"#0d0887\"],[0.1111111111111111,\"#46039f\"],[0.2222222222222222,\"#7201a8\"],[0.3333333333333333,\"#9c179e\"],[0.4444444444444444,\"#bd3786\"],[0.5555555555555556,\"#d8576b\"],[0.6666666666666666,\"#ed7953\"],[0.7777777777777778,\"#fb9f3a\"],[0.8888888888888888,\"#fdca26\"],[1.0,\"#f0f921\"]]}],\"heatmap\":[{\"type\":\"heatmap\",\"colorbar\":{\"outlinewidth\":0,\"ticks\":\"\"},\"colorscale\":[[0.0,\"#0d0887\"],[0.1111111111111111,\"#46039f\"],[0.2222222222222222,\"#7201a8\"],[0.3333333333333333,\"#9c179e\"],[0.4444444444444444,\"#bd3786\"],[0.5555555555555556,\"#d8576b\"],[0.6666666666666666,\"#ed7953\"],[0.7777777777777778,\"#fb9f3a\"],[0.8888888888888888,\"#fdca26\"],[1.0,\"#f0f921\"]]}],\"heatmapgl\":[{\"type\":\"heatmapgl\",\"colorbar\":{\"outlinewidth\":0,\"ticks\":\"\"},\"colorscale\":[[0.0,\"#0d0887\"],[0.1111111111111111,\"#46039f\"],[0.2222222222222222,\"#7201a8\"],[0.3333333333333333,\"#9c179e\"],[0.4444444444444444,\"#bd3786\"],[0.5555555555555556,\"#d8576b\"],[0.6666666666666666,\"#ed7953\"],[0.7777777777777778,\"#fb9f3a\"],[0.8888888888888888,\"#fdca26\"],[1.0,\"#f0f921\"]]}],\"contourcarpet\":[{\"type\":\"contourcarpet\",\"colorbar\":{\"outlinewidth\":0,\"ticks\":\"\"}}],\"contour\":[{\"type\":\"contour\",\"colorbar\":{\"outlinewidth\":0,\"ticks\":\"\"},\"colorscale\":[[0.0,\"#0d0887\"],[0.1111111111111111,\"#46039f\"],[0.2222222222222222,\"#7201a8\"],[0.3333333333333333,\"#9c179e\"],[0.4444444444444444,\"#bd3786\"],[0.5555555555555556,\"#d8576b\"],[0.6666666666666666,\"#ed7953\"],[0.7777777777777778,\"#fb9f3a\"],[0.8888888888888888,\"#fdca26\"],[1.0,\"#f0f921\"]]}],\"surface\":[{\"type\":\"surface\",\"colorbar\":{\"outlinewidth\":0,\"ticks\":\"\"},\"colorscale\":[[0.0,\"#0d0887\"],[0.1111111111111111,\"#46039f\"],[0.2222222222222222,\"#7201a8\"],[0.3333333333333333,\"#9c179e\"],[0.4444444444444444,\"#bd3786\"],[0.5555555555555556,\"#d8576b\"],[0.6666666666666666,\"#ed7953\"],[0.7777777777777778,\"#fb9f3a\"],[0.8888888888888888,\"#fdca26\"],[1.0,\"#f0f921\"]]}],\"mesh3d\":[{\"type\":\"mesh3d\",\"colorbar\":{\"outlinewidth\":0,\"ticks\":\"\"}}],\"scatter\":[{\"fillpattern\":{\"fillmode\":\"overlay\",\"size\":10,\"solidity\":0.2},\"type\":\"scatter\"}],\"parcoords\":[{\"type\":\"parcoords\",\"line\":{\"colorbar\":{\"outlinewidth\":0,\"ticks\":\"\"}}}],\"scatterpolargl\":[{\"type\":\"scatterpolargl\",\"marker\":{\"colorbar\":{\"outlinewidth\":0,\"ticks\":\"\"}}}],\"bar\":[{\"error_x\":{\"color\":\"#2a3f5f\"},\"error_y\":{\"color\":\"#2a3f5f\"},\"marker\":{\"line\":{\"color\":\"#E5ECF6\",\"width\":0.5},\"pattern\":{\"fillmode\":\"overlay\",\"size\":10,\"solidity\":0.2}},\"type\":\"bar\"}],\"scattergeo\":[{\"type\":\"scattergeo\",\"marker\":{\"colorbar\":{\"outlinewidth\":0,\"ticks\":\"\"}}}],\"scatterpolar\":[{\"type\":\"scatterpolar\",\"marker\":{\"colorbar\":{\"outlinewidth\":0,\"ticks\":\"\"}}}],\"histogram\":[{\"marker\":{\"pattern\":{\"fillmode\":\"overlay\",\"size\":10,\"solidity\":0.2}},\"type\":\"histogram\"}],\"scattergl\":[{\"type\":\"scattergl\",\"marker\":{\"colorbar\":{\"outlinewidth\":0,\"ticks\":\"\"}}}],\"scatter3d\":[{\"type\":\"scatter3d\",\"line\":{\"colorbar\":{\"outlinewidth\":0,\"ticks\":\"\"}},\"marker\":{\"colorbar\":{\"outlinewidth\":0,\"ticks\":\"\"}}}],\"scattermapbox\":[{\"type\":\"scattermapbox\",\"marker\":{\"colorbar\":{\"outlinewidth\":0,\"ticks\":\"\"}}}],\"scatterternary\":[{\"type\":\"scatterternary\",\"marker\":{\"colorbar\":{\"outlinewidth\":0,\"ticks\":\"\"}}}],\"scattercarpet\":[{\"type\":\"scattercarpet\",\"marker\":{\"colorbar\":{\"outlinewidth\":0,\"ticks\":\"\"}}}],\"carpet\":[{\"aaxis\":{\"endlinecolor\":\"#2a3f5f\",\"gridcolor\":\"white\",\"linecolor\":\"white\",\"minorgridcolor\":\"white\",\"startlinecolor\":\"#2a3f5f\"},\"baxis\":{\"endlinecolor\":\"#2a3f5f\",\"gridcolor\":\"white\",\"linecolor\":\"white\",\"minorgridcolor\":\"white\",\"startlinecolor\":\"#2a3f5f\"},\"type\":\"carpet\"}],\"table\":[{\"cells\":{\"fill\":{\"color\":\"#EBF0F8\"},\"line\":{\"color\":\"white\"}},\"header\":{\"fill\":{\"color\":\"#C8D4E3\"},\"line\":{\"color\":\"white\"}},\"type\":\"table\"}],\"barpolar\":[{\"marker\":{\"line\":{\"color\":\"#E5ECF6\",\"width\":0.5},\"pattern\":{\"fillmode\":\"overlay\",\"size\":10,\"solidity\":0.2}},\"type\":\"barpolar\"}],\"pie\":[{\"automargin\":true,\"type\":\"pie\"}]},\"layout\":{\"autotypenumbers\":\"strict\",\"colorway\":[\"#636efa\",\"#EF553B\",\"#00cc96\",\"#ab63fa\",\"#FFA15A\",\"#19d3f3\",\"#FF6692\",\"#B6E880\",\"#FF97FF\",\"#FECB52\"],\"font\":{\"color\":\"#2a3f5f\"},\"hovermode\":\"closest\",\"hoverlabel\":{\"align\":\"left\"},\"paper_bgcolor\":\"white\",\"plot_bgcolor\":\"#E5ECF6\",\"polar\":{\"bgcolor\":\"#E5ECF6\",\"angularaxis\":{\"gridcolor\":\"white\",\"linecolor\":\"white\",\"ticks\":\"\"},\"radialaxis\":{\"gridcolor\":\"white\",\"linecolor\":\"white\",\"ticks\":\"\"}},\"ternary\":{\"bgcolor\":\"#E5ECF6\",\"aaxis\":{\"gridcolor\":\"white\",\"linecolor\":\"white\",\"ticks\":\"\"},\"baxis\":{\"gridcolor\":\"white\",\"linecolor\":\"white\",\"ticks\":\"\"},\"caxis\":{\"gridcolor\":\"white\",\"linecolor\":\"white\",\"ticks\":\"\"}},\"coloraxis\":{\"colorbar\":{\"outlinewidth\":0,\"ticks\":\"\"}},\"colorscale\":{\"sequential\":[[0.0,\"#0d0887\"],[0.1111111111111111,\"#46039f\"],[0.2222222222222222,\"#7201a8\"],[0.3333333333333333,\"#9c179e\"],[0.4444444444444444,\"#bd3786\"],[0.5555555555555556,\"#d8576b\"],[0.6666666666666666,\"#ed7953\"],[0.7777777777777778,\"#fb9f3a\"],[0.8888888888888888,\"#fdca26\"],[1.0,\"#f0f921\"]],\"sequentialminus\":[[0.0,\"#0d0887\"],[0.1111111111111111,\"#46039f\"],[0.2222222222222222,\"#7201a8\"],[0.3333333333333333,\"#9c179e\"],[0.4444444444444444,\"#bd3786\"],[0.5555555555555556,\"#d8576b\"],[0.6666666666666666,\"#ed7953\"],[0.7777777777777778,\"#fb9f3a\"],[0.8888888888888888,\"#fdca26\"],[1.0,\"#f0f921\"]],\"diverging\":[[0,\"#8e0152\"],[0.1,\"#c51b7d\"],[0.2,\"#de77ae\"],[0.3,\"#f1b6da\"],[0.4,\"#fde0ef\"],[0.5,\"#f7f7f7\"],[0.6,\"#e6f5d0\"],[0.7,\"#b8e186\"],[0.8,\"#7fbc41\"],[0.9,\"#4d9221\"],[1,\"#276419\"]]},\"xaxis\":{\"gridcolor\":\"white\",\"linecolor\":\"white\",\"ticks\":\"\",\"title\":{\"standoff\":15},\"zerolinecolor\":\"white\",\"automargin\":true,\"zerolinewidth\":2},\"yaxis\":{\"gridcolor\":\"white\",\"linecolor\":\"white\",\"ticks\":\"\",\"title\":{\"standoff\":15},\"zerolinecolor\":\"white\",\"automargin\":true,\"zerolinewidth\":2},\"scene\":{\"xaxis\":{\"backgroundcolor\":\"#E5ECF6\",\"gridcolor\":\"white\",\"linecolor\":\"white\",\"showbackground\":true,\"ticks\":\"\",\"zerolinecolor\":\"white\",\"gridwidth\":2},\"yaxis\":{\"backgroundcolor\":\"#E5ECF6\",\"gridcolor\":\"white\",\"linecolor\":\"white\",\"showbackground\":true,\"ticks\":\"\",\"zerolinecolor\":\"white\",\"gridwidth\":2},\"zaxis\":{\"backgroundcolor\":\"#E5ECF6\",\"gridcolor\":\"white\",\"linecolor\":\"white\",\"showbackground\":true,\"ticks\":\"\",\"zerolinecolor\":\"white\",\"gridwidth\":2}},\"shapedefaults\":{\"line\":{\"color\":\"#2a3f5f\"}},\"annotationdefaults\":{\"arrowcolor\":\"#2a3f5f\",\"arrowhead\":0,\"arrowwidth\":1},\"geo\":{\"bgcolor\":\"white\",\"landcolor\":\"#E5ECF6\",\"subunitcolor\":\"white\",\"showland\":true,\"showlakes\":true,\"lakecolor\":\"white\"},\"title\":{\"x\":0.05},\"mapbox\":{\"style\":\"light\"}}},\"geo\":{\"domain\":{\"x\":[0.0,1.0],\"y\":[0.0,1.0]},\"center\":{}},\"coloraxis\":{\"colorbar\":{\"title\":{\"text\":\"num of cases\"}},\"colorscale\":[[0.0,\"#0d0887\"],[0.1111111111111111,\"#46039f\"],[0.2222222222222222,\"#7201a8\"],[0.3333333333333333,\"#9c179e\"],[0.4444444444444444,\"#bd3786\"],[0.5555555555555556,\"#d8576b\"],[0.6666666666666666,\"#ed7953\"],[0.7777777777777778,\"#fb9f3a\"],[0.8888888888888888,\"#fdca26\"],[1.0,\"#f0f921\"]],\"cmin\":1,\"cmax\":10000000},\"legend\":{\"tracegroupgap\":0},\"margin\":{\"t\":60},\"title\":{\"text\":\"Number of cases around the world\"}},                        {\"responsive\": true}                    ).then(function(){\n",
       "                            \n",
       "var gd = document.getElementById('c38b71d7-5af6-4c58-8816-7780e37f7546');\n",
       "var x = new MutationObserver(function (mutations, observer) {{\n",
       "        var display = window.getComputedStyle(gd).display;\n",
       "        if (!display || display === 'none') {{\n",
       "            console.log([gd, 'removed!']);\n",
       "            Plotly.purge(gd);\n",
       "            observer.disconnect();\n",
       "        }}\n",
       "}});\n",
       "\n",
       "// Listen for the removal of the full notebook cells\n",
       "var notebookContainer = gd.closest('#notebook-container');\n",
       "if (notebookContainer) {{\n",
       "    x.observe(notebookContainer, {childList: true});\n",
       "}}\n",
       "\n",
       "// Listen for the clearing of the current output cell\n",
       "var outputEl = gd.closest('.output');\n",
       "if (outputEl) {{\n",
       "    x.observe(outputEl, {childList: true});\n",
       "}}\n",
       "\n",
       "                        })                };                });            </script>        </div>"
      ]
     },
     "metadata": {},
     "output_type": "display_data"
    }
   ],
   "source": [
    "country_df = df.groupby(['location'])['num_sequences_total'].sum().sort_values(ascending = False).reset_index()\n",
    "country_df.rename(columns = {'num_sequences_total' : 'num of cases'}, inplace = True)\n",
    "fig = px.choropleth(country_df,locations='location', locationmode= 'country names', color= 'num of cases', \n",
    "                       range_color=[1,10000000], hover_name='location')\n",
    "\n",
    "fig.update_layout(\n",
    "        title={'text' : 'Number of cases around the world',}\n",
    "    )\n",
    "\n",
    "fig.show()"
   ]
  },
  {
   "cell_type": "markdown",
   "metadata": {
    "id": "qQkg7ciNnDT_"
   },
   "source": [
    "## Question 2 \n",
    "<h4>What kind of co-relation exists between Var1 and Var2 (any 2 variables)\n",
    "<br><br>    \n",
    "Write the python code in the below cell to create appropriate visual to perform the above task.\n",
    "<h4> Answer in markdown cells below the visual\n",
    "<br><br>\n",
    "<ol>\n",
    "    <li>Summarise your findings and interpret the co-relation </li>\n",
    "     \n",
    "</ol>"
   ]
  },
  {
   "cell_type": "code",
   "execution_count": 138,
   "metadata": {},
   "outputs": [
    {
     "data": {
      "image/png": "[encoded data removed]",
      "text/plain": [
       "<Figure size 640x480 with 1 Axes>"
      ]
     },
     "metadata": {},
     "output_type": "display_data"
    }
   ],
   "source": [
    "label_encoder = LabelEncoder()\n",
    "df['variant_encoded'] = label_encoder.fit_transform(df['variant'])\n",
    "\n",
    "# Assuming 'Var1' and 'Var2' are the actual column names\n",
    "sns.scatterplot(x='num_sequences_total', y='variant_encoded', data=df)\n",
    "plt.title('Scatter Plot between Var1 and Var2')\n",
    "plt.show()\n"
   ]
  },
  {
   "cell_type": "code",
   "execution_count": 139,
   "metadata": {},
   "outputs": [
    {
     "name": "stdout",
     "output_type": "stream",
     "text": [
      "Correlation Coefficient between Var1 and Var2: -1.895129679315209e-18\n"
     ]
    }
   ],
   "source": [
    "correlation_coefficient = df['num_sequences_total'].corr(df['variant_encoded'])\n",
    "print(f\"Correlation Coefficient between Var1 and Var2: {correlation_coefficient}\")"
   ]
  },
  {
   "cell_type": "markdown",
   "metadata": {
    "id": "nExKkhfZnDUB"
   },
   "source": [
    " \n",
    "<h3> Any 2 of the mining activities needs to be applied by your aligned problem statement design!! (5+5 Marks)  </h1>\n",
    " \n",
    " \n",
    " "
   ]
  },
  {
   "cell_type": "markdown",
   "metadata": {
    "id": "DeuNFfRpnDUD"
   },
   "source": [
    "   "
   ]
  },
  {
   "cell_type": "markdown",
   "metadata": {
    "id": "ciXnXIuGoCKE"
   },
   "source": [
    " ## Classification"
   ]
  },
  {
   "cell_type": "markdown",
   "metadata": {},
   "source": [
    "Justify your design choices by filling below:\n",
    "1. Requirement Design: _____________________________________________________\n",
    "2. Justification for Classification: ______________________________________\n",
    "3. Target Attribute: ______________________________________________________\n",
    "4. Classification Type/ Model Selected with reason: _______________________\n",
    "5. Input Parameter settings: ________________________________________________\n",
    "6. Approach or Results expected: ___________________________________________\n",
    "7. Metric chosen for analysis: ________________________________________\n"
   ]
  },
  {
   "cell_type": "code",
   "execution_count": 304,
   "metadata": {},
   "outputs": [
    {
     "data": {
      "text/html": [
       "<div>\n",
       "<style scoped>\n",
       "    .dataframe tbody tr th:only-of-type {\n",
       "        vertical-align: middle;\n",
       "    }\n",
       "\n",
       "    .dataframe tbody tr th {\n",
       "        vertical-align: top;\n",
       "    }\n",
       "\n",
       "    .dataframe thead th {\n",
       "        text-align: right;\n",
       "    }\n",
       "</style>\n",
       "<table border=\"1\" class=\"dataframe\">\n",
       "  <thead>\n",
       "    <tr style=\"text-align: right;\">\n",
       "      <th></th>\n",
       "      <th>location</th>\n",
       "      <th>date</th>\n",
       "      <th>variant</th>\n",
       "      <th>num_sequences</th>\n",
       "      <th>perc_sequences</th>\n",
       "      <th>num_sequences_total</th>\n",
       "    </tr>\n",
       "  </thead>\n",
       "  <tbody>\n",
       "    <tr>\n",
       "      <th>0</th>\n",
       "      <td>Angola</td>\n",
       "      <td>2020-07-06</td>\n",
       "      <td>Alpha</td>\n",
       "      <td>0</td>\n",
       "      <td>0.0</td>\n",
       "      <td>3</td>\n",
       "    </tr>\n",
       "    <tr>\n",
       "      <th>1</th>\n",
       "      <td>Angola</td>\n",
       "      <td>2020-07-06</td>\n",
       "      <td>B.1.1.277</td>\n",
       "      <td>0</td>\n",
       "      <td>0.0</td>\n",
       "      <td>3</td>\n",
       "    </tr>\n",
       "    <tr>\n",
       "      <th>2</th>\n",
       "      <td>Angola</td>\n",
       "      <td>2020-07-06</td>\n",
       "      <td>B.1.1.302</td>\n",
       "      <td>0</td>\n",
       "      <td>0.0</td>\n",
       "      <td>3</td>\n",
       "    </tr>\n",
       "    <tr>\n",
       "      <th>3</th>\n",
       "      <td>Angola</td>\n",
       "      <td>2020-07-06</td>\n",
       "      <td>B.1.1.519</td>\n",
       "      <td>0</td>\n",
       "      <td>0.0</td>\n",
       "      <td>3</td>\n",
       "    </tr>\n",
       "    <tr>\n",
       "      <th>4</th>\n",
       "      <td>Angola</td>\n",
       "      <td>2020-07-06</td>\n",
       "      <td>B.1.160</td>\n",
       "      <td>0</td>\n",
       "      <td>0.0</td>\n",
       "      <td>3</td>\n",
       "    </tr>\n",
       "  </tbody>\n",
       "</table>\n",
       "</div>"
      ],
      "text/plain": [
       "  location        date    variant  num_sequences  perc_sequences  \\\n",
       "0   Angola  2020-07-06      Alpha              0             0.0   \n",
       "1   Angola  2020-07-06  B.1.1.277              0             0.0   \n",
       "2   Angola  2020-07-06  B.1.1.302              0             0.0   \n",
       "3   Angola  2020-07-06  B.1.1.519              0             0.0   \n",
       "4   Angola  2020-07-06    B.1.160              0             0.0   \n",
       "\n",
       "   num_sequences_total  \n",
       "0                    3  \n",
       "1                    3  \n",
       "2                    3  \n",
       "3                    3  \n",
       "4                    3  "
      ]
     },
     "execution_count": 304,
     "metadata": {},
     "output_type": "execute_result"
    }
   ],
   "source": [
    "df_omicron = pd.read_csv(\"DataMining_PS1_DatasetName_ANALYSIS_Groupno7.csv\")\n",
    "df.head()"
   ]
  },
  {
   "cell_type": "code",
   "execution_count": 296,
   "metadata": {},
   "outputs": [
    {
     "name": "stdout",
     "output_type": "stream",
     "text": [
      "variant               1.000000e+00\n",
      "perc_sequences        2.104349e-01\n",
      "num_sequences         1.713598e-03\n",
      "location_Singapore    1.464313e-15\n",
      "location_Slovakia     1.431450e-15\n",
      "                          ...     \n",
      "location_Argentina   -1.085032e-15\n",
      "location_Ireland     -1.102726e-15\n",
      "location_India       -1.165683e-15\n",
      "location_France      -1.224242e-15\n",
      "location_Finland     -1.245833e-15\n",
      "Name: variant, Length: 126, dtype: float64\n"
     ]
    }
   ],
   "source": [
    "# Drop irrelevant columns and separate target variable\n",
    "X = df.drop(['variant'], axis=1)\n",
    "y = df['variant']\n",
    "\n",
    "# Convert 'Date' to timestamp\n",
    "X['date'] = pd.to_datetime(X['date']).astype('int64') // 10**9  # Convert to seconds\n",
    "\n",
    "# One-hot encode the 'Location' and remaining categorical variables\n",
    "X_encoded = pd.get_dummies(X, columns=['location'])\n",
    "\n",
    "# Concatenate the label-encoded 'Variant' column to X_encoded\n",
    "X_encoded['variant'] = pd.Categorical(y).codes\n",
    "\n",
    "# Calculate the correlation matrix\n",
    "correlation_matrix = X_encoded.corr()\n",
    "\n",
    "# Display the correlation of each feature with 'Variant'\n",
    "print(correlation_matrix['variant'].sort_values(ascending=False))"
   ]
  },
  {
   "cell_type": "code",
   "execution_count": 309,
   "metadata": {},
   "outputs": [
    {
     "name": "stdout",
     "output_type": "stream",
     "text": [
      "Accuracy: 0.0627365066719777\n",
      "\n",
      "Classification Report:\n",
      "                precision    recall  f1-score   support\n",
      "\n",
      "         Alpha       0.17      0.07      0.10       835\n",
      "     B.1.1.277       0.00      0.00      0.00       859\n",
      "     B.1.1.302       0.00      0.00      0.00       805\n",
      "     B.1.1.519       0.06      0.00      0.00       837\n",
      "       B.1.160       0.04      0.00      0.01       878\n",
      "       B.1.177       0.08      0.02      0.03       832\n",
      "       B.1.221       0.09      0.01      0.01       814\n",
      "       B.1.258       0.05      0.01      0.01       807\n",
      "       B.1.367       0.04      0.98      0.08       763\n",
      "       B.1.620       0.00      0.00      0.00       889\n",
      "          Beta       0.08      0.01      0.02       858\n",
      "         Delta       0.35      0.13      0.19       806\n",
      "       Epsilon       0.03      0.00      0.00       860\n",
      "           Eta       0.02      0.00      0.00       849\n",
      "         Gamma       0.04      0.01      0.01       867\n",
      "          Iota       0.03      0.00      0.00       845\n",
      "         Kappa       0.07      0.00      0.01       826\n",
      "        Lambda       0.12      0.01      0.02       834\n",
      "            Mu       0.00      0.00      0.00       862\n",
      "       Omicron       0.04      0.00      0.00       867\n",
      " S:677H.Robin1       0.00      0.00      0.00       816\n",
      "S:677P.Pelican       0.17      0.00      0.00       859\n",
      "       non_who       0.23      0.27      0.25       796\n",
      "        others       0.12      0.09      0.10       820\n",
      "\n",
      "      accuracy                           0.06     20084\n",
      "     macro avg       0.08      0.07      0.04     20084\n",
      "  weighted avg       0.08      0.06      0.03     20084\n",
      "\n",
      "\n",
      "Confusion Matrix:\n",
      "[[ 59   0   2   2  12  19   3  12 505   2  19  31   6   5  12   1   3  14\n",
      "    3   4   0   1  58  62]\n",
      " [  0   0   1   1   2   2   1   2 831   0   2   3   1   0   2   1   1   0\n",
      "    0   0   0   0   5   4]\n",
      " [  1   0   0   0   1   2   0   0 796   0   0   0   0   0   3   0   0   0\n",
      "    0   0   0   0   1   1]\n",
      " [  5   0   0   2   2   4   1   2 803   0   0   0   1   1   1   1   2   3\n",
      "    2   0   0   0   5   2]\n",
      " [ 17   0   1   2   3  14   2   8 737   0  13   7   5   6  10   2   2   1\n",
      "    2   0   1   0  23  22]\n",
      " [ 30   2   0   1   7  14   6   5 682   1  11  11   2   3   6   3   3   1\n",
      "    1   6   0   1  16  20]\n",
      " [ 10   4   0   1   3  10   6   4 723   1   3   5   2   3   7   2   3   2\n",
      "    1   2   0   0  10  12]\n",
      " [ 12   3   0   2   4   9   5   5 698   1  12   4   3   1   6   3   1   1\n",
      "    2   0   0   1  16  18]\n",
      " [  3   0   0   0   0   1   3   0 744   1   0   0   2   1   1   0   2   2\n",
      "    0   0   0   0   1   2]\n",
      " [  4   1   1   0   0   0   1   0 864   0   1   2   3   0   2   1   0   1\n",
      "    0   0   0   0   4   4]\n",
      " [ 20   1   0   2   9  17   5  10 664   2  12  15   6   5  13   4   4   3\n",
      "    4   3   1   1  20  37]\n",
      " [ 23   0   1   0   4   6   3   6 473   0  13 106   5   1   8   2   3   2\n",
      "    2   1   0   0  95  52]\n",
      " [  5   0   0   4   5   5   2   2 804   0   3   0   2   1   7   1   1   0\n",
      "    1   0   0   0  10   7]\n",
      " [ 14   2   0   3   2   4   2   5 779   2   9   1   0   1   4   1   1   2\n",
      "    1   2   0   0   8   6]\n",
      " [ 25   2   0   3   6  13  11   6 710   3  12  13   3   3   6   4   3   2\n",
      "    0   2   0   0  15  25]\n",
      " [  6   1   1   0   1   3   1   2 794   2   1   2   3   1   8   1   1   1\n",
      "    0   0   0   0   7   9]\n",
      " [  5   1   0   1   2   4   3   3 779   0   2   3   1   4   3   0   3   1\n",
      "    1   1   1   0   3   5]\n",
      " [  8   0   0   1   0   4   0   1 783   0   1   0   1   1   6   1   5   7\n",
      "    0   1   0   0   7   7]\n",
      " [  5   0   0   3   0   2   2   7 790   3   7   4   4   2   7   1   3   3\n",
      "    0   0   0   0  13   6]\n",
      " [  3   0   0   1   1   1   1   1 837   0   2   1   0   0   4   1   1   0\n",
      "    0   1   0   0   7   5]\n",
      " [  3   0   0   0   0   0   0   1 804   0   0   0   0   0   1   2   1   1\n",
      "    0   0   0   0   1   2]\n",
      " [  2   0   0   0   0   1   0   1 848   0   0   0   0   1   3   0   0   0\n",
      "    0   0   0   1   2   0]\n",
      " [ 36   0   1   1   8  15   5   9 182   1  14  52   7   4  14   2   1   4\n",
      "    3   1   0   1 214 221]\n",
      " [ 49   0   0   1   9  15   7  12 179   4  13  40   2   3  13   4   0   6\n",
      "    4   4   0   0 382  73]]\n"
     ]
    }
   ],
   "source": [
    "# Features (X) and target variable (y)\n",
    "X = df_omicron[['num_sequences', 'perc_sequences']]\n",
    "y = df_omicron['variant']\n",
    "\n",
    "# Splitting the data into training and testing sets\n",
    "X_train, X_test, y_train, y_test = train_test_split(X, y, test_size=0.2, random_state=42)\n",
    "\n",
    "# Initialize Random Forest classifier\n",
    "rf_classifier = RandomForestClassifier(n_estimators=100, random_state=42)\n",
    "\n",
    "# Train the classifier\n",
    "rf_classifier.fit(X_train, y_train)\n",
    "\n",
    "# Predict on the test set\n",
    "y_pred = rf_classifier.predict(X_test)\n",
    "\n",
    "# Calculate accuracy directly\n",
    "accuracy = sum(y_pred == y_test) / len(y_test)\n",
    "print(f\"Accuracy: {accuracy}\")\n",
    "\n",
    "# Display additional evaluation metrics\n",
    "print(\"\\nClassification Report:\")\n",
    "print(classification_report(y_test, y_pred))\n",
    "\n",
    "print(\"\\nConfusion Matrix:\")\n",
    "cm = confusion_matrix(y_test, y_pred)\n",
    "print(cm)"
   ]
  },
  {
   "cell_type": "markdown",
   "metadata": {
    "id": "RhzvYzb0nDUI"
   },
   "source": [
    "## Clustering"
   ]
  },
  {
   "cell_type": "markdown",
   "metadata": {},
   "source": [
    "1. Requirement Design: _____________________________________________________\n",
    "2. Justification for clustering: _________________________________________\n",
    "3. Attributes of interest: ________________________________________________\n",
    "4. Clustering Type/ Model Selected with reason: __________________________\n",
    "5. Input Parameter settings: ________________________________________________\n",
    "6. Approach or Results expected: ___________________________________________\n",
    "7. Metric chosen for analysis: ______________________________________________\n"
   ]
  },
  {
   "cell_type": "code",
   "execution_count": 316,
   "metadata": {},
   "outputs": [
    {
     "data": {
      "text/html": [
       "<div>\n",
       "<style scoped>\n",
       "    .dataframe tbody tr th:only-of-type {\n",
       "        vertical-align: middle;\n",
       "    }\n",
       "\n",
       "    .dataframe tbody tr th {\n",
       "        vertical-align: top;\n",
       "    }\n",
       "\n",
       "    .dataframe thead th {\n",
       "        text-align: right;\n",
       "    }\n",
       "</style>\n",
       "<table border=\"1\" class=\"dataframe\">\n",
       "  <thead>\n",
       "    <tr style=\"text-align: right;\">\n",
       "      <th></th>\n",
       "      <th>location</th>\n",
       "      <th>date</th>\n",
       "      <th>variant</th>\n",
       "      <th>num_sequences</th>\n",
       "      <th>perc_sequences</th>\n",
       "      <th>num_sequences_total</th>\n",
       "    </tr>\n",
       "  </thead>\n",
       "  <tbody>\n",
       "    <tr>\n",
       "      <th>0</th>\n",
       "      <td>Angola</td>\n",
       "      <td>2020-07-06</td>\n",
       "      <td>Alpha</td>\n",
       "      <td>0</td>\n",
       "      <td>0.0</td>\n",
       "      <td>3</td>\n",
       "    </tr>\n",
       "    <tr>\n",
       "      <th>1</th>\n",
       "      <td>Angola</td>\n",
       "      <td>2020-07-06</td>\n",
       "      <td>B.1.1.277</td>\n",
       "      <td>0</td>\n",
       "      <td>0.0</td>\n",
       "      <td>3</td>\n",
       "    </tr>\n",
       "    <tr>\n",
       "      <th>2</th>\n",
       "      <td>Angola</td>\n",
       "      <td>2020-07-06</td>\n",
       "      <td>B.1.1.302</td>\n",
       "      <td>0</td>\n",
       "      <td>0.0</td>\n",
       "      <td>3</td>\n",
       "    </tr>\n",
       "    <tr>\n",
       "      <th>3</th>\n",
       "      <td>Angola</td>\n",
       "      <td>2020-07-06</td>\n",
       "      <td>B.1.1.519</td>\n",
       "      <td>0</td>\n",
       "      <td>0.0</td>\n",
       "      <td>3</td>\n",
       "    </tr>\n",
       "    <tr>\n",
       "      <th>4</th>\n",
       "      <td>Angola</td>\n",
       "      <td>2020-07-06</td>\n",
       "      <td>B.1.160</td>\n",
       "      <td>0</td>\n",
       "      <td>0.0</td>\n",
       "      <td>3</td>\n",
       "    </tr>\n",
       "  </tbody>\n",
       "</table>\n",
       "</div>"
      ],
      "text/plain": [
       "  location        date    variant  num_sequences  perc_sequences  \\\n",
       "0   Angola  2020-07-06      Alpha              0             0.0   \n",
       "1   Angola  2020-07-06  B.1.1.277              0             0.0   \n",
       "2   Angola  2020-07-06  B.1.1.302              0             0.0   \n",
       "3   Angola  2020-07-06  B.1.1.519              0             0.0   \n",
       "4   Angola  2020-07-06    B.1.160              0             0.0   \n",
       "\n",
       "   num_sequences_total  \n",
       "0                    3  \n",
       "1                    3  \n",
       "2                    3  \n",
       "3                    3  \n",
       "4                    3  "
      ]
     },
     "execution_count": 316,
     "metadata": {},
     "output_type": "execute_result"
    }
   ],
   "source": [
    "df_omicron = pd.read_csv(\"DataMining_PS1_DatasetName_ANALYSIS_Groupno7.csv\")\n",
    "df.head()"
   ]
  },
  {
   "cell_type": "code",
   "execution_count": 321,
   "metadata": {},
   "outputs": [
    {
     "name": "stderr",
     "output_type": "stream",
     "text": [
      "C:\\Users\\mdhru\\AppData\\Local\\Temp\\ipykernel_13144\\2997123004.py:5: SettingWithCopyWarning:\n",
      "\n",
      "\n",
      "A value is trying to be set on a copy of a slice from a DataFrame.\n",
      "Try using .loc[row_indexer,col_indexer] = value instead\n",
      "\n",
      "See the caveats in the documentation: https://pandas.pydata.org/pandas-docs/stable/user_guide/indexing.html#returning-a-view-versus-a-copy\n",
      "\n"
     ]
    },
    {
     "data": {
      "image/png": "[encoded data removed]",
      "text/plain": [
       "<Figure size 640x480 with 1 Axes>"
      ]
     },
     "metadata": {},
     "output_type": "display_data"
    }
   ],
   "source": [
    "# Features (X) and target variable (y)\n",
    "X_cluster = df[['date', 'location', 'num_sequences', 'perc_sequences', 'num_sequences_total']]\n",
    "\n",
    "# Convert 'date' to timestamp\n",
    "X_cluster['date'] = pd.to_datetime(X_cluster['date']).astype('int64') // 10**9\n",
    "\n",
    "# One-hot encode categorical variables\n",
    "X_cluster = pd.get_dummies(X_cluster, columns=['location'])\n",
    "\n",
    "# Normalize numerical features\n",
    "scaler = StandardScaler()\n",
    "X_scaled = scaler.fit_transform(X_cluster[['date', 'num_sequences', 'perc_sequences', 'num_sequences_total']])\n",
    "\n",
    "# Determine the optimal number of clusters using the Elbow Method\n",
    "inertia = []\n",
    "for i in range(1, 11):\n",
    "    kmeans = KMeans(n_clusters=i, random_state=42)\n",
    "    kmeans.fit(X_scaled)\n",
    "    inertia.append(kmeans.inertia_)\n",
    "\n",
    "# Plot the Elbow Method to find the optimal number of clusters\n",
    "plt.plot(range(1, 11), inertia, marker='o')\n",
    "plt.title('Elbow Method for Optimal Cluster Number')\n",
    "plt.xlabel('Number of Clusters')\n",
    "plt.ylabel('Inertia')\n",
    "plt.show()"
   ]
  },
  {
   "cell_type": "code",
   "execution_count": 325,
   "metadata": {},
   "outputs": [
    {
     "data": {
      "image/png": "[encoded data removed]",
      "text/plain": [
       "<Figure size 640x480 with 1 Axes>"
      ]
     },
     "metadata": {},
     "output_type": "display_data"
    },
    {
     "name": "stdout",
     "output_type": "stream",
     "text": [
      "                 date  num_sequences  perc_sequences  num_sequences_total  \\\n",
      "cluster                                                                     \n",
      "0        1.602722e+09       5.249495        0.756681           394.528717   \n",
      "1        1.627163e+09       9.659397        0.889417          1299.988747   \n",
      "2        1.611528e+09     633.445358       90.196735           745.593252   \n",
      "3        1.631071e+09     643.506475        1.009885         89630.130935   \n",
      "4        1.632725e+09   92520.480000       95.862000         96200.440000   \n",
      "\n",
      "         location_Angola  location_Argentina  location_Aruba  \\\n",
      "cluster                                                        \n",
      "0               0.006203            0.011119        0.002527   \n",
      "1               0.007349            0.010157        0.009201   \n",
      "2               0.005540            0.010408        0.004700   \n",
      "3               0.000000            0.000000        0.000000   \n",
      "4               0.000000            0.000000        0.000000   \n",
      "\n",
      "         location_Australia  location_Austria  location_Bahrain  ...  \\\n",
      "cluster                                                          ...   \n",
      "0                  0.011165          0.011326          0.006548  ...   \n",
      "1                  0.010157          0.009619          0.007329  ...   \n",
      "2                  0.010072          0.009401          0.007218  ...   \n",
      "3                  0.000000          0.000000          0.000000  ...   \n",
      "4                  0.000000          0.000000          0.000000  ...   \n",
      "\n",
      "         location_Turkey  location_Uganda  location_Ukraine  \\\n",
      "cluster                                                       \n",
      "0               0.010683         0.009603          0.008110   \n",
      "1               0.009938         0.006393          0.008205   \n",
      "2               0.011415         0.008897          0.008561   \n",
      "3               0.000000         0.000000          0.000000   \n",
      "4               0.000000         0.000000          0.000000   \n",
      "\n",
      "         location_United Arab Emirates  location_United Kingdom  \\\n",
      "cluster                                                           \n",
      "0                             0.010683                 0.010085   \n",
      "1                             0.001374                 0.005537   \n",
      "2                             0.007051                 0.008561   \n",
      "3                             0.000000                 0.430216   \n",
      "4                             0.000000                 0.520000   \n",
      "\n",
      "         location_United States  location_Uruguay  location_Vietnam  \\\n",
      "cluster                                                               \n",
      "0                      0.009603          0.009603          0.002022   \n",
      "1                      0.004043          0.002191          0.007787   \n",
      "2                      0.008561          0.008058          0.004197   \n",
      "3                      0.569784          0.000000          0.000000   \n",
      "4                      0.480000          0.000000          0.000000   \n",
      "\n",
      "         location_Zambia  location_Zimbabwe  \n",
      "cluster                                      \n",
      "0               0.009258           0.008776  \n",
      "1               0.007289           0.005039  \n",
      "2               0.007890           0.006211  \n",
      "3               0.000000           0.000000  \n",
      "4               0.000000           0.000000  \n",
      "\n",
      "[5 rows x 125 columns]\n"
     ]
    },
    {
     "data": {
      "image/png": "[encoded data removed]",
      "text/plain": [
       "<Figure size 640x480 with 1 Axes>"
      ]
     },
     "metadata": {},
     "output_type": "display_data"
    }
   ],
   "source": [
    "# Choose the optimal number of clusters based on the Elbow Method\n",
    "optimal_clusters = 5  # Choosing the elbow point from the plot\n",
    "\n",
    "# Apply K-Means clustering\n",
    "kmeans = KMeans(n_clusters=optimal_clusters, random_state=42)\n",
    "X_cluster['cluster'] = kmeans.fit_predict(X_scaled)\n",
    "\n",
    "# Visualize the clusters\n",
    "plt.scatter(X_scaled[:, 0], X_scaled[:, 1], c=X_cluster['cluster'], cmap='viridis', alpha=0.5)\n",
    "plt.title('K-Means Clustering of Locations')\n",
    "plt.xlabel('Scaled Date')\n",
    "plt.ylabel('Scaled Num Sequences')\n",
    "plt.show()\n",
    "\n",
    "# Display cluster details\n",
    "cluster_details = X_cluster.groupby('cluster').mean()\n",
    "print(cluster_details)\n",
    "\n",
    "# Group locations by cluster and visualize on another plot\n",
    "location_cluster_counts = X_cluster.groupby('cluster').sum().iloc[:, 4:].transpose()\n",
    "location_cluster_counts.plot(kind='bar', stacked=True)\n",
    "plt.title('Locations Grouped by Cluster')\n",
    "plt.xlabel('Location')\n",
    "plt.ylabel('Count')\n",
    "plt.show()"
   ]
  },
  {
   "cell_type": "markdown",
   "metadata": {},
   "source": [
    "## Association Analysis"
   ]
  },
  {
   "cell_type": "markdown",
   "metadata": {},
   "source": [
    "Justify your design choices by filling below:\n",
    "1. Requirement Design: _____________________________________________________\n",
    "2. Justification for Association Analysis: _______________________________\n",
    "3. Attributes of interest: ________________________________________________\n",
    "4. Association Type/ Model Selected with reason: __________________________\n",
    "5. Input Parameter settings: ________________________________________________\n",
    "6. Approach or Results expected: ___________________________________________\n",
    "7. Metric chosen for analysis:_ _____________________________________________\n"
   ]
  },
  {
   "cell_type": "code",
   "execution_count": 271,
   "metadata": {},
   "outputs": [
    {
     "data": {
      "text/html": [
       "<div>\n",
       "<style scoped>\n",
       "    .dataframe tbody tr th:only-of-type {\n",
       "        vertical-align: middle;\n",
       "    }\n",
       "\n",
       "    .dataframe tbody tr th {\n",
       "        vertical-align: top;\n",
       "    }\n",
       "\n",
       "    .dataframe thead th {\n",
       "        text-align: right;\n",
       "    }\n",
       "</style>\n",
       "<table border=\"1\" class=\"dataframe\">\n",
       "  <thead>\n",
       "    <tr style=\"text-align: right;\">\n",
       "      <th></th>\n",
       "      <th>location</th>\n",
       "      <th>date</th>\n",
       "      <th>variant</th>\n",
       "      <th>num_sequences</th>\n",
       "      <th>perc_sequences</th>\n",
       "      <th>Total</th>\n",
       "    </tr>\n",
       "  </thead>\n",
       "  <tbody>\n",
       "    <tr>\n",
       "      <th>0</th>\n",
       "      <td>Angola</td>\n",
       "      <td>2020-07-06</td>\n",
       "      <td>Alpha</td>\n",
       "      <td>0</td>\n",
       "      <td>0.0</td>\n",
       "      <td>3</td>\n",
       "    </tr>\n",
       "    <tr>\n",
       "      <th>1</th>\n",
       "      <td>Angola</td>\n",
       "      <td>2020-07-06</td>\n",
       "      <td>B.1.1.277</td>\n",
       "      <td>0</td>\n",
       "      <td>0.0</td>\n",
       "      <td>3</td>\n",
       "    </tr>\n",
       "    <tr>\n",
       "      <th>2</th>\n",
       "      <td>Angola</td>\n",
       "      <td>2020-07-06</td>\n",
       "      <td>B.1.1.302</td>\n",
       "      <td>0</td>\n",
       "      <td>0.0</td>\n",
       "      <td>3</td>\n",
       "    </tr>\n",
       "    <tr>\n",
       "      <th>3</th>\n",
       "      <td>Angola</td>\n",
       "      <td>2020-07-06</td>\n",
       "      <td>B.1.1.519</td>\n",
       "      <td>0</td>\n",
       "      <td>0.0</td>\n",
       "      <td>3</td>\n",
       "    </tr>\n",
       "    <tr>\n",
       "      <th>4</th>\n",
       "      <td>Angola</td>\n",
       "      <td>2020-07-06</td>\n",
       "      <td>B.1.160</td>\n",
       "      <td>0</td>\n",
       "      <td>0.0</td>\n",
       "      <td>3</td>\n",
       "    </tr>\n",
       "  </tbody>\n",
       "</table>\n",
       "</div>"
      ],
      "text/plain": [
       "  location        date    variant  num_sequences  perc_sequences  Total\n",
       "0   Angola  2020-07-06      Alpha              0             0.0      3\n",
       "1   Angola  2020-07-06  B.1.1.277              0             0.0      3\n",
       "2   Angola  2020-07-06  B.1.1.302              0             0.0      3\n",
       "3   Angola  2020-07-06  B.1.1.519              0             0.0      3\n",
       "4   Angola  2020-07-06    B.1.160              0             0.0      3"
      ]
     },
     "execution_count": 271,
     "metadata": {},
     "output_type": "execute_result"
    }
   ],
   "source": [
    "df = pd.read_csv(\"DataMining_PS1_DatasetName_ANALYSIS_Groupno7.csv\")\n",
    "df = df.rename(columns = {\"num_sequences_total\" : \"Total\"})\n",
    "df.head()"
   ]
  },
  {
   "cell_type": "code",
   "execution_count": 272,
   "metadata": {},
   "outputs": [
    {
     "data": {
      "text/html": [
       "<div>\n",
       "<style scoped>\n",
       "    .dataframe tbody tr th:only-of-type {\n",
       "        vertical-align: middle;\n",
       "    }\n",
       "\n",
       "    .dataframe tbody tr th {\n",
       "        vertical-align: top;\n",
       "    }\n",
       "\n",
       "    .dataframe thead th {\n",
       "        text-align: right;\n",
       "    }\n",
       "</style>\n",
       "<table border=\"1\" class=\"dataframe\">\n",
       "  <thead>\n",
       "    <tr style=\"text-align: right;\">\n",
       "      <th></th>\n",
       "      <th>location</th>\n",
       "      <th>date</th>\n",
       "      <th>variant</th>\n",
       "      <th>num_sequences</th>\n",
       "      <th>perc_sequences</th>\n",
       "      <th>Total</th>\n",
       "    </tr>\n",
       "  </thead>\n",
       "  <tbody>\n",
       "    <tr>\n",
       "      <th>36360</th>\n",
       "      <td>India</td>\n",
       "      <td>2020-05-11</td>\n",
       "      <td>Alpha</td>\n",
       "      <td>0</td>\n",
       "      <td>0.0</td>\n",
       "      <td>471</td>\n",
       "    </tr>\n",
       "    <tr>\n",
       "      <th>36361</th>\n",
       "      <td>India</td>\n",
       "      <td>2020-05-11</td>\n",
       "      <td>B.1.1.277</td>\n",
       "      <td>0</td>\n",
       "      <td>0.0</td>\n",
       "      <td>471</td>\n",
       "    </tr>\n",
       "    <tr>\n",
       "      <th>36362</th>\n",
       "      <td>India</td>\n",
       "      <td>2020-05-11</td>\n",
       "      <td>B.1.1.302</td>\n",
       "      <td>0</td>\n",
       "      <td>0.0</td>\n",
       "      <td>471</td>\n",
       "    </tr>\n",
       "    <tr>\n",
       "      <th>36363</th>\n",
       "      <td>India</td>\n",
       "      <td>2020-05-11</td>\n",
       "      <td>B.1.1.519</td>\n",
       "      <td>0</td>\n",
       "      <td>0.0</td>\n",
       "      <td>471</td>\n",
       "    </tr>\n",
       "    <tr>\n",
       "      <th>36364</th>\n",
       "      <td>India</td>\n",
       "      <td>2020-05-11</td>\n",
       "      <td>B.1.160</td>\n",
       "      <td>0</td>\n",
       "      <td>0.0</td>\n",
       "      <td>471</td>\n",
       "    </tr>\n",
       "  </tbody>\n",
       "</table>\n",
       "</div>"
      ],
      "text/plain": [
       "      location        date    variant  num_sequences  perc_sequences  Total\n",
       "36360    India  2020-05-11      Alpha              0             0.0    471\n",
       "36361    India  2020-05-11  B.1.1.277              0             0.0    471\n",
       "36362    India  2020-05-11  B.1.1.302              0             0.0    471\n",
       "36363    India  2020-05-11  B.1.1.519              0             0.0    471\n",
       "36364    India  2020-05-11    B.1.160              0             0.0    471"
      ]
     },
     "execution_count": 272,
     "metadata": {},
     "output_type": "execute_result"
    }
   ],
   "source": [
    "df_india = df[df[\"location\"]==\"India\"]\n",
    "df_india.head()"
   ]
  },
  {
   "cell_type": "code",
   "execution_count": 273,
   "metadata": {},
   "outputs": [
    {
     "data": {
      "text/html": [
       "<div>\n",
       "<style scoped>\n",
       "    .dataframe tbody tr th:only-of-type {\n",
       "        vertical-align: middle;\n",
       "    }\n",
       "\n",
       "    .dataframe tbody tr th {\n",
       "        vertical-align: top;\n",
       "    }\n",
       "\n",
       "    .dataframe thead th {\n",
       "        text-align: right;\n",
       "    }\n",
       "</style>\n",
       "<table border=\"1\" class=\"dataframe\">\n",
       "  <thead>\n",
       "    <tr style=\"text-align: right;\">\n",
       "      <th></th>\n",
       "      <th>date</th>\n",
       "      <th>Total</th>\n",
       "    </tr>\n",
       "  </thead>\n",
       "  <tbody>\n",
       "    <tr>\n",
       "      <th>0</th>\n",
       "      <td>2020-05-11</td>\n",
       "      <td>11304</td>\n",
       "    </tr>\n",
       "    <tr>\n",
       "      <th>1</th>\n",
       "      <td>2020-05-25</td>\n",
       "      <td>15576</td>\n",
       "    </tr>\n",
       "    <tr>\n",
       "      <th>2</th>\n",
       "      <td>2020-06-08</td>\n",
       "      <td>14808</td>\n",
       "    </tr>\n",
       "    <tr>\n",
       "      <th>3</th>\n",
       "      <td>2020-06-22</td>\n",
       "      <td>18384</td>\n",
       "    </tr>\n",
       "    <tr>\n",
       "      <th>4</th>\n",
       "      <td>2020-07-06</td>\n",
       "      <td>6624</td>\n",
       "    </tr>\n",
       "  </tbody>\n",
       "</table>\n",
       "</div>"
      ],
      "text/plain": [
       "         date  Total\n",
       "0  2020-05-11  11304\n",
       "1  2020-05-25  15576\n",
       "2  2020-06-08  14808\n",
       "3  2020-06-22  18384\n",
       "4  2020-07-06   6624"
      ]
     },
     "execution_count": 273,
     "metadata": {},
     "output_type": "execute_result"
    }
   ],
   "source": [
    "df_ind_omi = df_india.groupby('date')['Total'].sum().reset_index()\n",
    "df_ind_omi.head()"
   ]
  },
  {
   "cell_type": "code",
   "execution_count": 274,
   "metadata": {},
   "outputs": [
    {
     "data": {
      "application/vnd.plotly.v1+json": {
       "config": {
        "plotlyServerURL": "https://plot.ly"
       },
       "data": [
        {
         "marker": {
          "color": "DarkBlue"
         },
         "mode": "lines",
         "name": "India",
         "type": "scatter",
         "x": [
          "2020-05-11",
          "2020-05-25",
          "2020-06-08",
          "2020-06-22",
          "2020-07-06",
          "2020-07-20",
          "2020-08-03",
          "2020-08-17",
          "2020-08-31",
          "2020-09-14",
          "2020-09-28",
          "2020-10-12",
          "2020-10-26",
          "2020-11-09",
          "2020-11-23",
          "2020-12-07",
          "2020-12-21",
          "2021-01-04",
          "2021-01-11",
          "2021-01-25",
          "2021-02-08",
          "2021-02-22",
          "2021-03-08",
          "2021-03-22",
          "2021-04-05",
          "2021-04-19",
          "2021-05-03",
          "2021-05-17",
          "2021-05-31",
          "2021-06-14",
          "2021-06-28",
          "2021-07-12",
          "2021-07-26",
          "2021-08-09",
          "2021-08-23",
          "2021-09-06",
          "2021-09-20",
          "2021-10-04",
          "2021-10-18",
          "2021-11-01",
          "2021-11-15",
          "2021-11-29",
          "2021-12-13",
          "2021-12-27"
         ],
         "y": [
          11304,
          15576,
          14808,
          18384,
          6624,
          7608,
          9432,
          10032,
          5640,
          10152,
          9528,
          9816,
          7896,
          8496,
          6864,
          27120,
          37104,
          31032,
          14016,
          28080,
          32064,
          40728,
          59472,
          90264,
          113616,
          179112,
          194064,
          154008,
          128352,
          102192,
          90696,
          81792,
          78840,
          69312,
          63480,
          87768,
          77376,
          58464,
          47472,
          42744,
          32688,
          32640,
          26040,
          11976
         ]
        }
       ],
       "layout": {
        "autosize": true,
        "template": {
         "data": {
          "bar": [
           {
            "error_x": {
             "color": "#2a3f5f"
            },
            "error_y": {
             "color": "#2a3f5f"
            },
            "marker": {
             "line": {
              "color": "white",
              "width": 0.5
             },
             "pattern": {
              "fillmode": "overlay",
              "size": 10,
              "solidity": 0.2
             }
            },
            "type": "bar"
           }
          ],
          "barpolar": [
           {
            "marker": {
             "line": {
              "color": "white",
              "width": 0.5
             },
             "pattern": {
              "fillmode": "overlay",
              "size": 10,
              "solidity": 0.2
             }
            },
            "type": "barpolar"
           }
          ],
          "carpet": [
           {
            "aaxis": {
             "endlinecolor": "#2a3f5f",
             "gridcolor": "#C8D4E3",
             "linecolor": "#C8D4E3",
             "minorgridcolor": "#C8D4E3",
             "startlinecolor": "#2a3f5f"
            },
            "baxis": {
             "endlinecolor": "#2a3f5f",
             "gridcolor": "#C8D4E3",
             "linecolor": "#C8D4E3",
             "minorgridcolor": "#C8D4E3",
             "startlinecolor": "#2a3f5f"
            },
            "type": "carpet"
           }
          ],
          "choropleth": [
           {
            "colorbar": {
             "outlinewidth": 0,
             "ticks": ""
            },
            "type": "choropleth"
           }
          ],
          "contour": [
           {
            "colorbar": {
             "outlinewidth": 0,
             "ticks": ""
            },
            "colorscale": [
             [
              0,
              "#0d0887"
             ],
             [
              0.1111111111111111,
              "#46039f"
             ],
             [
              0.2222222222222222,
              "#7201a8"
             ],
             [
              0.3333333333333333,
              "#9c179e"
             ],
             [
              0.4444444444444444,
              "#bd3786"
             ],
             [
              0.5555555555555556,
              "#d8576b"
             ],
             [
              0.6666666666666666,
              "#ed7953"
             ],
             [
              0.7777777777777778,
              "#fb9f3a"
             ],
             [
              0.8888888888888888,
              "#fdca26"
             ],
             [
              1,
              "#f0f921"
             ]
            ],
            "type": "contour"
           }
          ],
          "contourcarpet": [
           {
            "colorbar": {
             "outlinewidth": 0,
             "ticks": ""
            },
            "type": "contourcarpet"
           }
          ],
          "heatmap": [
           {
            "colorbar": {
             "outlinewidth": 0,
             "ticks": ""
            },
            "colorscale": [
             [
              0,
              "#0d0887"
             ],
             [
              0.1111111111111111,
              "#46039f"
             ],
             [
              0.2222222222222222,
              "#7201a8"
             ],
             [
              0.3333333333333333,
              "#9c179e"
             ],
             [
              0.4444444444444444,
              "#bd3786"
             ],
             [
              0.5555555555555556,
              "#d8576b"
             ],
             [
              0.6666666666666666,
              "#ed7953"
             ],
             [
              0.7777777777777778,
              "#fb9f3a"
             ],
             [
              0.8888888888888888,
              "#fdca26"
             ],
             [
              1,
              "#f0f921"
             ]
            ],
            "type": "heatmap"
           }
          ],
          "heatmapgl": [
           {
            "colorbar": {
             "outlinewidth": 0,
             "ticks": ""
            },
            "colorscale": [
             [
              0,
              "#0d0887"
             ],
             [
              0.1111111111111111,
              "#46039f"
             ],
             [
              0.2222222222222222,
              "#7201a8"
             ],
             [
              0.3333333333333333,
              "#9c179e"
             ],
             [
              0.4444444444444444,
              "#bd3786"
             ],
             [
              0.5555555555555556,
              "#d8576b"
             ],
             [
              0.6666666666666666,
              "#ed7953"
             ],
             [
              0.7777777777777778,
              "#fb9f3a"
             ],
             [
              0.8888888888888888,
              "#fdca26"
             ],
             [
              1,
              "#f0f921"
             ]
            ],
            "type": "heatmapgl"
           }
          ],
          "histogram": [
           {
            "marker": {
             "pattern": {
              "fillmode": "overlay",
              "size": 10,
              "solidity": 0.2
             }
            },
            "type": "histogram"
           }
          ],
          "histogram2d": [
           {
            "colorbar": {
             "outlinewidth": 0,
             "ticks": ""
            },
            "colorscale": [
             [
              0,
              "#0d0887"
             ],
             [
              0.1111111111111111,
              "#46039f"
             ],
             [
              0.2222222222222222,
              "#7201a8"
             ],
             [
              0.3333333333333333,
              "#9c179e"
             ],
             [
              0.4444444444444444,
              "#bd3786"
             ],
             [
              0.5555555555555556,
              "#d8576b"
             ],
             [
              0.6666666666666666,
              "#ed7953"
             ],
             [
              0.7777777777777778,
              "#fb9f3a"
             ],
             [
              0.8888888888888888,
              "#fdca26"
             ],
             [
              1,
              "#f0f921"
             ]
            ],
            "type": "histogram2d"
           }
          ],
          "histogram2dcontour": [
           {
            "colorbar": {
             "outlinewidth": 0,
             "ticks": ""
            },
            "colorscale": [
             [
              0,
              "#0d0887"
             ],
             [
              0.1111111111111111,
              "#46039f"
             ],
             [
              0.2222222222222222,
              "#7201a8"
             ],
             [
              0.3333333333333333,
              "#9c179e"
             ],
             [
              0.4444444444444444,
              "#bd3786"
             ],
             [
              0.5555555555555556,
              "#d8576b"
             ],
             [
              0.6666666666666666,
              "#ed7953"
             ],
             [
              0.7777777777777778,
              "#fb9f3a"
             ],
             [
              0.8888888888888888,
              "#fdca26"
             ],
             [
              1,
              "#f0f921"
             ]
            ],
            "type": "histogram2dcontour"
           }
          ],
          "mesh3d": [
           {
            "colorbar": {
             "outlinewidth": 0,
             "ticks": ""
            },
            "type": "mesh3d"
           }
          ],
          "parcoords": [
           {
            "line": {
             "colorbar": {
              "outlinewidth": 0,
              "ticks": ""
             }
            },
            "type": "parcoords"
           }
          ],
          "pie": [
           {
            "automargin": true,
            "type": "pie"
           }
          ],
          "scatter": [
           {
            "fillpattern": {
             "fillmode": "overlay",
             "size": 10,
             "solidity": 0.2
            },
            "type": "scatter"
           }
          ],
          "scatter3d": [
           {
            "line": {
             "colorbar": {
              "outlinewidth": 0,
              "ticks": ""
             }
            },
            "marker": {
             "colorbar": {
              "outlinewidth": 0,
              "ticks": ""
             }
            },
            "type": "scatter3d"
           }
          ],
          "scattercarpet": [
           {
            "marker": {
             "colorbar": {
              "outlinewidth": 0,
              "ticks": ""
             }
            },
            "type": "scattercarpet"
           }
          ],
          "scattergeo": [
           {
            "marker": {
             "colorbar": {
              "outlinewidth": 0,
              "ticks": ""
             }
            },
            "type": "scattergeo"
           }
          ],
          "scattergl": [
           {
            "marker": {
             "colorbar": {
              "outlinewidth": 0,
              "ticks": ""
             }
            },
            "type": "scattergl"
           }
          ],
          "scattermapbox": [
           {
            "marker": {
             "colorbar": {
              "outlinewidth": 0,
              "ticks": ""
             }
            },
            "type": "scattermapbox"
           }
          ],
          "scatterpolar": [
           {
            "marker": {
             "colorbar": {
              "outlinewidth": 0,
              "ticks": ""
             }
            },
            "type": "scatterpolar"
           }
          ],
          "scatterpolargl": [
           {
            "marker": {
             "colorbar": {
              "outlinewidth": 0,
              "ticks": ""
             }
            },
            "type": "scatterpolargl"
           }
          ],
          "scatterternary": [
           {
            "marker": {
             "colorbar": {
              "outlinewidth": 0,
              "ticks": ""
             }
            },
            "type": "scatterternary"
           }
          ],
          "surface": [
           {
            "colorbar": {
             "outlinewidth": 0,
             "ticks": ""
            },
            "colorscale": [
             [
              0,
              "#0d0887"
             ],
             [
              0.1111111111111111,
              "#46039f"
             ],
             [
              0.2222222222222222,
              "#7201a8"
             ],
             [
              0.3333333333333333,
              "#9c179e"
             ],
             [
              0.4444444444444444,
              "#bd3786"
             ],
             [
              0.5555555555555556,
              "#d8576b"
             ],
             [
              0.6666666666666666,
              "#ed7953"
             ],
             [
              0.7777777777777778,
              "#fb9f3a"
             ],
             [
              0.8888888888888888,
              "#fdca26"
             ],
             [
              1,
              "#f0f921"
             ]
            ],
            "type": "surface"
           }
          ],
          "table": [
           {
            "cells": {
             "fill": {
              "color": "#EBF0F8"
             },
             "line": {
              "color": "white"
             }
            },
            "header": {
             "fill": {
              "color": "#C8D4E3"
             },
             "line": {
              "color": "white"
             }
            },
            "type": "table"
           }
          ]
         },
         "layout": {
          "annotationdefaults": {
           "arrowcolor": "#2a3f5f",
           "arrowhead": 0,
           "arrowwidth": 1
          },
          "autotypenumbers": "strict",
          "coloraxis": {
           "colorbar": {
            "outlinewidth": 0,
            "ticks": ""
           }
          },
          "colorscale": {
           "diverging": [
            [
             0,
             "#8e0152"
            ],
            [
             0.1,
             "#c51b7d"
            ],
            [
             0.2,
             "#de77ae"
            ],
            [
             0.3,
             "#f1b6da"
            ],
            [
             0.4,
             "#fde0ef"
            ],
            [
             0.5,
             "#f7f7f7"
            ],
            [
             0.6,
             "#e6f5d0"
            ],
            [
             0.7,
             "#b8e186"
            ],
            [
             0.8,
             "#7fbc41"
            ],
            [
             0.9,
             "#4d9221"
            ],
            [
             1,
             "#276419"
            ]
           ],
           "sequential": [
            [
             0,
             "#0d0887"
            ],
            [
             0.1111111111111111,
             "#46039f"
            ],
            [
             0.2222222222222222,
             "#7201a8"
            ],
            [
             0.3333333333333333,
             "#9c179e"
            ],
            [
             0.4444444444444444,
             "#bd3786"
            ],
            [
             0.5555555555555556,
             "#d8576b"
            ],
            [
             0.6666666666666666,
             "#ed7953"
            ],
            [
             0.7777777777777778,
             "#fb9f3a"
            ],
            [
             0.8888888888888888,
             "#fdca26"
            ],
            [
             1,
             "#f0f921"
            ]
           ],
           "sequentialminus": [
            [
             0,
             "#0d0887"
            ],
            [
             0.1111111111111111,
             "#46039f"
            ],
            [
             0.2222222222222222,
             "#7201a8"
            ],
            [
             0.3333333333333333,
             "#9c179e"
            ],
            [
             0.4444444444444444,
             "#bd3786"
            ],
            [
             0.5555555555555556,
             "#d8576b"
            ],
            [
             0.6666666666666666,
             "#ed7953"
            ],
            [
             0.7777777777777778,
             "#fb9f3a"
            ],
            [
             0.8888888888888888,
             "#fdca26"
            ],
            [
             1,
             "#f0f921"
            ]
           ]
          },
          "colorway": [
           "#636efa",
           "#EF553B",
           "#00cc96",
           "#ab63fa",
           "#FFA15A",
           "#19d3f3",
           "#FF6692",
           "#B6E880",
           "#FF97FF",
           "#FECB52"
          ],
          "font": {
           "color": "#2a3f5f"
          },
          "geo": {
           "bgcolor": "white",
           "lakecolor": "white",
           "landcolor": "white",
           "showlakes": true,
           "showland": true,
           "subunitcolor": "#C8D4E3"
          },
          "hoverlabel": {
           "align": "left"
          },
          "hovermode": "closest",
          "mapbox": {
           "style": "light"
          },
          "paper_bgcolor": "white",
          "plot_bgcolor": "white",
          "polar": {
           "angularaxis": {
            "gridcolor": "#EBF0F8",
            "linecolor": "#EBF0F8",
            "ticks": ""
           },
           "bgcolor": "white",
           "radialaxis": {
            "gridcolor": "#EBF0F8",
            "linecolor": "#EBF0F8",
            "ticks": ""
           }
          },
          "scene": {
           "xaxis": {
            "backgroundcolor": "white",
            "gridcolor": "#DFE8F3",
            "gridwidth": 2,
            "linecolor": "#EBF0F8",
            "showbackground": true,
            "ticks": "",
            "zerolinecolor": "#EBF0F8"
           },
           "yaxis": {
            "backgroundcolor": "white",
            "gridcolor": "#DFE8F3",
            "gridwidth": 2,
            "linecolor": "#EBF0F8",
            "showbackground": true,
            "ticks": "",
            "zerolinecolor": "#EBF0F8"
           },
           "zaxis": {
            "backgroundcolor": "white",
            "gridcolor": "#DFE8F3",
            "gridwidth": 2,
            "linecolor": "#EBF0F8",
            "showbackground": true,
            "ticks": "",
            "zerolinecolor": "#EBF0F8"
           }
          },
          "shapedefaults": {
           "line": {
            "color": "#2a3f5f"
           }
          },
          "ternary": {
           "aaxis": {
            "gridcolor": "#DFE8F3",
            "linecolor": "#A2B1C6",
            "ticks": ""
           },
           "baxis": {
            "gridcolor": "#DFE8F3",
            "linecolor": "#A2B1C6",
            "ticks": ""
           },
           "bgcolor": "white",
           "caxis": {
            "gridcolor": "#DFE8F3",
            "linecolor": "#A2B1C6",
            "ticks": ""
           }
          },
          "title": {
           "x": 0.05
          },
          "xaxis": {
           "automargin": true,
           "gridcolor": "#EBF0F8",
           "linecolor": "#EBF0F8",
           "ticks": "",
           "title": {
            "standoff": 15
           },
           "zerolinecolor": "#EBF0F8",
           "zerolinewidth": 2
          },
          "yaxis": {
           "automargin": true,
           "gridcolor": "#EBF0F8",
           "linecolor": "#EBF0F8",
           "ticks": "",
           "title": {
            "standoff": 15
           },
           "zerolinecolor": "#EBF0F8",
           "zerolinewidth": 2
          }
         }
        },
        "title": {
         "font": {
          "color": "Darkred",
          "size": 18
         },
         "text": "<b> Total Confirmed Omicron Cases in India from 2020 to 2022<b>",
         "x": 0.5
        },
        "xaxis": {
         "autorange": true,
         "range": [
          "2020-05-11",
          "2021-12-27"
         ],
         "type": "date"
        },
        "yaxis": {
         "autorange": true,
         "range": [
          -4828,
          204532
         ],
         "type": "linear"
        }
       }
      },
      "image/png": "[encoded data removed]",
      "text/html": [
       "<div>                            <div id=\"10ca7900-30e3-4b3d-8fb2-2c14212920d3\" class=\"plotly-graph-div\" style=\"height:525px; width:100%;\"></div>            <script type=\"text/javascript\">                require([\"plotly\"], function(Plotly) {                    window.PLOTLYENV=window.PLOTLYENV || {};                                    if (document.getElementById(\"10ca7900-30e3-4b3d-8fb2-2c14212920d3\")) {                    Plotly.newPlot(                        \"10ca7900-30e3-4b3d-8fb2-2c14212920d3\",                        [{\"marker\":{\"color\":\"DarkBlue\"},\"mode\":\"lines\",\"name\":\"India\",\"x\":[\"2020-05-11\",\"2020-05-25\",\"2020-06-08\",\"2020-06-22\",\"2020-07-06\",\"2020-07-20\",\"2020-08-03\",\"2020-08-17\",\"2020-08-31\",\"2020-09-14\",\"2020-09-28\",\"2020-10-12\",\"2020-10-26\",\"2020-11-09\",\"2020-11-23\",\"2020-12-07\",\"2020-12-21\",\"2021-01-04\",\"2021-01-11\",\"2021-01-25\",\"2021-02-08\",\"2021-02-22\",\"2021-03-08\",\"2021-03-22\",\"2021-04-05\",\"2021-04-19\",\"2021-05-03\",\"2021-05-17\",\"2021-05-31\",\"2021-06-14\",\"2021-06-28\",\"2021-07-12\",\"2021-07-26\",\"2021-08-09\",\"2021-08-23\",\"2021-09-06\",\"2021-09-20\",\"2021-10-04\",\"2021-10-18\",\"2021-11-01\",\"2021-11-15\",\"2021-11-29\",\"2021-12-13\",\"2021-12-27\"],\"y\":[11304,15576,14808,18384,6624,7608,9432,10032,5640,10152,9528,9816,7896,8496,6864,27120,37104,31032,14016,28080,32064,40728,59472,90264,113616,179112,194064,154008,128352,102192,90696,81792,78840,69312,63480,87768,77376,58464,47472,42744,32688,32640,26040,11976],\"type\":\"scatter\"}],                        {\"template\":{\"data\":{\"barpolar\":[{\"marker\":{\"line\":{\"color\":\"white\",\"width\":0.5},\"pattern\":{\"fillmode\":\"overlay\",\"size\":10,\"solidity\":0.2}},\"type\":\"barpolar\"}],\"bar\":[{\"error_x\":{\"color\":\"#2a3f5f\"},\"error_y\":{\"color\":\"#2a3f5f\"},\"marker\":{\"line\":{\"color\":\"white\",\"width\":0.5},\"pattern\":{\"fillmode\":\"overlay\",\"size\":10,\"solidity\":0.2}},\"type\":\"bar\"}],\"carpet\":[{\"aaxis\":{\"endlinecolor\":\"#2a3f5f\",\"gridcolor\":\"#C8D4E3\",\"linecolor\":\"#C8D4E3\",\"minorgridcolor\":\"#C8D4E3\",\"startlinecolor\":\"#2a3f5f\"},\"baxis\":{\"endlinecolor\":\"#2a3f5f\",\"gridcolor\":\"#C8D4E3\",\"linecolor\":\"#C8D4E3\",\"minorgridcolor\":\"#C8D4E3\",\"startlinecolor\":\"#2a3f5f\"},\"type\":\"carpet\"}],\"choropleth\":[{\"colorbar\":{\"outlinewidth\":0,\"ticks\":\"\"},\"type\":\"choropleth\"}],\"contourcarpet\":[{\"colorbar\":{\"outlinewidth\":0,\"ticks\":\"\"},\"type\":\"contourcarpet\"}],\"contour\":[{\"colorbar\":{\"outlinewidth\":0,\"ticks\":\"\"},\"colorscale\":[[0.0,\"#0d0887\"],[0.1111111111111111,\"#46039f\"],[0.2222222222222222,\"#7201a8\"],[0.3333333333333333,\"#9c179e\"],[0.4444444444444444,\"#bd3786\"],[0.5555555555555556,\"#d8576b\"],[0.6666666666666666,\"#ed7953\"],[0.7777777777777778,\"#fb9f3a\"],[0.8888888888888888,\"#fdca26\"],[1.0,\"#f0f921\"]],\"type\":\"contour\"}],\"heatmapgl\":[{\"colorbar\":{\"outlinewidth\":0,\"ticks\":\"\"},\"colorscale\":[[0.0,\"#0d0887\"],[0.1111111111111111,\"#46039f\"],[0.2222222222222222,\"#7201a8\"],[0.3333333333333333,\"#9c179e\"],[0.4444444444444444,\"#bd3786\"],[0.5555555555555556,\"#d8576b\"],[0.6666666666666666,\"#ed7953\"],[0.7777777777777778,\"#fb9f3a\"],[0.8888888888888888,\"#fdca26\"],[1.0,\"#f0f921\"]],\"type\":\"heatmapgl\"}],\"heatmap\":[{\"colorbar\":{\"outlinewidth\":0,\"ticks\":\"\"},\"colorscale\":[[0.0,\"#0d0887\"],[0.1111111111111111,\"#46039f\"],[0.2222222222222222,\"#7201a8\"],[0.3333333333333333,\"#9c179e\"],[0.4444444444444444,\"#bd3786\"],[0.5555555555555556,\"#d8576b\"],[0.6666666666666666,\"#ed7953\"],[0.7777777777777778,\"#fb9f3a\"],[0.8888888888888888,\"#fdca26\"],[1.0,\"#f0f921\"]],\"type\":\"heatmap\"}],\"histogram2dcontour\":[{\"colorbar\":{\"outlinewidth\":0,\"ticks\":\"\"},\"colorscale\":[[0.0,\"#0d0887\"],[0.1111111111111111,\"#46039f\"],[0.2222222222222222,\"#7201a8\"],[0.3333333333333333,\"#9c179e\"],[0.4444444444444444,\"#bd3786\"],[0.5555555555555556,\"#d8576b\"],[0.6666666666666666,\"#ed7953\"],[0.7777777777777778,\"#fb9f3a\"],[0.8888888888888888,\"#fdca26\"],[1.0,\"#f0f921\"]],\"type\":\"histogram2dcontour\"}],\"histogram2d\":[{\"colorbar\":{\"outlinewidth\":0,\"ticks\":\"\"},\"colorscale\":[[0.0,\"#0d0887\"],[0.1111111111111111,\"#46039f\"],[0.2222222222222222,\"#7201a8\"],[0.3333333333333333,\"#9c179e\"],[0.4444444444444444,\"#bd3786\"],[0.5555555555555556,\"#d8576b\"],[0.6666666666666666,\"#ed7953\"],[0.7777777777777778,\"#fb9f3a\"],[0.8888888888888888,\"#fdca26\"],[1.0,\"#f0f921\"]],\"type\":\"histogram2d\"}],\"histogram\":[{\"marker\":{\"pattern\":{\"fillmode\":\"overlay\",\"size\":10,\"solidity\":0.2}},\"type\":\"histogram\"}],\"mesh3d\":[{\"colorbar\":{\"outlinewidth\":0,\"ticks\":\"\"},\"type\":\"mesh3d\"}],\"parcoords\":[{\"line\":{\"colorbar\":{\"outlinewidth\":0,\"ticks\":\"\"}},\"type\":\"parcoords\"}],\"pie\":[{\"automargin\":true,\"type\":\"pie\"}],\"scatter3d\":[{\"line\":{\"colorbar\":{\"outlinewidth\":0,\"ticks\":\"\"}},\"marker\":{\"colorbar\":{\"outlinewidth\":0,\"ticks\":\"\"}},\"type\":\"scatter3d\"}],\"scattercarpet\":[{\"marker\":{\"colorbar\":{\"outlinewidth\":0,\"ticks\":\"\"}},\"type\":\"scattercarpet\"}],\"scattergeo\":[{\"marker\":{\"colorbar\":{\"outlinewidth\":0,\"ticks\":\"\"}},\"type\":\"scattergeo\"}],\"scattergl\":[{\"marker\":{\"colorbar\":{\"outlinewidth\":0,\"ticks\":\"\"}},\"type\":\"scattergl\"}],\"scattermapbox\":[{\"marker\":{\"colorbar\":{\"outlinewidth\":0,\"ticks\":\"\"}},\"type\":\"scattermapbox\"}],\"scatterpolargl\":[{\"marker\":{\"colorbar\":{\"outlinewidth\":0,\"ticks\":\"\"}},\"type\":\"scatterpolargl\"}],\"scatterpolar\":[{\"marker\":{\"colorbar\":{\"outlinewidth\":0,\"ticks\":\"\"}},\"type\":\"scatterpolar\"}],\"scatter\":[{\"fillpattern\":{\"fillmode\":\"overlay\",\"size\":10,\"solidity\":0.2},\"type\":\"scatter\"}],\"scatterternary\":[{\"marker\":{\"colorbar\":{\"outlinewidth\":0,\"ticks\":\"\"}},\"type\":\"scatterternary\"}],\"surface\":[{\"colorbar\":{\"outlinewidth\":0,\"ticks\":\"\"},\"colorscale\":[[0.0,\"#0d0887\"],[0.1111111111111111,\"#46039f\"],[0.2222222222222222,\"#7201a8\"],[0.3333333333333333,\"#9c179e\"],[0.4444444444444444,\"#bd3786\"],[0.5555555555555556,\"#d8576b\"],[0.6666666666666666,\"#ed7953\"],[0.7777777777777778,\"#fb9f3a\"],[0.8888888888888888,\"#fdca26\"],[1.0,\"#f0f921\"]],\"type\":\"surface\"}],\"table\":[{\"cells\":{\"fill\":{\"color\":\"#EBF0F8\"},\"line\":{\"color\":\"white\"}},\"header\":{\"fill\":{\"color\":\"#C8D4E3\"},\"line\":{\"color\":\"white\"}},\"type\":\"table\"}]},\"layout\":{\"annotationdefaults\":{\"arrowcolor\":\"#2a3f5f\",\"arrowhead\":0,\"arrowwidth\":1},\"autotypenumbers\":\"strict\",\"coloraxis\":{\"colorbar\":{\"outlinewidth\":0,\"ticks\":\"\"}},\"colorscale\":{\"diverging\":[[0,\"#8e0152\"],[0.1,\"#c51b7d\"],[0.2,\"#de77ae\"],[0.3,\"#f1b6da\"],[0.4,\"#fde0ef\"],[0.5,\"#f7f7f7\"],[0.6,\"#e6f5d0\"],[0.7,\"#b8e186\"],[0.8,\"#7fbc41\"],[0.9,\"#4d9221\"],[1,\"#276419\"]],\"sequential\":[[0.0,\"#0d0887\"],[0.1111111111111111,\"#46039f\"],[0.2222222222222222,\"#7201a8\"],[0.3333333333333333,\"#9c179e\"],[0.4444444444444444,\"#bd3786\"],[0.5555555555555556,\"#d8576b\"],[0.6666666666666666,\"#ed7953\"],[0.7777777777777778,\"#fb9f3a\"],[0.8888888888888888,\"#fdca26\"],[1.0,\"#f0f921\"]],\"sequentialminus\":[[0.0,\"#0d0887\"],[0.1111111111111111,\"#46039f\"],[0.2222222222222222,\"#7201a8\"],[0.3333333333333333,\"#9c179e\"],[0.4444444444444444,\"#bd3786\"],[0.5555555555555556,\"#d8576b\"],[0.6666666666666666,\"#ed7953\"],[0.7777777777777778,\"#fb9f3a\"],[0.8888888888888888,\"#fdca26\"],[1.0,\"#f0f921\"]]},\"colorway\":[\"#636efa\",\"#EF553B\",\"#00cc96\",\"#ab63fa\",\"#FFA15A\",\"#19d3f3\",\"#FF6692\",\"#B6E880\",\"#FF97FF\",\"#FECB52\"],\"font\":{\"color\":\"#2a3f5f\"},\"geo\":{\"bgcolor\":\"white\",\"lakecolor\":\"white\",\"landcolor\":\"white\",\"showlakes\":true,\"showland\":true,\"subunitcolor\":\"#C8D4E3\"},\"hoverlabel\":{\"align\":\"left\"},\"hovermode\":\"closest\",\"mapbox\":{\"style\":\"light\"},\"paper_bgcolor\":\"white\",\"plot_bgcolor\":\"white\",\"polar\":{\"angularaxis\":{\"gridcolor\":\"#EBF0F8\",\"linecolor\":\"#EBF0F8\",\"ticks\":\"\"},\"bgcolor\":\"white\",\"radialaxis\":{\"gridcolor\":\"#EBF0F8\",\"linecolor\":\"#EBF0F8\",\"ticks\":\"\"}},\"scene\":{\"xaxis\":{\"backgroundcolor\":\"white\",\"gridcolor\":\"#DFE8F3\",\"gridwidth\":2,\"linecolor\":\"#EBF0F8\",\"showbackground\":true,\"ticks\":\"\",\"zerolinecolor\":\"#EBF0F8\"},\"yaxis\":{\"backgroundcolor\":\"white\",\"gridcolor\":\"#DFE8F3\",\"gridwidth\":2,\"linecolor\":\"#EBF0F8\",\"showbackground\":true,\"ticks\":\"\",\"zerolinecolor\":\"#EBF0F8\"},\"zaxis\":{\"backgroundcolor\":\"white\",\"gridcolor\":\"#DFE8F3\",\"gridwidth\":2,\"linecolor\":\"#EBF0F8\",\"showbackground\":true,\"ticks\":\"\",\"zerolinecolor\":\"#EBF0F8\"}},\"shapedefaults\":{\"line\":{\"color\":\"#2a3f5f\"}},\"ternary\":{\"aaxis\":{\"gridcolor\":\"#DFE8F3\",\"linecolor\":\"#A2B1C6\",\"ticks\":\"\"},\"baxis\":{\"gridcolor\":\"#DFE8F3\",\"linecolor\":\"#A2B1C6\",\"ticks\":\"\"},\"bgcolor\":\"white\",\"caxis\":{\"gridcolor\":\"#DFE8F3\",\"linecolor\":\"#A2B1C6\",\"ticks\":\"\"}},\"title\":{\"x\":0.05},\"xaxis\":{\"automargin\":true,\"gridcolor\":\"#EBF0F8\",\"linecolor\":\"#EBF0F8\",\"ticks\":\"\",\"title\":{\"standoff\":15},\"zerolinecolor\":\"#EBF0F8\",\"zerolinewidth\":2},\"yaxis\":{\"automargin\":true,\"gridcolor\":\"#EBF0F8\",\"linecolor\":\"#EBF0F8\",\"ticks\":\"\",\"title\":{\"standoff\":15},\"zerolinecolor\":\"#EBF0F8\",\"zerolinewidth\":2}}},\"title\":{\"text\":\"\\u003cb\\u003e Total Confirmed Omicron Cases in India from 2020 to 2022\\u003cb\\u003e\",\"x\":0.5,\"font\":{\"size\":18,\"color\":\"Darkred\"}}},                        {\"responsive\": true}                    ).then(function(){\n",
       "                            \n",
       "var gd = document.getElementById('10ca7900-30e3-4b3d-8fb2-2c14212920d3');\n",
       "var x = new MutationObserver(function (mutations, observer) {{\n",
       "        var display = window.getComputedStyle(gd).display;\n",
       "        if (!display || display === 'none') {{\n",
       "            console.log([gd, 'removed!']);\n",
       "            Plotly.purge(gd);\n",
       "            observer.disconnect();\n",
       "        }}\n",
       "}});\n",
       "\n",
       "// Listen for the removal of the full notebook cells\n",
       "var notebookContainer = gd.closest('#notebook-container');\n",
       "if (notebookContainer) {{\n",
       "    x.observe(notebookContainer, {childList: true});\n",
       "}}\n",
       "\n",
       "// Listen for the clearing of the current output cell\n",
       "var outputEl = gd.closest('.output');\n",
       "if (outputEl) {{\n",
       "    x.observe(outputEl, {childList: true});\n",
       "}}\n",
       "\n",
       "                        })                };                });            </script>        </div>"
      ]
     },
     "metadata": {},
     "output_type": "display_data"
    }
   ],
   "source": [
    "fig = go.Figure()\n",
    "\n",
    "fig.add_trace(go.Scatter(x = df_ind_omi['date'],\n",
    "                         y = df_ind_omi['Total'],\n",
    "                         mode = 'lines',\n",
    "                         name = 'India',\n",
    "                         marker_color = 'DarkBlue'))\n",
    "\n",
    "fig.update_layout(title = '<b> Total Confirmed Omicron Cases in India from 2020 to 2022<b>',\n",
    "                  title_x = 0.5,\n",
    "                  title_font = dict(size = 18, color = 'Darkred'),\n",
    "                  template = 'plotly_white')\n",
    "\n",
    "fig.show()"
   ]
  },
  {
   "cell_type": "code",
   "execution_count": 275,
   "metadata": {},
   "outputs": [
    {
     "data": {
      "text/html": [
       "<div>\n",
       "<style scoped>\n",
       "    .dataframe tbody tr th:only-of-type {\n",
       "        vertical-align: middle;\n",
       "    }\n",
       "\n",
       "    .dataframe tbody tr th {\n",
       "        vertical-align: top;\n",
       "    }\n",
       "\n",
       "    .dataframe thead th {\n",
       "        text-align: right;\n",
       "    }\n",
       "</style>\n",
       "<table border=\"1\" class=\"dataframe\">\n",
       "  <thead>\n",
       "    <tr style=\"text-align: right;\">\n",
       "      <th></th>\n",
       "      <th>date</th>\n",
       "      <th>Total</th>\n",
       "      <th>datetime</th>\n",
       "    </tr>\n",
       "  </thead>\n",
       "  <tbody>\n",
       "    <tr>\n",
       "      <th>0</th>\n",
       "      <td>2020-05-11</td>\n",
       "      <td>11304</td>\n",
       "      <td>737556</td>\n",
       "    </tr>\n",
       "    <tr>\n",
       "      <th>1</th>\n",
       "      <td>2020-05-25</td>\n",
       "      <td>15576</td>\n",
       "      <td>737570</td>\n",
       "    </tr>\n",
       "    <tr>\n",
       "      <th>2</th>\n",
       "      <td>2020-06-08</td>\n",
       "      <td>14808</td>\n",
       "      <td>737584</td>\n",
       "    </tr>\n",
       "    <tr>\n",
       "      <th>3</th>\n",
       "      <td>2020-06-22</td>\n",
       "      <td>18384</td>\n",
       "      <td>737598</td>\n",
       "    </tr>\n",
       "    <tr>\n",
       "      <th>4</th>\n",
       "      <td>2020-07-06</td>\n",
       "      <td>6624</td>\n",
       "      <td>737612</td>\n",
       "    </tr>\n",
       "    <tr>\n",
       "      <th>5</th>\n",
       "      <td>2020-07-20</td>\n",
       "      <td>7608</td>\n",
       "      <td>737626</td>\n",
       "    </tr>\n",
       "    <tr>\n",
       "      <th>6</th>\n",
       "      <td>2020-08-03</td>\n",
       "      <td>9432</td>\n",
       "      <td>737640</td>\n",
       "    </tr>\n",
       "    <tr>\n",
       "      <th>7</th>\n",
       "      <td>2020-08-17</td>\n",
       "      <td>10032</td>\n",
       "      <td>737654</td>\n",
       "    </tr>\n",
       "    <tr>\n",
       "      <th>8</th>\n",
       "      <td>2020-08-31</td>\n",
       "      <td>5640</td>\n",
       "      <td>737668</td>\n",
       "    </tr>\n",
       "    <tr>\n",
       "      <th>9</th>\n",
       "      <td>2020-09-14</td>\n",
       "      <td>10152</td>\n",
       "      <td>737682</td>\n",
       "    </tr>\n",
       "    <tr>\n",
       "      <th>10</th>\n",
       "      <td>2020-09-28</td>\n",
       "      <td>9528</td>\n",
       "      <td>737696</td>\n",
       "    </tr>\n",
       "    <tr>\n",
       "      <th>11</th>\n",
       "      <td>2020-10-12</td>\n",
       "      <td>9816</td>\n",
       "      <td>737710</td>\n",
       "    </tr>\n",
       "    <tr>\n",
       "      <th>12</th>\n",
       "      <td>2020-10-26</td>\n",
       "      <td>7896</td>\n",
       "      <td>737724</td>\n",
       "    </tr>\n",
       "    <tr>\n",
       "      <th>13</th>\n",
       "      <td>2020-11-09</td>\n",
       "      <td>8496</td>\n",
       "      <td>737738</td>\n",
       "    </tr>\n",
       "    <tr>\n",
       "      <th>14</th>\n",
       "      <td>2020-11-23</td>\n",
       "      <td>6864</td>\n",
       "      <td>737752</td>\n",
       "    </tr>\n",
       "    <tr>\n",
       "      <th>15</th>\n",
       "      <td>2020-12-07</td>\n",
       "      <td>27120</td>\n",
       "      <td>737766</td>\n",
       "    </tr>\n",
       "    <tr>\n",
       "      <th>16</th>\n",
       "      <td>2020-12-21</td>\n",
       "      <td>37104</td>\n",
       "      <td>737780</td>\n",
       "    </tr>\n",
       "    <tr>\n",
       "      <th>17</th>\n",
       "      <td>2021-01-04</td>\n",
       "      <td>31032</td>\n",
       "      <td>737794</td>\n",
       "    </tr>\n",
       "    <tr>\n",
       "      <th>18</th>\n",
       "      <td>2021-01-11</td>\n",
       "      <td>14016</td>\n",
       "      <td>737801</td>\n",
       "    </tr>\n",
       "    <tr>\n",
       "      <th>19</th>\n",
       "      <td>2021-01-25</td>\n",
       "      <td>28080</td>\n",
       "      <td>737815</td>\n",
       "    </tr>\n",
       "    <tr>\n",
       "      <th>20</th>\n",
       "      <td>2021-02-08</td>\n",
       "      <td>32064</td>\n",
       "      <td>737829</td>\n",
       "    </tr>\n",
       "    <tr>\n",
       "      <th>21</th>\n",
       "      <td>2021-02-22</td>\n",
       "      <td>40728</td>\n",
       "      <td>737843</td>\n",
       "    </tr>\n",
       "    <tr>\n",
       "      <th>22</th>\n",
       "      <td>2021-03-08</td>\n",
       "      <td>59472</td>\n",
       "      <td>737857</td>\n",
       "    </tr>\n",
       "    <tr>\n",
       "      <th>23</th>\n",
       "      <td>2021-03-22</td>\n",
       "      <td>90264</td>\n",
       "      <td>737871</td>\n",
       "    </tr>\n",
       "    <tr>\n",
       "      <th>24</th>\n",
       "      <td>2021-04-05</td>\n",
       "      <td>113616</td>\n",
       "      <td>737885</td>\n",
       "    </tr>\n",
       "    <tr>\n",
       "      <th>25</th>\n",
       "      <td>2021-04-19</td>\n",
       "      <td>179112</td>\n",
       "      <td>737899</td>\n",
       "    </tr>\n",
       "    <tr>\n",
       "      <th>26</th>\n",
       "      <td>2021-05-03</td>\n",
       "      <td>194064</td>\n",
       "      <td>737913</td>\n",
       "    </tr>\n",
       "    <tr>\n",
       "      <th>27</th>\n",
       "      <td>2021-05-17</td>\n",
       "      <td>154008</td>\n",
       "      <td>737927</td>\n",
       "    </tr>\n",
       "    <tr>\n",
       "      <th>28</th>\n",
       "      <td>2021-05-31</td>\n",
       "      <td>128352</td>\n",
       "      <td>737941</td>\n",
       "    </tr>\n",
       "    <tr>\n",
       "      <th>29</th>\n",
       "      <td>2021-06-14</td>\n",
       "      <td>102192</td>\n",
       "      <td>737955</td>\n",
       "    </tr>\n",
       "    <tr>\n",
       "      <th>30</th>\n",
       "      <td>2021-06-28</td>\n",
       "      <td>90696</td>\n",
       "      <td>737969</td>\n",
       "    </tr>\n",
       "    <tr>\n",
       "      <th>31</th>\n",
       "      <td>2021-07-12</td>\n",
       "      <td>81792</td>\n",
       "      <td>737983</td>\n",
       "    </tr>\n",
       "    <tr>\n",
       "      <th>32</th>\n",
       "      <td>2021-07-26</td>\n",
       "      <td>78840</td>\n",
       "      <td>737997</td>\n",
       "    </tr>\n",
       "    <tr>\n",
       "      <th>33</th>\n",
       "      <td>2021-08-09</td>\n",
       "      <td>69312</td>\n",
       "      <td>738011</td>\n",
       "    </tr>\n",
       "    <tr>\n",
       "      <th>34</th>\n",
       "      <td>2021-08-23</td>\n",
       "      <td>63480</td>\n",
       "      <td>738025</td>\n",
       "    </tr>\n",
       "    <tr>\n",
       "      <th>35</th>\n",
       "      <td>2021-09-06</td>\n",
       "      <td>87768</td>\n",
       "      <td>738039</td>\n",
       "    </tr>\n",
       "    <tr>\n",
       "      <th>36</th>\n",
       "      <td>2021-09-20</td>\n",
       "      <td>77376</td>\n",
       "      <td>738053</td>\n",
       "    </tr>\n",
       "    <tr>\n",
       "      <th>37</th>\n",
       "      <td>2021-10-04</td>\n",
       "      <td>58464</td>\n",
       "      <td>738067</td>\n",
       "    </tr>\n",
       "    <tr>\n",
       "      <th>38</th>\n",
       "      <td>2021-10-18</td>\n",
       "      <td>47472</td>\n",
       "      <td>738081</td>\n",
       "    </tr>\n",
       "    <tr>\n",
       "      <th>39</th>\n",
       "      <td>2021-11-01</td>\n",
       "      <td>42744</td>\n",
       "      <td>738095</td>\n",
       "    </tr>\n",
       "    <tr>\n",
       "      <th>40</th>\n",
       "      <td>2021-11-15</td>\n",
       "      <td>32688</td>\n",
       "      <td>738109</td>\n",
       "    </tr>\n",
       "    <tr>\n",
       "      <th>41</th>\n",
       "      <td>2021-11-29</td>\n",
       "      <td>32640</td>\n",
       "      <td>738123</td>\n",
       "    </tr>\n",
       "    <tr>\n",
       "      <th>42</th>\n",
       "      <td>2021-12-13</td>\n",
       "      <td>26040</td>\n",
       "      <td>738137</td>\n",
       "    </tr>\n",
       "    <tr>\n",
       "      <th>43</th>\n",
       "      <td>2021-12-27</td>\n",
       "      <td>11976</td>\n",
       "      <td>738151</td>\n",
       "    </tr>\n",
       "  </tbody>\n",
       "</table>\n",
       "</div>"
      ],
      "text/plain": [
       "          date   Total  datetime\n",
       "0   2020-05-11   11304    737556\n",
       "1   2020-05-25   15576    737570\n",
       "2   2020-06-08   14808    737584\n",
       "3   2020-06-22   18384    737598\n",
       "4   2020-07-06    6624    737612\n",
       "5   2020-07-20    7608    737626\n",
       "6   2020-08-03    9432    737640\n",
       "7   2020-08-17   10032    737654\n",
       "8   2020-08-31    5640    737668\n",
       "9   2020-09-14   10152    737682\n",
       "10  2020-09-28    9528    737696\n",
       "11  2020-10-12    9816    737710\n",
       "12  2020-10-26    7896    737724\n",
       "13  2020-11-09    8496    737738\n",
       "14  2020-11-23    6864    737752\n",
       "15  2020-12-07   27120    737766\n",
       "16  2020-12-21   37104    737780\n",
       "17  2021-01-04   31032    737794\n",
       "18  2021-01-11   14016    737801\n",
       "19  2021-01-25   28080    737815\n",
       "20  2021-02-08   32064    737829\n",
       "21  2021-02-22   40728    737843\n",
       "22  2021-03-08   59472    737857\n",
       "23  2021-03-22   90264    737871\n",
       "24  2021-04-05  113616    737885\n",
       "25  2021-04-19  179112    737899\n",
       "26  2021-05-03  194064    737913\n",
       "27  2021-05-17  154008    737927\n",
       "28  2021-05-31  128352    737941\n",
       "29  2021-06-14  102192    737955\n",
       "30  2021-06-28   90696    737969\n",
       "31  2021-07-12   81792    737983\n",
       "32  2021-07-26   78840    737997\n",
       "33  2021-08-09   69312    738011\n",
       "34  2021-08-23   63480    738025\n",
       "35  2021-09-06   87768    738039\n",
       "36  2021-09-20   77376    738053\n",
       "37  2021-10-04   58464    738067\n",
       "38  2021-10-18   47472    738081\n",
       "39  2021-11-01   42744    738095\n",
       "40  2021-11-15   32688    738109\n",
       "41  2021-11-29   32640    738123\n",
       "42  2021-12-13   26040    738137\n",
       "43  2021-12-27   11976    738151"
      ]
     },
     "execution_count": 275,
     "metadata": {},
     "output_type": "execute_result"
    }
   ],
   "source": [
    "omi_datetime = pd.to_datetime(df_ind_omi['date'])\n",
    "df_ind_omi['datetime'] = omi_datetime\n",
    "df_ind_omi['datetime']=df_ind_omi['datetime'].map(dt.datetime.toordinal)\n",
    "df_ind_omi"
   ]
  },
  {
   "cell_type": "code",
   "execution_count": 276,
   "metadata": {},
   "outputs": [
    {
     "data": {
      "text/html": [
       "<style>#sk-container-id-5 {\n",
       "  /* Definition of color scheme common for light and dark mode */\n",
       "  --sklearn-color-text: black;\n",
       "  --sklearn-color-line: gray;\n",
       "  /* Definition of color scheme for unfitted estimators */\n",
       "  --sklearn-color-unfitted-level-0: #fff5e6;\n",
       "  --sklearn-color-unfitted-level-1: #f6e4d2;\n",
       "  --sklearn-color-unfitted-level-2: #ffe0b3;\n",
       "  --sklearn-color-unfitted-level-3: chocolate;\n",
       "  /* Definition of color scheme for fitted estimators */\n",
       "  --sklearn-color-fitted-level-0: #f0f8ff;\n",
       "  --sklearn-color-fitted-level-1: #d4ebff;\n",
       "  --sklearn-color-fitted-level-2: #b3dbfd;\n",
       "  --sklearn-color-fitted-level-3: cornflowerblue;\n",
       "\n",
       "  /* Specific color for light theme */\n",
       "  --sklearn-color-text-on-default-background: var(--sg-text-color, var(--theme-code-foreground, var(--jp-content-font-color1, black)));\n",
       "  --sklearn-color-background: var(--sg-background-color, var(--theme-background, var(--jp-layout-color0, white)));\n",
       "  --sklearn-color-border-box: var(--sg-text-color, var(--theme-code-foreground, var(--jp-content-font-color1, black)));\n",
       "  --sklearn-color-icon: #696969;\n",
       "\n",
       "  @media (prefers-color-scheme: dark) {\n",
       "    /* Redefinition of color scheme for dark theme */\n",
       "    --sklearn-color-text-on-default-background: var(--sg-text-color, var(--theme-code-foreground, var(--jp-content-font-color1, white)));\n",
       "    --sklearn-color-background: var(--sg-background-color, var(--theme-background, var(--jp-layout-color0, #111)));\n",
       "    --sklearn-color-border-box: var(--sg-text-color, var(--theme-code-foreground, var(--jp-content-font-color1, white)));\n",
       "    --sklearn-color-icon: #878787;\n",
       "  }\n",
       "}\n",
       "\n",
       "#sk-container-id-5 {\n",
       "  color: var(--sklearn-color-text);\n",
       "}\n",
       "\n",
       "#sk-container-id-5 pre {\n",
       "  padding: 0;\n",
       "}\n",
       "\n",
       "#sk-container-id-5 input.sk-hidden--visually {\n",
       "  border: 0;\n",
       "  clip: rect(1px 1px 1px 1px);\n",
       "  clip: rect(1px, 1px, 1px, 1px);\n",
       "  height: 1px;\n",
       "  margin: -1px;\n",
       "  overflow: hidden;\n",
       "  padding: 0;\n",
       "  position: absolute;\n",
       "  width: 1px;\n",
       "}\n",
       "\n",
       "#sk-container-id-5 div.sk-dashed-wrapped {\n",
       "  border: 1px dashed var(--sklearn-color-line);\n",
       "  margin: 0 0.4em 0.5em 0.4em;\n",
       "  box-sizing: border-box;\n",
       "  padding-bottom: 0.4em;\n",
       "  background-color: var(--sklearn-color-background);\n",
       "}\n",
       "\n",
       "#sk-container-id-5 div.sk-container {\n",
       "  /* jupyter's `normalize.less` sets `[hidden] { display: none; }`\n",
       "     but bootstrap.min.css set `[hidden] { display: none !important; }`\n",
       "     so we also need the `!important` here to be able to override the\n",
       "     default hidden behavior on the sphinx rendered scikit-learn.org.\n",
       "     See: https://github.com/scikit-learn/scikit-learn/issues/21755 */\n",
       "  display: inline-block !important;\n",
       "  position: relative;\n",
       "}\n",
       "\n",
       "#sk-container-id-5 div.sk-text-repr-fallback {\n",
       "  display: none;\n",
       "}\n",
       "\n",
       "div.sk-parallel-item,\n",
       "div.sk-serial,\n",
       "div.sk-item {\n",
       "  /* draw centered vertical line to link estimators */\n",
       "  background-image: linear-gradient(var(--sklearn-color-text-on-default-background), var(--sklearn-color-text-on-default-background));\n",
       "  background-size: 2px 100%;\n",
       "  background-repeat: no-repeat;\n",
       "  background-position: center center;\n",
       "}\n",
       "\n",
       "/* Parallel-specific style estimator block */\n",
       "\n",
       "#sk-container-id-5 div.sk-parallel-item::after {\n",
       "  content: \"\";\n",
       "  width: 100%;\n",
       "  border-bottom: 2px solid var(--sklearn-color-text-on-default-background);\n",
       "  flex-grow: 1;\n",
       "}\n",
       "\n",
       "#sk-container-id-5 div.sk-parallel {\n",
       "  display: flex;\n",
       "  align-items: stretch;\n",
       "  justify-content: center;\n",
       "  background-color: var(--sklearn-color-background);\n",
       "  position: relative;\n",
       "}\n",
       "\n",
       "#sk-container-id-5 div.sk-parallel-item {\n",
       "  display: flex;\n",
       "  flex-direction: column;\n",
       "}\n",
       "\n",
       "#sk-container-id-5 div.sk-parallel-item:first-child::after {\n",
       "  align-self: flex-end;\n",
       "  width: 50%;\n",
       "}\n",
       "\n",
       "#sk-container-id-5 div.sk-parallel-item:last-child::after {\n",
       "  align-self: flex-start;\n",
       "  width: 50%;\n",
       "}\n",
       "\n",
       "#sk-container-id-5 div.sk-parallel-item:only-child::after {\n",
       "  width: 0;\n",
       "}\n",
       "\n",
       "/* Serial-specific style estimator block */\n",
       "\n",
       "#sk-container-id-5 div.sk-serial {\n",
       "  display: flex;\n",
       "  flex-direction: column;\n",
       "  align-items: center;\n",
       "  background-color: var(--sklearn-color-background);\n",
       "  padding-right: 1em;\n",
       "  padding-left: 1em;\n",
       "}\n",
       "\n",
       "\n",
       "/* Toggleable style: style used for estimator/Pipeline/ColumnTransformer box that is\n",
       "clickable and can be expanded/collapsed.\n",
       "- Pipeline and ColumnTransformer use this feature and define the default style\n",
       "- Estimators will overwrite some part of the style using the `sk-estimator` class\n",
       "*/\n",
       "\n",
       "/* Pipeline and ColumnTransformer style (default) */\n",
       "\n",
       "#sk-container-id-5 div.sk-toggleable {\n",
       "  /* Default theme specific background. It is overwritten whether we have a\n",
       "  specific estimator or a Pipeline/ColumnTransformer */\n",
       "  background-color: var(--sklearn-color-background);\n",
       "}\n",
       "\n",
       "/* Toggleable label */\n",
       "#sk-container-id-5 label.sk-toggleable__label {\n",
       "  cursor: pointer;\n",
       "  display: block;\n",
       "  width: 100%;\n",
       "  margin-bottom: 0;\n",
       "  padding: 0.5em;\n",
       "  box-sizing: border-box;\n",
       "  text-align: center;\n",
       "}\n",
       "\n",
       "#sk-container-id-5 label.sk-toggleable__label-arrow:before {\n",
       "  /* Arrow on the left of the label */\n",
       "  content: \"▸\";\n",
       "  float: left;\n",
       "  margin-right: 0.25em;\n",
       "  color: var(--sklearn-color-icon);\n",
       "}\n",
       "\n",
       "#sk-container-id-5 label.sk-toggleable__label-arrow:hover:before {\n",
       "  color: var(--sklearn-color-text);\n",
       "}\n",
       "\n",
       "/* Toggleable content - dropdown */\n",
       "\n",
       "#sk-container-id-5 div.sk-toggleable__content {\n",
       "  max-height: 0;\n",
       "  max-width: 0;\n",
       "  overflow: hidden;\n",
       "  text-align: left;\n",
       "  /* unfitted */\n",
       "  background-color: var(--sklearn-color-unfitted-level-0);\n",
       "}\n",
       "\n",
       "#sk-container-id-5 div.sk-toggleable__content.fitted {\n",
       "  /* fitted */\n",
       "  background-color: var(--sklearn-color-fitted-level-0);\n",
       "}\n",
       "\n",
       "#sk-container-id-5 div.sk-toggleable__content pre {\n",
       "  margin: 0.2em;\n",
       "  border-radius: 0.25em;\n",
       "  color: var(--sklearn-color-text);\n",
       "  /* unfitted */\n",
       "  background-color: var(--sklearn-color-unfitted-level-0);\n",
       "}\n",
       "\n",
       "#sk-container-id-5 div.sk-toggleable__content.fitted pre {\n",
       "  /* unfitted */\n",
       "  background-color: var(--sklearn-color-fitted-level-0);\n",
       "}\n",
       "\n",
       "#sk-container-id-5 input.sk-toggleable__control:checked~div.sk-toggleable__content {\n",
       "  /* Expand drop-down */\n",
       "  max-height: 200px;\n",
       "  max-width: 100%;\n",
       "  overflow: auto;\n",
       "}\n",
       "\n",
       "#sk-container-id-5 input.sk-toggleable__control:checked~label.sk-toggleable__label-arrow:before {\n",
       "  content: \"▾\";\n",
       "}\n",
       "\n",
       "/* Pipeline/ColumnTransformer-specific style */\n",
       "\n",
       "#sk-container-id-5 div.sk-label input.sk-toggleable__control:checked~label.sk-toggleable__label {\n",
       "  color: var(--sklearn-color-text);\n",
       "  background-color: var(--sklearn-color-unfitted-level-2);\n",
       "}\n",
       "\n",
       "#sk-container-id-5 div.sk-label.fitted input.sk-toggleable__control:checked~label.sk-toggleable__label {\n",
       "  background-color: var(--sklearn-color-fitted-level-2);\n",
       "}\n",
       "\n",
       "/* Estimator-specific style */\n",
       "\n",
       "/* Colorize estimator box */\n",
       "#sk-container-id-5 div.sk-estimator input.sk-toggleable__control:checked~label.sk-toggleable__label {\n",
       "  /* unfitted */\n",
       "  background-color: var(--sklearn-color-unfitted-level-2);\n",
       "}\n",
       "\n",
       "#sk-container-id-5 div.sk-estimator.fitted input.sk-toggleable__control:checked~label.sk-toggleable__label {\n",
       "  /* fitted */\n",
       "  background-color: var(--sklearn-color-fitted-level-2);\n",
       "}\n",
       "\n",
       "#sk-container-id-5 div.sk-label label.sk-toggleable__label,\n",
       "#sk-container-id-5 div.sk-label label {\n",
       "  /* The background is the default theme color */\n",
       "  color: var(--sklearn-color-text-on-default-background);\n",
       "}\n",
       "\n",
       "/* On hover, darken the color of the background */\n",
       "#sk-container-id-5 div.sk-label:hover label.sk-toggleable__label {\n",
       "  color: var(--sklearn-color-text);\n",
       "  background-color: var(--sklearn-color-unfitted-level-2);\n",
       "}\n",
       "\n",
       "/* Label box, darken color on hover, fitted */\n",
       "#sk-container-id-5 div.sk-label.fitted:hover label.sk-toggleable__label.fitted {\n",
       "  color: var(--sklearn-color-text);\n",
       "  background-color: var(--sklearn-color-fitted-level-2);\n",
       "}\n",
       "\n",
       "/* Estimator label */\n",
       "\n",
       "#sk-container-id-5 div.sk-label label {\n",
       "  font-family: monospace;\n",
       "  font-weight: bold;\n",
       "  display: inline-block;\n",
       "  line-height: 1.2em;\n",
       "}\n",
       "\n",
       "#sk-container-id-5 div.sk-label-container {\n",
       "  text-align: center;\n",
       "}\n",
       "\n",
       "/* Estimator-specific */\n",
       "#sk-container-id-5 div.sk-estimator {\n",
       "  font-family: monospace;\n",
       "  border: 1px dotted var(--sklearn-color-border-box);\n",
       "  border-radius: 0.25em;\n",
       "  box-sizing: border-box;\n",
       "  margin-bottom: 0.5em;\n",
       "  /* unfitted */\n",
       "  background-color: var(--sklearn-color-unfitted-level-0);\n",
       "}\n",
       "\n",
       "#sk-container-id-5 div.sk-estimator.fitted {\n",
       "  /* fitted */\n",
       "  background-color: var(--sklearn-color-fitted-level-0);\n",
       "}\n",
       "\n",
       "/* on hover */\n",
       "#sk-container-id-5 div.sk-estimator:hover {\n",
       "  /* unfitted */\n",
       "  background-color: var(--sklearn-color-unfitted-level-2);\n",
       "}\n",
       "\n",
       "#sk-container-id-5 div.sk-estimator.fitted:hover {\n",
       "  /* fitted */\n",
       "  background-color: var(--sklearn-color-fitted-level-2);\n",
       "}\n",
       "\n",
       "/* Specification for estimator info (e.g. \"i\" and \"?\") */\n",
       "\n",
       "/* Common style for \"i\" and \"?\" */\n",
       "\n",
       ".sk-estimator-doc-link,\n",
       "a:link.sk-estimator-doc-link,\n",
       "a:visited.sk-estimator-doc-link {\n",
       "  float: right;\n",
       "  font-size: smaller;\n",
       "  line-height: 1em;\n",
       "  font-family: monospace;\n",
       "  background-color: var(--sklearn-color-background);\n",
       "  border-radius: 1em;\n",
       "  height: 1em;\n",
       "  width: 1em;\n",
       "  text-decoration: none !important;\n",
       "  margin-left: 1ex;\n",
       "  /* unfitted */\n",
       "  border: var(--sklearn-color-unfitted-level-1) 1pt solid;\n",
       "  color: var(--sklearn-color-unfitted-level-1);\n",
       "}\n",
       "\n",
       ".sk-estimator-doc-link.fitted,\n",
       "a:link.sk-estimator-doc-link.fitted,\n",
       "a:visited.sk-estimator-doc-link.fitted {\n",
       "  /* fitted */\n",
       "  border: var(--sklearn-color-fitted-level-1) 1pt solid;\n",
       "  color: var(--sklearn-color-fitted-level-1);\n",
       "}\n",
       "\n",
       "/* On hover */\n",
       "div.sk-estimator:hover .sk-estimator-doc-link:hover,\n",
       ".sk-estimator-doc-link:hover,\n",
       "div.sk-label-container:hover .sk-estimator-doc-link:hover,\n",
       ".sk-estimator-doc-link:hover {\n",
       "  /* unfitted */\n",
       "  background-color: var(--sklearn-color-unfitted-level-3);\n",
       "  color: var(--sklearn-color-background);\n",
       "  text-decoration: none;\n",
       "}\n",
       "\n",
       "div.sk-estimator.fitted:hover .sk-estimator-doc-link.fitted:hover,\n",
       ".sk-estimator-doc-link.fitted:hover,\n",
       "div.sk-label-container:hover .sk-estimator-doc-link.fitted:hover,\n",
       ".sk-estimator-doc-link.fitted:hover {\n",
       "  /* fitted */\n",
       "  background-color: var(--sklearn-color-fitted-level-3);\n",
       "  color: var(--sklearn-color-background);\n",
       "  text-decoration: none;\n",
       "}\n",
       "\n",
       "/* Span, style for the box shown on hovering the info icon */\n",
       ".sk-estimator-doc-link span {\n",
       "  display: none;\n",
       "  z-index: 9999;\n",
       "  position: relative;\n",
       "  font-weight: normal;\n",
       "  right: .2ex;\n",
       "  padding: .5ex;\n",
       "  margin: .5ex;\n",
       "  width: min-content;\n",
       "  min-width: 20ex;\n",
       "  max-width: 50ex;\n",
       "  color: var(--sklearn-color-text);\n",
       "  box-shadow: 2pt 2pt 4pt #999;\n",
       "  /* unfitted */\n",
       "  background: var(--sklearn-color-unfitted-level-0);\n",
       "  border: .5pt solid var(--sklearn-color-unfitted-level-3);\n",
       "}\n",
       "\n",
       ".sk-estimator-doc-link.fitted span {\n",
       "  /* fitted */\n",
       "  background: var(--sklearn-color-fitted-level-0);\n",
       "  border: var(--sklearn-color-fitted-level-3);\n",
       "}\n",
       "\n",
       ".sk-estimator-doc-link:hover span {\n",
       "  display: block;\n",
       "}\n",
       "\n",
       "/* \"?\"-specific style due to the `<a>` HTML tag */\n",
       "\n",
       "#sk-container-id-5 a.estimator_doc_link {\n",
       "  float: right;\n",
       "  font-size: 1rem;\n",
       "  line-height: 1em;\n",
       "  font-family: monospace;\n",
       "  background-color: var(--sklearn-color-background);\n",
       "  border-radius: 1rem;\n",
       "  height: 1rem;\n",
       "  width: 1rem;\n",
       "  text-decoration: none;\n",
       "  /* unfitted */\n",
       "  color: var(--sklearn-color-unfitted-level-1);\n",
       "  border: var(--sklearn-color-unfitted-level-1) 1pt solid;\n",
       "}\n",
       "\n",
       "#sk-container-id-5 a.estimator_doc_link.fitted {\n",
       "  /* fitted */\n",
       "  border: var(--sklearn-color-fitted-level-1) 1pt solid;\n",
       "  color: var(--sklearn-color-fitted-level-1);\n",
       "}\n",
       "\n",
       "/* On hover */\n",
       "#sk-container-id-5 a.estimator_doc_link:hover {\n",
       "  /* unfitted */\n",
       "  background-color: var(--sklearn-color-unfitted-level-3);\n",
       "  color: var(--sklearn-color-background);\n",
       "  text-decoration: none;\n",
       "}\n",
       "\n",
       "#sk-container-id-5 a.estimator_doc_link.fitted:hover {\n",
       "  /* fitted */\n",
       "  background-color: var(--sklearn-color-fitted-level-3);\n",
       "}\n",
       "</style><div id=\"sk-container-id-5\" class=\"sk-top-container\"><div class=\"sk-text-repr-fallback\"><pre>LinearRegression()</pre><b>In a Jupyter environment, please rerun this cell to show the HTML representation or trust the notebook. <br />On GitHub, the HTML representation is unable to render, please try loading this page with nbviewer.org.</b></div><div class=\"sk-container\" hidden><div class=\"sk-item\"><div class=\"sk-estimator fitted sk-toggleable\"><input class=\"sk-toggleable__control sk-hidden--visually\" id=\"sk-estimator-id-5\" type=\"checkbox\" checked><label for=\"sk-estimator-id-5\" class=\"sk-toggleable__label fitted sk-toggleable__label-arrow fitted\">&nbsp;&nbsp;LinearRegression<a class=\"sk-estimator-doc-link fitted\" rel=\"noreferrer\" target=\"_blank\" href=\"https://scikit-learn.org/1.4/modules/generated/sklearn.linear_model.LinearRegression.html\">?<span>Documentation for LinearRegression</span></a><span class=\"sk-estimator-doc-link fitted\">i<span>Fitted</span></span></label><div class=\"sk-toggleable__content fitted\"><pre>LinearRegression()</pre></div> </div></div></div></div>"
      ],
      "text/plain": [
       "LinearRegression()"
      ]
     },
     "execution_count": 276,
     "metadata": {},
     "output_type": "execute_result"
    }
   ],
   "source": [
    "model = LinearRegression()\n",
    "model.fit(df_ind_omi[[\"datetime\"]], df_ind_omi[\"Total\"])"
   ]
  },
  {
   "cell_type": "code",
   "execution_count": 277,
   "metadata": {},
   "outputs": [
    {
     "name": "stdout",
     "output_type": "stream",
     "text": [
      "2022-07-01\n"
     ]
    },
    {
     "data": {
      "text/html": [
       "<div>\n",
       "<style scoped>\n",
       "    .dataframe tbody tr th:only-of-type {\n",
       "        vertical-align: middle;\n",
       "    }\n",
       "\n",
       "    .dataframe tbody tr th {\n",
       "        vertical-align: top;\n",
       "    }\n",
       "\n",
       "    .dataframe thead th {\n",
       "        text-align: right;\n",
       "    }\n",
       "</style>\n",
       "<table border=\"1\" class=\"dataframe\">\n",
       "  <thead>\n",
       "    <tr style=\"text-align: right;\">\n",
       "      <th></th>\n",
       "      <th>date</th>\n",
       "      <th>datetime</th>\n",
       "    </tr>\n",
       "  </thead>\n",
       "  <tbody>\n",
       "    <tr>\n",
       "      <th>0</th>\n",
       "      <td>2022-07-01</td>\n",
       "      <td>738337</td>\n",
       "    </tr>\n",
       "  </tbody>\n",
       "</table>\n",
       "</div>"
      ],
      "text/plain": [
       "         date  datetime\n",
       "0  2022-07-01    738337"
      ]
     },
     "execution_count": 277,
     "metadata": {},
     "output_type": "execute_result"
    }
   ],
   "source": [
    "july = dt.date(2022,7,1)\n",
    "print(july)\n",
    "new_date = pd.DataFrame([july], columns=['date'])\n",
    "new_date['datetime'] = pd.to_datetime(new_date['date'])\n",
    "new_date['datetime']=new_date['datetime'].map(dt.datetime.toordinal)\n",
    "new_date"
   ]
  },
  {
   "cell_type": "code",
   "execution_count": 278,
   "metadata": {},
   "outputs": [
    {
     "data": {
      "text/html": [
       "<div>\n",
       "<style scoped>\n",
       "    .dataframe tbody tr th:only-of-type {\n",
       "        vertical-align: middle;\n",
       "    }\n",
       "\n",
       "    .dataframe tbody tr th {\n",
       "        vertical-align: top;\n",
       "    }\n",
       "\n",
       "    .dataframe thead th {\n",
       "        text-align: right;\n",
       "    }\n",
       "</style>\n",
       "<table border=\"1\" class=\"dataframe\">\n",
       "  <thead>\n",
       "    <tr style=\"text-align: right;\">\n",
       "      <th></th>\n",
       "      <th>date</th>\n",
       "      <th>Total</th>\n",
       "      <th>datetime</th>\n",
       "    </tr>\n",
       "  </thead>\n",
       "  <tbody>\n",
       "    <tr>\n",
       "      <th>0</th>\n",
       "      <td>2020-05-11</td>\n",
       "      <td>11304.000000</td>\n",
       "      <td>737556</td>\n",
       "    </tr>\n",
       "    <tr>\n",
       "      <th>1</th>\n",
       "      <td>2020-05-25</td>\n",
       "      <td>15576.000000</td>\n",
       "      <td>737570</td>\n",
       "    </tr>\n",
       "    <tr>\n",
       "      <th>2</th>\n",
       "      <td>2020-06-08</td>\n",
       "      <td>14808.000000</td>\n",
       "      <td>737584</td>\n",
       "    </tr>\n",
       "    <tr>\n",
       "      <th>3</th>\n",
       "      <td>2020-06-22</td>\n",
       "      <td>18384.000000</td>\n",
       "      <td>737598</td>\n",
       "    </tr>\n",
       "    <tr>\n",
       "      <th>4</th>\n",
       "      <td>2020-07-06</td>\n",
       "      <td>6624.000000</td>\n",
       "      <td>737612</td>\n",
       "    </tr>\n",
       "    <tr>\n",
       "      <th>5</th>\n",
       "      <td>2020-07-20</td>\n",
       "      <td>7608.000000</td>\n",
       "      <td>737626</td>\n",
       "    </tr>\n",
       "    <tr>\n",
       "      <th>6</th>\n",
       "      <td>2020-08-03</td>\n",
       "      <td>9432.000000</td>\n",
       "      <td>737640</td>\n",
       "    </tr>\n",
       "    <tr>\n",
       "      <th>7</th>\n",
       "      <td>2020-08-17</td>\n",
       "      <td>10032.000000</td>\n",
       "      <td>737654</td>\n",
       "    </tr>\n",
       "    <tr>\n",
       "      <th>8</th>\n",
       "      <td>2020-08-31</td>\n",
       "      <td>5640.000000</td>\n",
       "      <td>737668</td>\n",
       "    </tr>\n",
       "    <tr>\n",
       "      <th>9</th>\n",
       "      <td>2020-09-14</td>\n",
       "      <td>10152.000000</td>\n",
       "      <td>737682</td>\n",
       "    </tr>\n",
       "    <tr>\n",
       "      <th>10</th>\n",
       "      <td>2020-09-28</td>\n",
       "      <td>9528.000000</td>\n",
       "      <td>737696</td>\n",
       "    </tr>\n",
       "    <tr>\n",
       "      <th>11</th>\n",
       "      <td>2020-10-12</td>\n",
       "      <td>9816.000000</td>\n",
       "      <td>737710</td>\n",
       "    </tr>\n",
       "    <tr>\n",
       "      <th>12</th>\n",
       "      <td>2020-10-26</td>\n",
       "      <td>7896.000000</td>\n",
       "      <td>737724</td>\n",
       "    </tr>\n",
       "    <tr>\n",
       "      <th>13</th>\n",
       "      <td>2020-11-09</td>\n",
       "      <td>8496.000000</td>\n",
       "      <td>737738</td>\n",
       "    </tr>\n",
       "    <tr>\n",
       "      <th>14</th>\n",
       "      <td>2020-11-23</td>\n",
       "      <td>6864.000000</td>\n",
       "      <td>737752</td>\n",
       "    </tr>\n",
       "    <tr>\n",
       "      <th>15</th>\n",
       "      <td>2020-12-07</td>\n",
       "      <td>27120.000000</td>\n",
       "      <td>737766</td>\n",
       "    </tr>\n",
       "    <tr>\n",
       "      <th>16</th>\n",
       "      <td>2020-12-21</td>\n",
       "      <td>37104.000000</td>\n",
       "      <td>737780</td>\n",
       "    </tr>\n",
       "    <tr>\n",
       "      <th>17</th>\n",
       "      <td>2021-01-04</td>\n",
       "      <td>31032.000000</td>\n",
       "      <td>737794</td>\n",
       "    </tr>\n",
       "    <tr>\n",
       "      <th>18</th>\n",
       "      <td>2021-01-11</td>\n",
       "      <td>14016.000000</td>\n",
       "      <td>737801</td>\n",
       "    </tr>\n",
       "    <tr>\n",
       "      <th>19</th>\n",
       "      <td>2021-01-25</td>\n",
       "      <td>28080.000000</td>\n",
       "      <td>737815</td>\n",
       "    </tr>\n",
       "    <tr>\n",
       "      <th>20</th>\n",
       "      <td>2021-02-08</td>\n",
       "      <td>32064.000000</td>\n",
       "      <td>737829</td>\n",
       "    </tr>\n",
       "    <tr>\n",
       "      <th>21</th>\n",
       "      <td>2021-02-22</td>\n",
       "      <td>40728.000000</td>\n",
       "      <td>737843</td>\n",
       "    </tr>\n",
       "    <tr>\n",
       "      <th>22</th>\n",
       "      <td>2021-03-08</td>\n",
       "      <td>59472.000000</td>\n",
       "      <td>737857</td>\n",
       "    </tr>\n",
       "    <tr>\n",
       "      <th>23</th>\n",
       "      <td>2021-03-22</td>\n",
       "      <td>90264.000000</td>\n",
       "      <td>737871</td>\n",
       "    </tr>\n",
       "    <tr>\n",
       "      <th>24</th>\n",
       "      <td>2021-04-05</td>\n",
       "      <td>113616.000000</td>\n",
       "      <td>737885</td>\n",
       "    </tr>\n",
       "    <tr>\n",
       "      <th>25</th>\n",
       "      <td>2021-04-19</td>\n",
       "      <td>179112.000000</td>\n",
       "      <td>737899</td>\n",
       "    </tr>\n",
       "    <tr>\n",
       "      <th>26</th>\n",
       "      <td>2021-05-03</td>\n",
       "      <td>194064.000000</td>\n",
       "      <td>737913</td>\n",
       "    </tr>\n",
       "    <tr>\n",
       "      <th>27</th>\n",
       "      <td>2021-05-17</td>\n",
       "      <td>154008.000000</td>\n",
       "      <td>737927</td>\n",
       "    </tr>\n",
       "    <tr>\n",
       "      <th>28</th>\n",
       "      <td>2021-05-31</td>\n",
       "      <td>128352.000000</td>\n",
       "      <td>737941</td>\n",
       "    </tr>\n",
       "    <tr>\n",
       "      <th>29</th>\n",
       "      <td>2021-06-14</td>\n",
       "      <td>102192.000000</td>\n",
       "      <td>737955</td>\n",
       "    </tr>\n",
       "    <tr>\n",
       "      <th>30</th>\n",
       "      <td>2021-06-28</td>\n",
       "      <td>90696.000000</td>\n",
       "      <td>737969</td>\n",
       "    </tr>\n",
       "    <tr>\n",
       "      <th>31</th>\n",
       "      <td>2021-07-12</td>\n",
       "      <td>81792.000000</td>\n",
       "      <td>737983</td>\n",
       "    </tr>\n",
       "    <tr>\n",
       "      <th>32</th>\n",
       "      <td>2021-07-26</td>\n",
       "      <td>78840.000000</td>\n",
       "      <td>737997</td>\n",
       "    </tr>\n",
       "    <tr>\n",
       "      <th>33</th>\n",
       "      <td>2021-08-09</td>\n",
       "      <td>69312.000000</td>\n",
       "      <td>738011</td>\n",
       "    </tr>\n",
       "    <tr>\n",
       "      <th>34</th>\n",
       "      <td>2021-08-23</td>\n",
       "      <td>63480.000000</td>\n",
       "      <td>738025</td>\n",
       "    </tr>\n",
       "    <tr>\n",
       "      <th>35</th>\n",
       "      <td>2021-09-06</td>\n",
       "      <td>87768.000000</td>\n",
       "      <td>738039</td>\n",
       "    </tr>\n",
       "    <tr>\n",
       "      <th>36</th>\n",
       "      <td>2021-09-20</td>\n",
       "      <td>77376.000000</td>\n",
       "      <td>738053</td>\n",
       "    </tr>\n",
       "    <tr>\n",
       "      <th>37</th>\n",
       "      <td>2021-10-04</td>\n",
       "      <td>58464.000000</td>\n",
       "      <td>738067</td>\n",
       "    </tr>\n",
       "    <tr>\n",
       "      <th>38</th>\n",
       "      <td>2021-10-18</td>\n",
       "      <td>47472.000000</td>\n",
       "      <td>738081</td>\n",
       "    </tr>\n",
       "    <tr>\n",
       "      <th>39</th>\n",
       "      <td>2021-11-01</td>\n",
       "      <td>42744.000000</td>\n",
       "      <td>738095</td>\n",
       "    </tr>\n",
       "    <tr>\n",
       "      <th>40</th>\n",
       "      <td>2021-11-15</td>\n",
       "      <td>32688.000000</td>\n",
       "      <td>738109</td>\n",
       "    </tr>\n",
       "    <tr>\n",
       "      <th>41</th>\n",
       "      <td>2021-11-29</td>\n",
       "      <td>32640.000000</td>\n",
       "      <td>738123</td>\n",
       "    </tr>\n",
       "    <tr>\n",
       "      <th>42</th>\n",
       "      <td>2021-12-13</td>\n",
       "      <td>26040.000000</td>\n",
       "      <td>738137</td>\n",
       "    </tr>\n",
       "    <tr>\n",
       "      <th>43</th>\n",
       "      <td>2021-12-27</td>\n",
       "      <td>11976.000000</td>\n",
       "      <td>738151</td>\n",
       "    </tr>\n",
       "    <tr>\n",
       "      <th>44</th>\n",
       "      <td>2022-07-01</td>\n",
       "      <td>108956.103561</td>\n",
       "      <td>738337</td>\n",
       "    </tr>\n",
       "  </tbody>\n",
       "</table>\n",
       "</div>"
      ],
      "text/plain": [
       "          date          Total  datetime\n",
       "0   2020-05-11   11304.000000    737556\n",
       "1   2020-05-25   15576.000000    737570\n",
       "2   2020-06-08   14808.000000    737584\n",
       "3   2020-06-22   18384.000000    737598\n",
       "4   2020-07-06    6624.000000    737612\n",
       "5   2020-07-20    7608.000000    737626\n",
       "6   2020-08-03    9432.000000    737640\n",
       "7   2020-08-17   10032.000000    737654\n",
       "8   2020-08-31    5640.000000    737668\n",
       "9   2020-09-14   10152.000000    737682\n",
       "10  2020-09-28    9528.000000    737696\n",
       "11  2020-10-12    9816.000000    737710\n",
       "12  2020-10-26    7896.000000    737724\n",
       "13  2020-11-09    8496.000000    737738\n",
       "14  2020-11-23    6864.000000    737752\n",
       "15  2020-12-07   27120.000000    737766\n",
       "16  2020-12-21   37104.000000    737780\n",
       "17  2021-01-04   31032.000000    737794\n",
       "18  2021-01-11   14016.000000    737801\n",
       "19  2021-01-25   28080.000000    737815\n",
       "20  2021-02-08   32064.000000    737829\n",
       "21  2021-02-22   40728.000000    737843\n",
       "22  2021-03-08   59472.000000    737857\n",
       "23  2021-03-22   90264.000000    737871\n",
       "24  2021-04-05  113616.000000    737885\n",
       "25  2021-04-19  179112.000000    737899\n",
       "26  2021-05-03  194064.000000    737913\n",
       "27  2021-05-17  154008.000000    737927\n",
       "28  2021-05-31  128352.000000    737941\n",
       "29  2021-06-14  102192.000000    737955\n",
       "30  2021-06-28   90696.000000    737969\n",
       "31  2021-07-12   81792.000000    737983\n",
       "32  2021-07-26   78840.000000    737997\n",
       "33  2021-08-09   69312.000000    738011\n",
       "34  2021-08-23   63480.000000    738025\n",
       "35  2021-09-06   87768.000000    738039\n",
       "36  2021-09-20   77376.000000    738053\n",
       "37  2021-10-04   58464.000000    738067\n",
       "38  2021-10-18   47472.000000    738081\n",
       "39  2021-11-01   42744.000000    738095\n",
       "40  2021-11-15   32688.000000    738109\n",
       "41  2021-11-29   32640.000000    738123\n",
       "42  2021-12-13   26040.000000    738137\n",
       "43  2021-12-27   11976.000000    738151\n",
       "44  2022-07-01  108956.103561    738337"
      ]
     },
     "execution_count": 278,
     "metadata": {},
     "output_type": "execute_result"
    }
   ],
   "source": [
    "new_date['Total'] = model.predict(new_date[[\"datetime\"]])\n",
    "df_ind_omi = pd.concat([df_ind_omi, new_date], ignore_index=True)\n",
    "df_ind_omi"
   ]
  },
  {
   "cell_type": "code",
   "execution_count": 279,
   "metadata": {},
   "outputs": [
    {
     "name": "stdout",
     "output_type": "stream",
     "text": [
      "[122.49537868]\n",
      "-90333914.30588268\n",
      "[ 13287.21281056  15002.14811209  16717.08341363  18432.01871517\n",
      "  20146.95401672  21861.88931824  23576.82461978  25291.75992133\n",
      "  27006.69522287  28721.6305244   30436.56582594  32151.50112748\n",
      "  33866.43642902  35581.37173055  37296.30703209  39011.24233364\n",
      "  40726.17763518  42441.11293671  43298.58058748  45013.51588902\n",
      "  46728.45119056  48443.3864921   50158.32179363  51873.25709517\n",
      "  53588.19239672  55303.12769826  57018.06299978  58732.99830133\n",
      "  60447.93360287  62162.86890441  63877.80420594  65592.73950748\n",
      "  67307.67480902  69022.61011057  70737.54541211  72452.48071364\n",
      "  74167.41601518  75882.35131672  77597.28661826  79312.22191979\n",
      "  81027.15722133  82742.09252287  84457.02782442  86171.96312594\n",
      " 108956.10356069]\n"
     ]
    }
   ],
   "source": [
    "print(model.coef_)\n",
    "print(model.intercept_)\n",
    "print(model.predict(df_ind_omi[['datetime']]))"
   ]
  },
  {
   "cell_type": "code",
   "execution_count": 280,
   "metadata": {},
   "outputs": [
    {
     "data": {
      "application/vnd.plotly.v1+json": {
       "config": {
        "plotlyServerURL": "https://plot.ly"
       },
       "data": [
        {
         "marker": {
          "color": "DarkBlue"
         },
         "mode": "lines",
         "name": "Omicron in India",
         "type": "scatter",
         "x": [
          "2020-05-11",
          "2020-05-25",
          "2020-06-08",
          "2020-06-22",
          "2020-07-06",
          "2020-07-20",
          "2020-08-03",
          "2020-08-17",
          "2020-08-31",
          "2020-09-14",
          "2020-09-28",
          "2020-10-12",
          "2020-10-26",
          "2020-11-09",
          "2020-11-23",
          "2020-12-07",
          "2020-12-21",
          "2021-01-04",
          "2021-01-11",
          "2021-01-25",
          "2021-02-08",
          "2021-02-22",
          "2021-03-08",
          "2021-03-22",
          "2021-04-05",
          "2021-04-19",
          "2021-05-03",
          "2021-05-17",
          "2021-05-31",
          "2021-06-14",
          "2021-06-28",
          "2021-07-12",
          "2021-07-26",
          "2021-08-09",
          "2021-08-23",
          "2021-09-06",
          "2021-09-20",
          "2021-10-04",
          "2021-10-18",
          "2021-11-01",
          "2021-11-15",
          "2021-11-29",
          "2021-12-13",
          "2021-12-27",
          "2022-07-01"
         ],
         "y": [
          11304,
          15576,
          14808,
          18384,
          6624,
          7608,
          9432,
          10032,
          5640,
          10152,
          9528,
          9816,
          7896,
          8496,
          6864,
          27120,
          37104,
          31032,
          14016,
          28080,
          32064,
          40728,
          59472,
          90264,
          113616,
          179112,
          194064,
          154008,
          128352,
          102192,
          90696,
          81792,
          78840,
          69312,
          63480,
          87768,
          77376,
          58464,
          47472,
          42744,
          32688,
          32640,
          26040,
          11976,
          108956.10356068611
         ]
        },
        {
         "name": "Regression Fit",
         "type": "scatter",
         "x": [
          "2020-05-11",
          "2020-05-25",
          "2020-06-08",
          "2020-06-22",
          "2020-07-06",
          "2020-07-20",
          "2020-08-03",
          "2020-08-17",
          "2020-08-31",
          "2020-09-14",
          "2020-09-28",
          "2020-10-12",
          "2020-10-26",
          "2020-11-09",
          "2020-11-23",
          "2020-12-07",
          "2020-12-21",
          "2021-01-04",
          "2021-01-11",
          "2021-01-25",
          "2021-02-08",
          "2021-02-22",
          "2021-03-08",
          "2021-03-22",
          "2021-04-05",
          "2021-04-19",
          "2021-05-03",
          "2021-05-17",
          "2021-05-31",
          "2021-06-14",
          "2021-06-28",
          "2021-07-12",
          "2021-07-26",
          "2021-08-09",
          "2021-08-23",
          "2021-09-06",
          "2021-09-20",
          "2021-10-04",
          "2021-10-18",
          "2021-11-01",
          "2021-11-15",
          "2021-11-29",
          "2021-12-13",
          "2021-12-27",
          "2022-07-01"
         ],
         "y": [
          13287.21281056106,
          15002.148112088442,
          16717.083413630724,
          18432.018715173006,
          20146.954016715288,
          21861.88931824267,
          23576.82461978495,
          25291.759921327233,
          27006.695222869515,
          28721.630524396896,
          30436.56582593918,
          32151.50112748146,
          33866.43642902374,
          35581.37173055112,
          37296.307032093406,
          39011.24233363569,
          40726.17763517797,
          42441.11293670535,
          43298.58058747649,
          45013.515889018774,
          46728.451190561056,
          48443.38649210334,
          50158.32179363072,
          51873.257095173,
          53588.19239671528,
          55303.127698257565,
          57018.06299978495,
          58732.99830132723,
          60447.93360286951,
          62162.86890441179,
          63877.804205939174,
          65592.73950748146,
          67307.67480902374,
          69022.61011056602,
          70737.5454121083,
          72452.48071363568,
          74167.41601517797,
          75882.35131672025,
          77597.28661826253,
          79312.22191978991,
          81027.15722133219,
          82742.09252287447,
          84457.02782441676,
          86171.96312594414,
          108956.10356068611
         ]
        }
       ],
       "layout": {
        "autosize": true,
        "template": {
         "data": {
          "bar": [
           {
            "error_x": {
             "color": "#2a3f5f"
            },
            "error_y": {
             "color": "#2a3f5f"
            },
            "marker": {
             "line": {
              "color": "white",
              "width": 0.5
             },
             "pattern": {
              "fillmode": "overlay",
              "size": 10,
              "solidity": 0.2
             }
            },
            "type": "bar"
           }
          ],
          "barpolar": [
           {
            "marker": {
             "line": {
              "color": "white",
              "width": 0.5
             },
             "pattern": {
              "fillmode": "overlay",
              "size": 10,
              "solidity": 0.2
             }
            },
            "type": "barpolar"
           }
          ],
          "carpet": [
           {
            "aaxis": {
             "endlinecolor": "#2a3f5f",
             "gridcolor": "#C8D4E3",
             "linecolor": "#C8D4E3",
             "minorgridcolor": "#C8D4E3",
             "startlinecolor": "#2a3f5f"
            },
            "baxis": {
             "endlinecolor": "#2a3f5f",
             "gridcolor": "#C8D4E3",
             "linecolor": "#C8D4E3",
             "minorgridcolor": "#C8D4E3",
             "startlinecolor": "#2a3f5f"
            },
            "type": "carpet"
           }
          ],
          "choropleth": [
           {
            "colorbar": {
             "outlinewidth": 0,
             "ticks": ""
            },
            "type": "choropleth"
           }
          ],
          "contour": [
           {
            "colorbar": {
             "outlinewidth": 0,
             "ticks": ""
            },
            "colorscale": [
             [
              0,
              "#0d0887"
             ],
             [
              0.1111111111111111,
              "#46039f"
             ],
             [
              0.2222222222222222,
              "#7201a8"
             ],
             [
              0.3333333333333333,
              "#9c179e"
             ],
             [
              0.4444444444444444,
              "#bd3786"
             ],
             [
              0.5555555555555556,
              "#d8576b"
             ],
             [
              0.6666666666666666,
              "#ed7953"
             ],
             [
              0.7777777777777778,
              "#fb9f3a"
             ],
             [
              0.8888888888888888,
              "#fdca26"
             ],
             [
              1,
              "#f0f921"
             ]
            ],
            "type": "contour"
           }
          ],
          "contourcarpet": [
           {
            "colorbar": {
             "outlinewidth": 0,
             "ticks": ""
            },
            "type": "contourcarpet"
           }
          ],
          "heatmap": [
           {
            "colorbar": {
             "outlinewidth": 0,
             "ticks": ""
            },
            "colorscale": [
             [
              0,
              "#0d0887"
             ],
             [
              0.1111111111111111,
              "#46039f"
             ],
             [
              0.2222222222222222,
              "#7201a8"
             ],
             [
              0.3333333333333333,
              "#9c179e"
             ],
             [
              0.4444444444444444,
              "#bd3786"
             ],
             [
              0.5555555555555556,
              "#d8576b"
             ],
             [
              0.6666666666666666,
              "#ed7953"
             ],
             [
              0.7777777777777778,
              "#fb9f3a"
             ],
             [
              0.8888888888888888,
              "#fdca26"
             ],
             [
              1,
              "#f0f921"
             ]
            ],
            "type": "heatmap"
           }
          ],
          "heatmapgl": [
           {
            "colorbar": {
             "outlinewidth": 0,
             "ticks": ""
            },
            "colorscale": [
             [
              0,
              "#0d0887"
             ],
             [
              0.1111111111111111,
              "#46039f"
             ],
             [
              0.2222222222222222,
              "#7201a8"
             ],
             [
              0.3333333333333333,
              "#9c179e"
             ],
             [
              0.4444444444444444,
              "#bd3786"
             ],
             [
              0.5555555555555556,
              "#d8576b"
             ],
             [
              0.6666666666666666,
              "#ed7953"
             ],
             [
              0.7777777777777778,
              "#fb9f3a"
             ],
             [
              0.8888888888888888,
              "#fdca26"
             ],
             [
              1,
              "#f0f921"
             ]
            ],
            "type": "heatmapgl"
           }
          ],
          "histogram": [
           {
            "marker": {
             "pattern": {
              "fillmode": "overlay",
              "size": 10,
              "solidity": 0.2
             }
            },
            "type": "histogram"
           }
          ],
          "histogram2d": [
           {
            "colorbar": {
             "outlinewidth": 0,
             "ticks": ""
            },
            "colorscale": [
             [
              0,
              "#0d0887"
             ],
             [
              0.1111111111111111,
              "#46039f"
             ],
             [
              0.2222222222222222,
              "#7201a8"
             ],
             [
              0.3333333333333333,
              "#9c179e"
             ],
             [
              0.4444444444444444,
              "#bd3786"
             ],
             [
              0.5555555555555556,
              "#d8576b"
             ],
             [
              0.6666666666666666,
              "#ed7953"
             ],
             [
              0.7777777777777778,
              "#fb9f3a"
             ],
             [
              0.8888888888888888,
              "#fdca26"
             ],
             [
              1,
              "#f0f921"
             ]
            ],
            "type": "histogram2d"
           }
          ],
          "histogram2dcontour": [
           {
            "colorbar": {
             "outlinewidth": 0,
             "ticks": ""
            },
            "colorscale": [
             [
              0,
              "#0d0887"
             ],
             [
              0.1111111111111111,
              "#46039f"
             ],
             [
              0.2222222222222222,
              "#7201a8"
             ],
             [
              0.3333333333333333,
              "#9c179e"
             ],
             [
              0.4444444444444444,
              "#bd3786"
             ],
             [
              0.5555555555555556,
              "#d8576b"
             ],
             [
              0.6666666666666666,
              "#ed7953"
             ],
             [
              0.7777777777777778,
              "#fb9f3a"
             ],
             [
              0.8888888888888888,
              "#fdca26"
             ],
             [
              1,
              "#f0f921"
             ]
            ],
            "type": "histogram2dcontour"
           }
          ],
          "mesh3d": [
           {
            "colorbar": {
             "outlinewidth": 0,
             "ticks": ""
            },
            "type": "mesh3d"
           }
          ],
          "parcoords": [
           {
            "line": {
             "colorbar": {
              "outlinewidth": 0,
              "ticks": ""
             }
            },
            "type": "parcoords"
           }
          ],
          "pie": [
           {
            "automargin": true,
            "type": "pie"
           }
          ],
          "scatter": [
           {
            "fillpattern": {
             "fillmode": "overlay",
             "size": 10,
             "solidity": 0.2
            },
            "type": "scatter"
           }
          ],
          "scatter3d": [
           {
            "line": {
             "colorbar": {
              "outlinewidth": 0,
              "ticks": ""
             }
            },
            "marker": {
             "colorbar": {
              "outlinewidth": 0,
              "ticks": ""
             }
            },
            "type": "scatter3d"
           }
          ],
          "scattercarpet": [
           {
            "marker": {
             "colorbar": {
              "outlinewidth": 0,
              "ticks": ""
             }
            },
            "type": "scattercarpet"
           }
          ],
          "scattergeo": [
           {
            "marker": {
             "colorbar": {
              "outlinewidth": 0,
              "ticks": ""
             }
            },
            "type": "scattergeo"
           }
          ],
          "scattergl": [
           {
            "marker": {
             "colorbar": {
              "outlinewidth": 0,
              "ticks": ""
             }
            },
            "type": "scattergl"
           }
          ],
          "scattermapbox": [
           {
            "marker": {
             "colorbar": {
              "outlinewidth": 0,
              "ticks": ""
             }
            },
            "type": "scattermapbox"
           }
          ],
          "scatterpolar": [
           {
            "marker": {
             "colorbar": {
              "outlinewidth": 0,
              "ticks": ""
             }
            },
            "type": "scatterpolar"
           }
          ],
          "scatterpolargl": [
           {
            "marker": {
             "colorbar": {
              "outlinewidth": 0,
              "ticks": ""
             }
            },
            "type": "scatterpolargl"
           }
          ],
          "scatterternary": [
           {
            "marker": {
             "colorbar": {
              "outlinewidth": 0,
              "ticks": ""
             }
            },
            "type": "scatterternary"
           }
          ],
          "surface": [
           {
            "colorbar": {
             "outlinewidth": 0,
             "ticks": ""
            },
            "colorscale": [
             [
              0,
              "#0d0887"
             ],
             [
              0.1111111111111111,
              "#46039f"
             ],
             [
              0.2222222222222222,
              "#7201a8"
             ],
             [
              0.3333333333333333,
              "#9c179e"
             ],
             [
              0.4444444444444444,
              "#bd3786"
             ],
             [
              0.5555555555555556,
              "#d8576b"
             ],
             [
              0.6666666666666666,
              "#ed7953"
             ],
             [
              0.7777777777777778,
              "#fb9f3a"
             ],
             [
              0.8888888888888888,
              "#fdca26"
             ],
             [
              1,
              "#f0f921"
             ]
            ],
            "type": "surface"
           }
          ],
          "table": [
           {
            "cells": {
             "fill": {
              "color": "#EBF0F8"
             },
             "line": {
              "color": "white"
             }
            },
            "header": {
             "fill": {
              "color": "#C8D4E3"
             },
             "line": {
              "color": "white"
             }
            },
            "type": "table"
           }
          ]
         },
         "layout": {
          "annotationdefaults": {
           "arrowcolor": "#2a3f5f",
           "arrowhead": 0,
           "arrowwidth": 1
          },
          "autotypenumbers": "strict",
          "coloraxis": {
           "colorbar": {
            "outlinewidth": 0,
            "ticks": ""
           }
          },
          "colorscale": {
           "diverging": [
            [
             0,
             "#8e0152"
            ],
            [
             0.1,
             "#c51b7d"
            ],
            [
             0.2,
             "#de77ae"
            ],
            [
             0.3,
             "#f1b6da"
            ],
            [
             0.4,
             "#fde0ef"
            ],
            [
             0.5,
             "#f7f7f7"
            ],
            [
             0.6,
             "#e6f5d0"
            ],
            [
             0.7,
             "#b8e186"
            ],
            [
             0.8,
             "#7fbc41"
            ],
            [
             0.9,
             "#4d9221"
            ],
            [
             1,
             "#276419"
            ]
           ],
           "sequential": [
            [
             0,
             "#0d0887"
            ],
            [
             0.1111111111111111,
             "#46039f"
            ],
            [
             0.2222222222222222,
             "#7201a8"
            ],
            [
             0.3333333333333333,
             "#9c179e"
            ],
            [
             0.4444444444444444,
             "#bd3786"
            ],
            [
             0.5555555555555556,
             "#d8576b"
            ],
            [
             0.6666666666666666,
             "#ed7953"
            ],
            [
             0.7777777777777778,
             "#fb9f3a"
            ],
            [
             0.8888888888888888,
             "#fdca26"
            ],
            [
             1,
             "#f0f921"
            ]
           ],
           "sequentialminus": [
            [
             0,
             "#0d0887"
            ],
            [
             0.1111111111111111,
             "#46039f"
            ],
            [
             0.2222222222222222,
             "#7201a8"
            ],
            [
             0.3333333333333333,
             "#9c179e"
            ],
            [
             0.4444444444444444,
             "#bd3786"
            ],
            [
             0.5555555555555556,
             "#d8576b"
            ],
            [
             0.6666666666666666,
             "#ed7953"
            ],
            [
             0.7777777777777778,
             "#fb9f3a"
            ],
            [
             0.8888888888888888,
             "#fdca26"
            ],
            [
             1,
             "#f0f921"
            ]
           ]
          },
          "colorway": [
           "#636efa",
           "#EF553B",
           "#00cc96",
           "#ab63fa",
           "#FFA15A",
           "#19d3f3",
           "#FF6692",
           "#B6E880",
           "#FF97FF",
           "#FECB52"
          ],
          "font": {
           "color": "#2a3f5f"
          },
          "geo": {
           "bgcolor": "white",
           "lakecolor": "white",
           "landcolor": "white",
           "showlakes": true,
           "showland": true,
           "subunitcolor": "#C8D4E3"
          },
          "hoverlabel": {
           "align": "left"
          },
          "hovermode": "closest",
          "mapbox": {
           "style": "light"
          },
          "paper_bgcolor": "white",
          "plot_bgcolor": "white",
          "polar": {
           "angularaxis": {
            "gridcolor": "#EBF0F8",
            "linecolor": "#EBF0F8",
            "ticks": ""
           },
           "bgcolor": "white",
           "radialaxis": {
            "gridcolor": "#EBF0F8",
            "linecolor": "#EBF0F8",
            "ticks": ""
           }
          },
          "scene": {
           "xaxis": {
            "backgroundcolor": "white",
            "gridcolor": "#DFE8F3",
            "gridwidth": 2,
            "linecolor": "#EBF0F8",
            "showbackground": true,
            "ticks": "",
            "zerolinecolor": "#EBF0F8"
           },
           "yaxis": {
            "backgroundcolor": "white",
            "gridcolor": "#DFE8F3",
            "gridwidth": 2,
            "linecolor": "#EBF0F8",
            "showbackground": true,
            "ticks": "",
            "zerolinecolor": "#EBF0F8"
           },
           "zaxis": {
            "backgroundcolor": "white",
            "gridcolor": "#DFE8F3",
            "gridwidth": 2,
            "linecolor": "#EBF0F8",
            "showbackground": true,
            "ticks": "",
            "zerolinecolor": "#EBF0F8"
           }
          },
          "shapedefaults": {
           "line": {
            "color": "#2a3f5f"
           }
          },
          "ternary": {
           "aaxis": {
            "gridcolor": "#DFE8F3",
            "linecolor": "#A2B1C6",
            "ticks": ""
           },
           "baxis": {
            "gridcolor": "#DFE8F3",
            "linecolor": "#A2B1C6",
            "ticks": ""
           },
           "bgcolor": "white",
           "caxis": {
            "gridcolor": "#DFE8F3",
            "linecolor": "#A2B1C6",
            "ticks": ""
           }
          },
          "title": {
           "x": 0.05
          },
          "xaxis": {
           "automargin": true,
           "gridcolor": "#EBF0F8",
           "linecolor": "#EBF0F8",
           "ticks": "",
           "title": {
            "standoff": 15
           },
           "zerolinecolor": "#EBF0F8",
           "zerolinewidth": 2
          },
          "yaxis": {
           "automargin": true,
           "gridcolor": "#EBF0F8",
           "linecolor": "#EBF0F8",
           "ticks": "",
           "title": {
            "standoff": 15
           },
           "zerolinecolor": "#EBF0F8",
           "zerolinewidth": 2
          }
         }
        },
        "title": {
         "font": {
          "color": "Darkred",
          "size": 18
         },
         "text": "<b> Prediction of Omicron Cases in India on July 2022<b>",
         "x": 0.5
        },
        "xaxis": {
         "autorange": true,
         "range": [
          "2020-05-11",
          "2022-07-01"
         ],
         "type": "date"
        },
        "yaxis": {
         "autorange": true,
         "range": [
          -4828,
          204532
         ],
         "type": "linear"
        }
       }
      },
      "image/png": "[encoded data removed]",
      "text/html": [
       "<div>                            <div id=\"130264a9-5139-45b9-aff6-d68ff2c2fc4b\" class=\"plotly-graph-div\" style=\"height:525px; width:100%;\"></div>            <script type=\"text/javascript\">                require([\"plotly\"], function(Plotly) {                    window.PLOTLYENV=window.PLOTLYENV || {};                                    if (document.getElementById(\"130264a9-5139-45b9-aff6-d68ff2c2fc4b\")) {                    Plotly.newPlot(                        \"130264a9-5139-45b9-aff6-d68ff2c2fc4b\",                        [{\"marker\":{\"color\":\"DarkBlue\"},\"mode\":\"lines\",\"name\":\"Omicron in India\",\"x\":[\"2020-05-11\",\"2020-05-25\",\"2020-06-08\",\"2020-06-22\",\"2020-07-06\",\"2020-07-20\",\"2020-08-03\",\"2020-08-17\",\"2020-08-31\",\"2020-09-14\",\"2020-09-28\",\"2020-10-12\",\"2020-10-26\",\"2020-11-09\",\"2020-11-23\",\"2020-12-07\",\"2020-12-21\",\"2021-01-04\",\"2021-01-11\",\"2021-01-25\",\"2021-02-08\",\"2021-02-22\",\"2021-03-08\",\"2021-03-22\",\"2021-04-05\",\"2021-04-19\",\"2021-05-03\",\"2021-05-17\",\"2021-05-31\",\"2021-06-14\",\"2021-06-28\",\"2021-07-12\",\"2021-07-26\",\"2021-08-09\",\"2021-08-23\",\"2021-09-06\",\"2021-09-20\",\"2021-10-04\",\"2021-10-18\",\"2021-11-01\",\"2021-11-15\",\"2021-11-29\",\"2021-12-13\",\"2021-12-27\",\"2022-07-01\"],\"y\":[11304.0,15576.0,14808.0,18384.0,6624.0,7608.0,9432.0,10032.0,5640.0,10152.0,9528.0,9816.0,7896.0,8496.0,6864.0,27120.0,37104.0,31032.0,14016.0,28080.0,32064.0,40728.0,59472.0,90264.0,113616.0,179112.0,194064.0,154008.0,128352.0,102192.0,90696.0,81792.0,78840.0,69312.0,63480.0,87768.0,77376.0,58464.0,47472.0,42744.0,32688.0,32640.0,26040.0,11976.0,108956.10356068611],\"type\":\"scatter\"},{\"name\":\"Regression Fit\",\"x\":[\"2020-05-11\",\"2020-05-25\",\"2020-06-08\",\"2020-06-22\",\"2020-07-06\",\"2020-07-20\",\"2020-08-03\",\"2020-08-17\",\"2020-08-31\",\"2020-09-14\",\"2020-09-28\",\"2020-10-12\",\"2020-10-26\",\"2020-11-09\",\"2020-11-23\",\"2020-12-07\",\"2020-12-21\",\"2021-01-04\",\"2021-01-11\",\"2021-01-25\",\"2021-02-08\",\"2021-02-22\",\"2021-03-08\",\"2021-03-22\",\"2021-04-05\",\"2021-04-19\",\"2021-05-03\",\"2021-05-17\",\"2021-05-31\",\"2021-06-14\",\"2021-06-28\",\"2021-07-12\",\"2021-07-26\",\"2021-08-09\",\"2021-08-23\",\"2021-09-06\",\"2021-09-20\",\"2021-10-04\",\"2021-10-18\",\"2021-11-01\",\"2021-11-15\",\"2021-11-29\",\"2021-12-13\",\"2021-12-27\",\"2022-07-01\"],\"y\":[13287.21281056106,15002.148112088442,16717.083413630724,18432.018715173006,20146.954016715288,21861.88931824267,23576.82461978495,25291.759921327233,27006.695222869515,28721.630524396896,30436.56582593918,32151.50112748146,33866.43642902374,35581.37173055112,37296.307032093406,39011.24233363569,40726.17763517797,42441.11293670535,43298.58058747649,45013.515889018774,46728.451190561056,48443.38649210334,50158.32179363072,51873.257095173,53588.19239671528,55303.127698257565,57018.06299978495,58732.99830132723,60447.93360286951,62162.86890441179,63877.804205939174,65592.73950748146,67307.67480902374,69022.61011056602,70737.5454121083,72452.48071363568,74167.41601517797,75882.35131672025,77597.28661826253,79312.22191978991,81027.15722133219,82742.09252287447,84457.02782441676,86171.96312594414,108956.10356068611],\"type\":\"scatter\"}],                        {\"template\":{\"data\":{\"barpolar\":[{\"marker\":{\"line\":{\"color\":\"white\",\"width\":0.5},\"pattern\":{\"fillmode\":\"overlay\",\"size\":10,\"solidity\":0.2}},\"type\":\"barpolar\"}],\"bar\":[{\"error_x\":{\"color\":\"#2a3f5f\"},\"error_y\":{\"color\":\"#2a3f5f\"},\"marker\":{\"line\":{\"color\":\"white\",\"width\":0.5},\"pattern\":{\"fillmode\":\"overlay\",\"size\":10,\"solidity\":0.2}},\"type\":\"bar\"}],\"carpet\":[{\"aaxis\":{\"endlinecolor\":\"#2a3f5f\",\"gridcolor\":\"#C8D4E3\",\"linecolor\":\"#C8D4E3\",\"minorgridcolor\":\"#C8D4E3\",\"startlinecolor\":\"#2a3f5f\"},\"baxis\":{\"endlinecolor\":\"#2a3f5f\",\"gridcolor\":\"#C8D4E3\",\"linecolor\":\"#C8D4E3\",\"minorgridcolor\":\"#C8D4E3\",\"startlinecolor\":\"#2a3f5f\"},\"type\":\"carpet\"}],\"choropleth\":[{\"colorbar\":{\"outlinewidth\":0,\"ticks\":\"\"},\"type\":\"choropleth\"}],\"contourcarpet\":[{\"colorbar\":{\"outlinewidth\":0,\"ticks\":\"\"},\"type\":\"contourcarpet\"}],\"contour\":[{\"colorbar\":{\"outlinewidth\":0,\"ticks\":\"\"},\"colorscale\":[[0.0,\"#0d0887\"],[0.1111111111111111,\"#46039f\"],[0.2222222222222222,\"#7201a8\"],[0.3333333333333333,\"#9c179e\"],[0.4444444444444444,\"#bd3786\"],[0.5555555555555556,\"#d8576b\"],[0.6666666666666666,\"#ed7953\"],[0.7777777777777778,\"#fb9f3a\"],[0.8888888888888888,\"#fdca26\"],[1.0,\"#f0f921\"]],\"type\":\"contour\"}],\"heatmapgl\":[{\"colorbar\":{\"outlinewidth\":0,\"ticks\":\"\"},\"colorscale\":[[0.0,\"#0d0887\"],[0.1111111111111111,\"#46039f\"],[0.2222222222222222,\"#7201a8\"],[0.3333333333333333,\"#9c179e\"],[0.4444444444444444,\"#bd3786\"],[0.5555555555555556,\"#d8576b\"],[0.6666666666666666,\"#ed7953\"],[0.7777777777777778,\"#fb9f3a\"],[0.8888888888888888,\"#fdca26\"],[1.0,\"#f0f921\"]],\"type\":\"heatmapgl\"}],\"heatmap\":[{\"colorbar\":{\"outlinewidth\":0,\"ticks\":\"\"},\"colorscale\":[[0.0,\"#0d0887\"],[0.1111111111111111,\"#46039f\"],[0.2222222222222222,\"#7201a8\"],[0.3333333333333333,\"#9c179e\"],[0.4444444444444444,\"#bd3786\"],[0.5555555555555556,\"#d8576b\"],[0.6666666666666666,\"#ed7953\"],[0.7777777777777778,\"#fb9f3a\"],[0.8888888888888888,\"#fdca26\"],[1.0,\"#f0f921\"]],\"type\":\"heatmap\"}],\"histogram2dcontour\":[{\"colorbar\":{\"outlinewidth\":0,\"ticks\":\"\"},\"colorscale\":[[0.0,\"#0d0887\"],[0.1111111111111111,\"#46039f\"],[0.2222222222222222,\"#7201a8\"],[0.3333333333333333,\"#9c179e\"],[0.4444444444444444,\"#bd3786\"],[0.5555555555555556,\"#d8576b\"],[0.6666666666666666,\"#ed7953\"],[0.7777777777777778,\"#fb9f3a\"],[0.8888888888888888,\"#fdca26\"],[1.0,\"#f0f921\"]],\"type\":\"histogram2dcontour\"}],\"histogram2d\":[{\"colorbar\":{\"outlinewidth\":0,\"ticks\":\"\"},\"colorscale\":[[0.0,\"#0d0887\"],[0.1111111111111111,\"#46039f\"],[0.2222222222222222,\"#7201a8\"],[0.3333333333333333,\"#9c179e\"],[0.4444444444444444,\"#bd3786\"],[0.5555555555555556,\"#d8576b\"],[0.6666666666666666,\"#ed7953\"],[0.7777777777777778,\"#fb9f3a\"],[0.8888888888888888,\"#fdca26\"],[1.0,\"#f0f921\"]],\"type\":\"histogram2d\"}],\"histogram\":[{\"marker\":{\"pattern\":{\"fillmode\":\"overlay\",\"size\":10,\"solidity\":0.2}},\"type\":\"histogram\"}],\"mesh3d\":[{\"colorbar\":{\"outlinewidth\":0,\"ticks\":\"\"},\"type\":\"mesh3d\"}],\"parcoords\":[{\"line\":{\"colorbar\":{\"outlinewidth\":0,\"ticks\":\"\"}},\"type\":\"parcoords\"}],\"pie\":[{\"automargin\":true,\"type\":\"pie\"}],\"scatter3d\":[{\"line\":{\"colorbar\":{\"outlinewidth\":0,\"ticks\":\"\"}},\"marker\":{\"colorbar\":{\"outlinewidth\":0,\"ticks\":\"\"}},\"type\":\"scatter3d\"}],\"scattercarpet\":[{\"marker\":{\"colorbar\":{\"outlinewidth\":0,\"ticks\":\"\"}},\"type\":\"scattercarpet\"}],\"scattergeo\":[{\"marker\":{\"colorbar\":{\"outlinewidth\":0,\"ticks\":\"\"}},\"type\":\"scattergeo\"}],\"scattergl\":[{\"marker\":{\"colorbar\":{\"outlinewidth\":0,\"ticks\":\"\"}},\"type\":\"scattergl\"}],\"scattermapbox\":[{\"marker\":{\"colorbar\":{\"outlinewidth\":0,\"ticks\":\"\"}},\"type\":\"scattermapbox\"}],\"scatterpolargl\":[{\"marker\":{\"colorbar\":{\"outlinewidth\":0,\"ticks\":\"\"}},\"type\":\"scatterpolargl\"}],\"scatterpolar\":[{\"marker\":{\"colorbar\":{\"outlinewidth\":0,\"ticks\":\"\"}},\"type\":\"scatterpolar\"}],\"scatter\":[{\"fillpattern\":{\"fillmode\":\"overlay\",\"size\":10,\"solidity\":0.2},\"type\":\"scatter\"}],\"scatterternary\":[{\"marker\":{\"colorbar\":{\"outlinewidth\":0,\"ticks\":\"\"}},\"type\":\"scatterternary\"}],\"surface\":[{\"colorbar\":{\"outlinewidth\":0,\"ticks\":\"\"},\"colorscale\":[[0.0,\"#0d0887\"],[0.1111111111111111,\"#46039f\"],[0.2222222222222222,\"#7201a8\"],[0.3333333333333333,\"#9c179e\"],[0.4444444444444444,\"#bd3786\"],[0.5555555555555556,\"#d8576b\"],[0.6666666666666666,\"#ed7953\"],[0.7777777777777778,\"#fb9f3a\"],[0.8888888888888888,\"#fdca26\"],[1.0,\"#f0f921\"]],\"type\":\"surface\"}],\"table\":[{\"cells\":{\"fill\":{\"color\":\"#EBF0F8\"},\"line\":{\"color\":\"white\"}},\"header\":{\"fill\":{\"color\":\"#C8D4E3\"},\"line\":{\"color\":\"white\"}},\"type\":\"table\"}]},\"layout\":{\"annotationdefaults\":{\"arrowcolor\":\"#2a3f5f\",\"arrowhead\":0,\"arrowwidth\":1},\"autotypenumbers\":\"strict\",\"coloraxis\":{\"colorbar\":{\"outlinewidth\":0,\"ticks\":\"\"}},\"colorscale\":{\"diverging\":[[0,\"#8e0152\"],[0.1,\"#c51b7d\"],[0.2,\"#de77ae\"],[0.3,\"#f1b6da\"],[0.4,\"#fde0ef\"],[0.5,\"#f7f7f7\"],[0.6,\"#e6f5d0\"],[0.7,\"#b8e186\"],[0.8,\"#7fbc41\"],[0.9,\"#4d9221\"],[1,\"#276419\"]],\"sequential\":[[0.0,\"#0d0887\"],[0.1111111111111111,\"#46039f\"],[0.2222222222222222,\"#7201a8\"],[0.3333333333333333,\"#9c179e\"],[0.4444444444444444,\"#bd3786\"],[0.5555555555555556,\"#d8576b\"],[0.6666666666666666,\"#ed7953\"],[0.7777777777777778,\"#fb9f3a\"],[0.8888888888888888,\"#fdca26\"],[1.0,\"#f0f921\"]],\"sequentialminus\":[[0.0,\"#0d0887\"],[0.1111111111111111,\"#46039f\"],[0.2222222222222222,\"#7201a8\"],[0.3333333333333333,\"#9c179e\"],[0.4444444444444444,\"#bd3786\"],[0.5555555555555556,\"#d8576b\"],[0.6666666666666666,\"#ed7953\"],[0.7777777777777778,\"#fb9f3a\"],[0.8888888888888888,\"#fdca26\"],[1.0,\"#f0f921\"]]},\"colorway\":[\"#636efa\",\"#EF553B\",\"#00cc96\",\"#ab63fa\",\"#FFA15A\",\"#19d3f3\",\"#FF6692\",\"#B6E880\",\"#FF97FF\",\"#FECB52\"],\"font\":{\"color\":\"#2a3f5f\"},\"geo\":{\"bgcolor\":\"white\",\"lakecolor\":\"white\",\"landcolor\":\"white\",\"showlakes\":true,\"showland\":true,\"subunitcolor\":\"#C8D4E3\"},\"hoverlabel\":{\"align\":\"left\"},\"hovermode\":\"closest\",\"mapbox\":{\"style\":\"light\"},\"paper_bgcolor\":\"white\",\"plot_bgcolor\":\"white\",\"polar\":{\"angularaxis\":{\"gridcolor\":\"#EBF0F8\",\"linecolor\":\"#EBF0F8\",\"ticks\":\"\"},\"bgcolor\":\"white\",\"radialaxis\":{\"gridcolor\":\"#EBF0F8\",\"linecolor\":\"#EBF0F8\",\"ticks\":\"\"}},\"scene\":{\"xaxis\":{\"backgroundcolor\":\"white\",\"gridcolor\":\"#DFE8F3\",\"gridwidth\":2,\"linecolor\":\"#EBF0F8\",\"showbackground\":true,\"ticks\":\"\",\"zerolinecolor\":\"#EBF0F8\"},\"yaxis\":{\"backgroundcolor\":\"white\",\"gridcolor\":\"#DFE8F3\",\"gridwidth\":2,\"linecolor\":\"#EBF0F8\",\"showbackground\":true,\"ticks\":\"\",\"zerolinecolor\":\"#EBF0F8\"},\"zaxis\":{\"backgroundcolor\":\"white\",\"gridcolor\":\"#DFE8F3\",\"gridwidth\":2,\"linecolor\":\"#EBF0F8\",\"showbackground\":true,\"ticks\":\"\",\"zerolinecolor\":\"#EBF0F8\"}},\"shapedefaults\":{\"line\":{\"color\":\"#2a3f5f\"}},\"ternary\":{\"aaxis\":{\"gridcolor\":\"#DFE8F3\",\"linecolor\":\"#A2B1C6\",\"ticks\":\"\"},\"baxis\":{\"gridcolor\":\"#DFE8F3\",\"linecolor\":\"#A2B1C6\",\"ticks\":\"\"},\"bgcolor\":\"white\",\"caxis\":{\"gridcolor\":\"#DFE8F3\",\"linecolor\":\"#A2B1C6\",\"ticks\":\"\"}},\"title\":{\"x\":0.05},\"xaxis\":{\"automargin\":true,\"gridcolor\":\"#EBF0F8\",\"linecolor\":\"#EBF0F8\",\"ticks\":\"\",\"title\":{\"standoff\":15},\"zerolinecolor\":\"#EBF0F8\",\"zerolinewidth\":2},\"yaxis\":{\"automargin\":true,\"gridcolor\":\"#EBF0F8\",\"linecolor\":\"#EBF0F8\",\"ticks\":\"\",\"title\":{\"standoff\":15},\"zerolinecolor\":\"#EBF0F8\",\"zerolinewidth\":2}}},\"title\":{\"text\":\"\\u003cb\\u003e Prediction of Omicron Cases in India on July 2022\\u003cb\\u003e\",\"x\":0.5,\"font\":{\"size\":18,\"color\":\"Darkred\"}}},                        {\"responsive\": true}                    ).then(function(){\n",
       "                            \n",
       "var gd = document.getElementById('130264a9-5139-45b9-aff6-d68ff2c2fc4b');\n",
       "var x = new MutationObserver(function (mutations, observer) {{\n",
       "        var display = window.getComputedStyle(gd).display;\n",
       "        if (!display || display === 'none') {{\n",
       "            console.log([gd, 'removed!']);\n",
       "            Plotly.purge(gd);\n",
       "            observer.disconnect();\n",
       "        }}\n",
       "}});\n",
       "\n",
       "// Listen for the removal of the full notebook cells\n",
       "var notebookContainer = gd.closest('#notebook-container');\n",
       "if (notebookContainer) {{\n",
       "    x.observe(notebookContainer, {childList: true});\n",
       "}}\n",
       "\n",
       "// Listen for the clearing of the current output cell\n",
       "var outputEl = gd.closest('.output');\n",
       "if (outputEl) {{\n",
       "    x.observe(outputEl, {childList: true});\n",
       "}}\n",
       "\n",
       "                        })                };                });            </script>        </div>"
      ]
     },
     "metadata": {},
     "output_type": "display_data"
    }
   ],
   "source": [
    "fig = go.Figure()\n",
    "\n",
    "fig.add_trace(go.Scatter(x = df_ind_omi['date'],\n",
    "                         y = df_ind_omi['Total'],\n",
    "                         mode = 'lines',\n",
    "                         name = 'Omicron in India',\n",
    "                         marker_color = 'DarkBlue'))\n",
    "fig.add_traces(go.Scatter(x=df_ind_omi['date'], y=model.predict(df_ind_omi[['datetime']]), name='Regression Fit'))\n",
    "\n",
    "fig.update_layout(title = '<b> Prediction of Omicron Cases in India on July 2022<b>',\n",
    "                  title_x = 0.5,\n",
    "                  title_font = dict(size = 18, color = 'Darkred'),\n",
    "                  template = 'plotly_white')\n",
    "\n",
    "fig.show()"
   ]
  },
  {
   "cell_type": "markdown",
   "metadata": {},
   "source": [
    "<h3> List two distinct learnings by individual student specifying the name of the student in the group and append this as \"OBSERVATION SECTION\""
   ]
  },
  {
   "cell_type": "markdown",
   "metadata": {},
   "source": [
    "## Observation"
   ]
  },
  {
   "cell_type": "code",
   "execution_count": null,
   "metadata": {},
   "outputs": [],
   "source": []
  },
  {
   "cell_type": "code",
   "execution_count": null,
   "metadata": {},
   "outputs": [],
   "source": []
  },
  {
   "cell_type": "code",
   "execution_count": null,
   "metadata": {},
   "outputs": [],
   "source": []
  },
  {
   "cell_type": "markdown",
   "metadata": {
    "id": "Dy22QpOZnDUK"
   },
   "source": [
    "<h1><center> ************ END OF ASSIGNMENT ****************</center></h1>"
   ]
  }
 ],
 "metadata": {
  "anaconda-cloud": {},
  "colab": {
   "collapsed_sections": [],
   "name": "dvi-a2-ps1-wb.ipynb",
   "provenance": []
  },
  "kernelspec": {
   "display_name": "Python 3 (ipykernel)",
   "language": "python",
   "name": "python3"
  },
  "language_info": {
   "codemirror_mode": {
    "name": "ipython",
    "version": 3
   },
   "file_extension": ".py",
   "mimetype": "text/x-python",
   "name": "python",
   "nbconvert_exporter": "python",
   "pygments_lexer": "ipython3",
   "version": "3.11.3"
  }
 },
 "nbformat": 4,
 "nbformat_minor": 4
}
